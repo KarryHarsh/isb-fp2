{
 "cells": [
  {
   "cell_type": "code",
   "execution_count": 1,
   "id": "4836d6f0",
   "metadata": {
    "execution": {
     "iopub.execute_input": "2023-02-25T15:00:12.864723Z",
     "iopub.status.busy": "2023-02-25T15:00:12.863712Z",
     "iopub.status.idle": "2023-02-25T15:00:13.574333Z",
     "shell.execute_reply": "2023-02-25T15:00:13.573336Z"
    },
    "papermill": {
     "duration": 0.718647,
     "end_time": "2023-02-25T15:00:13.576343",
     "exception": false,
     "start_time": "2023-02-25T15:00:12.857696",
     "status": "completed"
    },
    "tags": []
   },
   "outputs": [],
   "source": [
    "#!pip install pandas-datareader\n",
    "import pandas as pd"
   ]
  },
  {
   "cell_type": "code",
   "execution_count": 2,
   "id": "541ff1af",
   "metadata": {
    "execution": {
     "iopub.execute_input": "2023-02-25T15:00:13.583658Z",
     "iopub.status.busy": "2023-02-25T15:00:13.583658Z",
     "iopub.status.idle": "2023-02-25T15:00:13.589946Z",
     "shell.execute_reply": "2023-02-25T15:00:13.588699Z"
    },
    "papermill": {
     "duration": 0.011621,
     "end_time": "2023-02-25T15:00:13.590957",
     "exception": false,
     "start_time": "2023-02-25T15:00:13.579336",
     "status": "completed"
    },
    "tags": [
     "parameters"
    ]
   },
   "outputs": [],
   "source": [
    "FROM = \"2001-01-01\"\n",
    "TO = \"2023-02-01\"\n",
    "COUNTRY = \"US\"\n",
    "\n",
    "dataset_dir  = \"datadir\\\\datasets\""
   ]
  },
  {
   "cell_type": "code",
   "execution_count": 3,
   "id": "40c514e8",
   "metadata": {
    "execution": {
     "iopub.execute_input": "2023-02-25T15:00:13.597476Z",
     "iopub.status.busy": "2023-02-25T15:00:13.597476Z",
     "iopub.status.idle": "2023-02-25T15:00:13.622786Z",
     "shell.execute_reply": "2023-02-25T15:00:13.620235Z"
    },
    "papermill": {
     "duration": 0.030562,
     "end_time": "2023-02-25T15:00:13.625037",
     "exception": false,
     "start_time": "2023-02-25T15:00:13.594475",
     "status": "completed"
    },
    "tags": []
   },
   "outputs": [
    {
     "data": {
      "text/plain": [
       "WindowsPath('C:/Users/Harsha/Documents/ISB_AMPBA/Term5/FP2/GroupAssignment/project')"
      ]
     },
     "execution_count": 3,
     "metadata": {},
     "output_type": "execute_result"
    }
   ],
   "source": [
    "from typing import Optional\n",
    "from pathlib import Path\n",
    "\n",
    "def find_project_root() -> Optional[Path]:\n",
    "    current = Path(\".\").resolve()\n",
    "    \n",
    "    while True:\n",
    "        if (current / \".git\").exists():\n",
    "            return current\n",
    "        \n",
    "        if current.parent == current:\n",
    "            print(\"WARNING: No .git dir found\")\n",
    "            return current\n",
    "              \n",
    "        current = current.parent\n",
    "        \n",
    "\n",
    "PROJECT_ROOT = find_project_root()\n",
    "PROJECT_ROOT"
   ]
  },
  {
   "cell_type": "code",
   "execution_count": 4,
   "id": "ef9a8913",
   "metadata": {
    "execution": {
     "iopub.execute_input": "2023-02-25T15:00:13.632332Z",
     "iopub.status.busy": "2023-02-25T15:00:13.631324Z",
     "iopub.status.idle": "2023-02-25T15:00:15.337076Z",
     "shell.execute_reply": "2023-02-25T15:00:15.337076Z"
    },
    "papermill": {
     "duration": 1.711553,
     "end_time": "2023-02-25T15:00:15.339875",
     "exception": false,
     "start_time": "2023-02-25T15:00:13.628322",
     "status": "completed"
    },
    "tags": []
   },
   "outputs": [
    {
     "data": {
      "text/html": [
       "<div>\n",
       "<style scoped>\n",
       "    .dataframe tbody tr th:only-of-type {\n",
       "        vertical-align: middle;\n",
       "    }\n",
       "\n",
       "    .dataframe tbody tr th {\n",
       "        vertical-align: top;\n",
       "    }\n",
       "\n",
       "    .dataframe thead th {\n",
       "        text-align: right;\n",
       "    }\n",
       "</style>\n",
       "<table border=\"1\" class=\"dataframe\">\n",
       "  <thead>\n",
       "    <tr style=\"text-align: right;\">\n",
       "      <th>Unit of measure</th>\n",
       "      <th>Thousand Barrels per day (kb/d)</th>\n",
       "    </tr>\n",
       "    <tr>\n",
       "      <th>TIME_PERIOD</th>\n",
       "      <th></th>\n",
       "    </tr>\n",
       "  </thead>\n",
       "  <tbody>\n",
       "    <tr>\n",
       "      <th>2002-01-01</th>\n",
       "      <td>5848</td>\n",
       "    </tr>\n",
       "    <tr>\n",
       "      <th>2002-02-01</th>\n",
       "      <td>5871</td>\n",
       "    </tr>\n",
       "    <tr>\n",
       "      <th>2002-03-01</th>\n",
       "      <td>5883</td>\n",
       "    </tr>\n",
       "    <tr>\n",
       "      <th>2002-04-01</th>\n",
       "      <td>5859</td>\n",
       "    </tr>\n",
       "    <tr>\n",
       "      <th>2002-05-01</th>\n",
       "      <td>5924</td>\n",
       "    </tr>\n",
       "  </tbody>\n",
       "</table>\n",
       "</div>"
      ],
      "text/plain": [
       "Unit of measure  Thousand Barrels per day (kb/d)\n",
       "TIME_PERIOD                                     \n",
       "2002-01-01                                  5848\n",
       "2002-02-01                                  5871\n",
       "2002-03-01                                  5883\n",
       "2002-04-01                                  5859\n",
       "2002-05-01                                  5924"
      ]
     },
     "execution_count": 4,
     "metadata": {},
     "output_type": "execute_result"
    }
   ],
   "source": [
    "import pandas_datareader.data as web\n",
    "df = web.DataReader(\n",
    "    '&'.join([\n",
    "        'dataset=JODI_OIL', \n",
    "        f'from={FROM}', \n",
    "        'h=TIME', \n",
    "        f'to={TO}', \n",
    "        'v=Reference Area', \n",
    "        'ENERGY_PRODUCT=[CRUDEOIL]', \n",
    "        'FLOW_BREAKDOWN=[INDPROD]', \n",
    "        f'REF_AREA=[{COUNTRY}]', \n",
    "        'UNIT_MEASURE=[KBD]'\n",
    "    ]),\n",
    "    'econdb'\n",
    ")\n",
    "df.columns = df.columns.get_level_values(3)\n",
    "df.head()"
   ]
  },
  {
   "cell_type": "code",
   "execution_count": 5,
   "id": "557170f7",
   "metadata": {
    "execution": {
     "iopub.execute_input": "2023-02-25T15:00:15.346399Z",
     "iopub.status.busy": "2023-02-25T15:00:15.346399Z",
     "iopub.status.idle": "2023-02-25T15:00:15.353066Z",
     "shell.execute_reply": "2023-02-25T15:00:15.352561Z"
    },
    "papermill": {
     "duration": 0.010675,
     "end_time": "2023-02-25T15:00:15.354075",
     "exception": false,
     "start_time": "2023-02-25T15:00:15.343400",
     "status": "completed"
    },
    "scrolled": true,
    "tags": []
   },
   "outputs": [],
   "source": [
    "# df.columns = df.columns.get_level_values(3)\n",
    "# df['TIME_PERIOD'] = df.index\n",
    "# # reset the index columns\n",
    "# df.reset_index(drop=True, inplace=True)\n",
    "\n",
    "\n"
   ]
  },
  {
   "cell_type": "code",
   "execution_count": 6,
   "id": "acd63e1e",
   "metadata": {
    "execution": {
     "iopub.execute_input": "2023-02-25T15:00:15.361075Z",
     "iopub.status.busy": "2023-02-25T15:00:15.361075Z",
     "iopub.status.idle": "2023-02-25T15:00:15.368778Z",
     "shell.execute_reply": "2023-02-25T15:00:15.367781Z"
    },
    "papermill": {
     "duration": 0.014527,
     "end_time": "2023-02-25T15:00:15.372601",
     "exception": false,
     "start_time": "2023-02-25T15:00:15.358074",
     "status": "completed"
    },
    "tags": []
   },
   "outputs": [
    {
     "data": {
      "text/html": [
       "<div>\n",
       "<style scoped>\n",
       "    .dataframe tbody tr th:only-of-type {\n",
       "        vertical-align: middle;\n",
       "    }\n",
       "\n",
       "    .dataframe tbody tr th {\n",
       "        vertical-align: top;\n",
       "    }\n",
       "\n",
       "    .dataframe thead th {\n",
       "        text-align: right;\n",
       "    }\n",
       "</style>\n",
       "<table border=\"1\" class=\"dataframe\">\n",
       "  <thead>\n",
       "    <tr style=\"text-align: right;\">\n",
       "      <th></th>\n",
       "      <th>Date</th>\n",
       "      <th>production</th>\n",
       "    </tr>\n",
       "  </thead>\n",
       "  <tbody>\n",
       "    <tr>\n",
       "      <th>0</th>\n",
       "      <td>2002-01-01</td>\n",
       "      <td>5848</td>\n",
       "    </tr>\n",
       "    <tr>\n",
       "      <th>1</th>\n",
       "      <td>2002-02-01</td>\n",
       "      <td>5871</td>\n",
       "    </tr>\n",
       "    <tr>\n",
       "      <th>2</th>\n",
       "      <td>2002-03-01</td>\n",
       "      <td>5883</td>\n",
       "    </tr>\n",
       "    <tr>\n",
       "      <th>3</th>\n",
       "      <td>2002-04-01</td>\n",
       "      <td>5859</td>\n",
       "    </tr>\n",
       "    <tr>\n",
       "      <th>4</th>\n",
       "      <td>2002-05-01</td>\n",
       "      <td>5924</td>\n",
       "    </tr>\n",
       "  </tbody>\n",
       "</table>\n",
       "</div>"
      ],
      "text/plain": [
       "        Date  production\n",
       "0 2002-01-01        5848\n",
       "1 2002-02-01        5871\n",
       "2 2002-03-01        5883\n",
       "3 2002-04-01        5859\n",
       "4 2002-05-01        5924"
      ]
     },
     "execution_count": 6,
     "metadata": {},
     "output_type": "execute_result"
    }
   ],
   "source": [
    "df2 = pd.DataFrame(df.index.to_list(), columns=['Date'])\n",
    "df2[\"production\"] = df['Thousand Barrels per day (kb/d)'].to_list() \n",
    "df2.head()"
   ]
  },
  {
   "cell_type": "code",
   "execution_count": 7,
   "id": "3fe614fb",
   "metadata": {
    "execution": {
     "iopub.execute_input": "2023-02-25T15:00:15.378988Z",
     "iopub.status.busy": "2023-02-25T15:00:15.378988Z",
     "iopub.status.idle": "2023-02-25T15:00:15.399888Z",
     "shell.execute_reply": "2023-02-25T15:00:15.399031Z"
    },
    "papermill": {
     "duration": 0.027417,
     "end_time": "2023-02-25T15:00:15.402394",
     "exception": false,
     "start_time": "2023-02-25T15:00:15.374977",
     "status": "completed"
    },
    "tags": []
   },
   "outputs": [],
   "source": [
    "# python program to check if a path exists\n",
    "#if path doesn’t exist we create a new path\n",
    "from pathlib import Path\n",
    "\n",
    "#creating a new directory called pythondirectory\n",
    "Path(f\"{PROJECT_ROOT}\\\\{dataset_dir}\\\\\").mkdir(parents=True, exist_ok=True)"
   ]
  },
  {
   "cell_type": "code",
   "execution_count": 8,
   "id": "4e736dff",
   "metadata": {
    "execution": {
     "iopub.execute_input": "2023-02-25T15:00:15.408617Z",
     "iopub.status.busy": "2023-02-25T15:00:15.408617Z",
     "iopub.status.idle": "2023-02-25T15:00:15.461260Z",
     "shell.execute_reply": "2023-02-25T15:00:15.461260Z"
    },
    "papermill": {
     "duration": 0.059204,
     "end_time": "2023-02-25T15:00:15.463609",
     "exception": false,
     "start_time": "2023-02-25T15:00:15.404405",
     "status": "completed"
    },
    "tags": []
   },
   "outputs": [],
   "source": [
    "df2.to_parquet(f\"{PROJECT_ROOT}\\\\{dataset_dir}\\\\{COUNTRY}.parquet\")"
   ]
  },
  {
   "cell_type": "code",
   "execution_count": null,
   "id": "1526dab7",
   "metadata": {
    "papermill": {
     "duration": 0.003003,
     "end_time": "2023-02-25T15:00:15.468611",
     "exception": false,
     "start_time": "2023-02-25T15:00:15.465608",
     "status": "completed"
    },
    "tags": []
   },
   "outputs": [],
   "source": []
  },
  {
   "cell_type": "code",
   "execution_count": null,
   "id": "b79487e6",
   "metadata": {
    "papermill": {
     "duration": 0.003903,
     "end_time": "2023-02-25T15:00:15.474511",
     "exception": false,
     "start_time": "2023-02-25T15:00:15.470608",
     "status": "completed"
    },
    "tags": []
   },
   "outputs": [],
   "source": []
  }
 ],
 "metadata": {
  "celltoolbar": "Tags",
  "kernelspec": {
   "display_name": "Python 3 (ipykernel)",
   "language": "python",
   "name": "python3"
  },
  "language_info": {
   "codemirror_mode": {
    "name": "ipython",
    "version": 3
   },
   "file_extension": ".py",
   "mimetype": "text/x-python",
   "name": "python",
   "nbconvert_exporter": "python",
   "pygments_lexer": "ipython3",
   "version": "3.8.16"
  },
  "papermill": {
   "default_parameters": {},
   "duration": 6.193268,
   "end_time": "2023-02-25T15:00:15.827986",
   "environment_variables": {},
   "exception": null,
   "input_path": "input_notebooks/Data_scrapping.ipynb",
   "output_path": "output_notebooks/Data_scrapping_out.ipynb",
   "parameters": {},
   "start_time": "2023-02-25T15:00:09.634718",
   "version": "2.4.0"
  }
 },
 "nbformat": 4,
 "nbformat_minor": 5
}