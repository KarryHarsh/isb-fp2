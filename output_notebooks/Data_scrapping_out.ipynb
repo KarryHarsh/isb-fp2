{
 "cells": [
  {
   "cell_type": "code",
   "execution_count": 1,
   "id": "4836d6f0",
   "metadata": {
    "execution": {
     "iopub.execute_input": "2023-02-26T05:06:44.319648Z",
     "iopub.status.busy": "2023-02-26T05:06:44.319648Z",
     "iopub.status.idle": "2023-02-26T05:06:45.353408Z",
     "shell.execute_reply": "2023-02-26T05:06:45.352355Z"
    },
    "papermill": {
     "duration": 1.040123,
     "end_time": "2023-02-26T05:06:45.355380",
     "exception": false,
     "start_time": "2023-02-26T05:06:44.315257",
     "status": "completed"
    },
    "tags": []
   },
   "outputs": [],
   "source": [
    "#!pip install pandas-datareader\n",
    "import pandas as pd"
   ]
  },
  {
   "cell_type": "code",
   "execution_count": 2,
   "id": "541ff1af",
   "metadata": {
    "execution": {
     "iopub.execute_input": "2023-02-26T05:06:45.364079Z",
     "iopub.status.busy": "2023-02-26T05:06:45.363078Z",
     "iopub.status.idle": "2023-02-26T05:06:45.369396Z",
     "shell.execute_reply": "2023-02-26T05:06:45.368154Z"
    },
    "papermill": {
     "duration": 0.012515,
     "end_time": "2023-02-26T05:06:45.371921",
     "exception": false,
     "start_time": "2023-02-26T05:06:45.359406",
     "status": "completed"
    },
    "tags": [
     "parameters"
    ]
   },
   "outputs": [],
   "source": [
    "FROM = \"2001-01-01\"\n",
    "TO = \"2023-02-01\"\n",
    "COUNTRY = \"US\"\n",
    "\n",
    "dataset_dir  = \"datadir\\\\datasets\""
   ]
  },
  {
   "cell_type": "code",
   "execution_count": 3,
   "id": "1409cccf",
   "metadata": {
    "execution": {
     "iopub.execute_input": "2023-02-26T05:06:45.380815Z",
     "iopub.status.busy": "2023-02-26T05:06:45.380306Z",
     "iopub.status.idle": "2023-02-26T05:06:45.401260Z",
     "shell.execute_reply": "2023-02-26T05:06:45.399098Z"
    },
    "papermill": {
     "duration": 0.027376,
     "end_time": "2023-02-26T05:06:45.403299",
     "exception": false,
     "start_time": "2023-02-26T05:06:45.375923",
     "status": "completed"
    },
    "tags": [
     "injected-parameters"
    ]
   },
   "outputs": [],
   "source": [
    "# Parameters\n",
    "COUNTRY = \"RU\"\n",
    "FROM = \"2001-01-01\"\n",
    "TO = \"2023-02-01\"\n"
   ]
  },
  {
   "cell_type": "code",
   "execution_count": 4,
   "id": "40c514e8",
   "metadata": {
    "execution": {
     "iopub.execute_input": "2023-02-26T05:06:45.410876Z",
     "iopub.status.busy": "2023-02-26T05:06:45.410328Z",
     "iopub.status.idle": "2023-02-26T05:06:45.430624Z",
     "shell.execute_reply": "2023-02-26T05:06:45.429296Z"
    },
    "papermill": {
     "duration": 0.025873,
     "end_time": "2023-02-26T05:06:45.432148",
     "exception": false,
     "start_time": "2023-02-26T05:06:45.406275",
     "status": "completed"
    },
    "tags": []
   },
   "outputs": [
    {
     "data": {
      "text/plain": [
       "WindowsPath('C:/Users/Harsha/Documents/ISB_AMPBA/Term5/FP2/GroupAssignment/project')"
      ]
     },
     "execution_count": 4,
     "metadata": {},
     "output_type": "execute_result"
    }
   ],
   "source": [
    "from typing import Optional\n",
    "from pathlib import Path\n",
    "\n",
    "def find_project_root() -> Optional[Path]:\n",
    "    current = Path(\".\").resolve()\n",
    "    \n",
    "    while True:\n",
    "        if (current / \".git\").exists():\n",
    "            return current\n",
    "        \n",
    "        if current.parent == current:\n",
    "            print(\"WARNING: No .git dir found\")\n",
    "            return current\n",
    "              \n",
    "        current = current.parent\n",
    "        \n",
    "\n",
    "PROJECT_ROOT = find_project_root()\n",
    "PROJECT_ROOT"
   ]
  },
  {
   "cell_type": "code",
   "execution_count": 5,
   "id": "ef9a8913",
   "metadata": {
    "execution": {
     "iopub.execute_input": "2023-02-26T05:06:45.440231Z",
     "iopub.status.busy": "2023-02-26T05:06:45.439191Z",
     "iopub.status.idle": "2023-02-26T05:06:47.188068Z",
     "shell.execute_reply": "2023-02-26T05:06:47.184076Z"
    },
    "papermill": {
     "duration": 1.759387,
     "end_time": "2023-02-26T05:06:47.194582",
     "exception": false,
     "start_time": "2023-02-26T05:06:45.435195",
     "status": "completed"
    },
    "tags": []
   },
   "outputs": [
    {
     "data": {
      "text/html": [
       "<div>\n",
       "<style scoped>\n",
       "    .dataframe tbody tr th:only-of-type {\n",
       "        vertical-align: middle;\n",
       "    }\n",
       "\n",
       "    .dataframe tbody tr th {\n",
       "        vertical-align: top;\n",
       "    }\n",
       "\n",
       "    .dataframe thead th {\n",
       "        text-align: right;\n",
       "    }\n",
       "</style>\n",
       "<table border=\"1\" class=\"dataframe\">\n",
       "  <thead>\n",
       "    <tr style=\"text-align: right;\">\n",
       "      <th>Unit of measure</th>\n",
       "      <th>Thousand Barrels per day (kb/d)</th>\n",
       "    </tr>\n",
       "    <tr>\n",
       "      <th>TIME_PERIOD</th>\n",
       "      <th></th>\n",
       "    </tr>\n",
       "  </thead>\n",
       "  <tbody>\n",
       "    <tr>\n",
       "      <th>2002-01-01</th>\n",
       "      <td>7001</td>\n",
       "    </tr>\n",
       "    <tr>\n",
       "      <th>2002-02-01</th>\n",
       "      <td>7094</td>\n",
       "    </tr>\n",
       "    <tr>\n",
       "      <th>2002-03-01</th>\n",
       "      <td>7143</td>\n",
       "    </tr>\n",
       "    <tr>\n",
       "      <th>2002-04-01</th>\n",
       "      <td>7135</td>\n",
       "    </tr>\n",
       "    <tr>\n",
       "      <th>2002-05-01</th>\n",
       "      <td>7215</td>\n",
       "    </tr>\n",
       "  </tbody>\n",
       "</table>\n",
       "</div>"
      ],
      "text/plain": [
       "Unit of measure  Thousand Barrels per day (kb/d)\n",
       "TIME_PERIOD                                     \n",
       "2002-01-01                                  7001\n",
       "2002-02-01                                  7094\n",
       "2002-03-01                                  7143\n",
       "2002-04-01                                  7135\n",
       "2002-05-01                                  7215"
      ]
     },
     "execution_count": 5,
     "metadata": {},
     "output_type": "execute_result"
    }
   ],
   "source": [
    "import pandas_datareader.data as web\n",
    "df = web.DataReader(\n",
    "    '&'.join([\n",
    "        'dataset=JODI_OIL', \n",
    "        f'from={FROM}', \n",
    "        'h=TIME', \n",
    "        f'to={TO}', \n",
    "        'v=Reference Area', \n",
    "        'ENERGY_PRODUCT=[CRUDEOIL]', \n",
    "        'FLOW_BREAKDOWN=[INDPROD]', \n",
    "        f'REF_AREA=[{COUNTRY}]', \n",
    "        'UNIT_MEASURE=[KBD]'\n",
    "    ]),\n",
    "    'econdb'\n",
    ")\n",
    "df.columns = df.columns.get_level_values(3)\n",
    "df.head()"
   ]
  },
  {
   "cell_type": "code",
   "execution_count": 6,
   "id": "557170f7",
   "metadata": {
    "execution": {
     "iopub.execute_input": "2023-02-26T05:06:47.209120Z",
     "iopub.status.busy": "2023-02-26T05:06:47.209120Z",
     "iopub.status.idle": "2023-02-26T05:06:47.215480Z",
     "shell.execute_reply": "2023-02-26T05:06:47.214490Z"
    },
    "papermill": {
     "duration": 0.019933,
     "end_time": "2023-02-26T05:06:47.222040",
     "exception": false,
     "start_time": "2023-02-26T05:06:47.202107",
     "status": "completed"
    },
    "scrolled": true,
    "tags": []
   },
   "outputs": [],
   "source": [
    "# df.columns = df.columns.get_level_values(3)\n",
    "# df['TIME_PERIOD'] = df.index\n",
    "# # reset the index columns\n",
    "# df.reset_index(drop=True, inplace=True)\n",
    "\n",
    "\n"
   ]
  },
  {
   "cell_type": "code",
   "execution_count": 7,
   "id": "acd63e1e",
   "metadata": {
    "execution": {
     "iopub.execute_input": "2023-02-26T05:06:47.235169Z",
     "iopub.status.busy": "2023-02-26T05:06:47.234171Z",
     "iopub.status.idle": "2023-02-26T05:06:47.247206Z",
     "shell.execute_reply": "2023-02-26T05:06:47.245231Z"
    },
    "papermill": {
     "duration": 0.021185,
     "end_time": "2023-02-26T05:06:47.249224",
     "exception": false,
     "start_time": "2023-02-26T05:06:47.228039",
     "status": "completed"
    },
    "tags": []
   },
   "outputs": [
    {
     "data": {
      "text/html": [
       "<div>\n",
       "<style scoped>\n",
       "    .dataframe tbody tr th:only-of-type {\n",
       "        vertical-align: middle;\n",
       "    }\n",
       "\n",
       "    .dataframe tbody tr th {\n",
       "        vertical-align: top;\n",
       "    }\n",
       "\n",
       "    .dataframe thead th {\n",
       "        text-align: right;\n",
       "    }\n",
       "</style>\n",
       "<table border=\"1\" class=\"dataframe\">\n",
       "  <thead>\n",
       "    <tr style=\"text-align: right;\">\n",
       "      <th></th>\n",
       "      <th>Date</th>\n",
       "      <th>production</th>\n",
       "    </tr>\n",
       "  </thead>\n",
       "  <tbody>\n",
       "    <tr>\n",
       "      <th>0</th>\n",
       "      <td>2002-01-01</td>\n",
       "      <td>7001</td>\n",
       "    </tr>\n",
       "    <tr>\n",
       "      <th>1</th>\n",
       "      <td>2002-02-01</td>\n",
       "      <td>7094</td>\n",
       "    </tr>\n",
       "    <tr>\n",
       "      <th>2</th>\n",
       "      <td>2002-03-01</td>\n",
       "      <td>7143</td>\n",
       "    </tr>\n",
       "    <tr>\n",
       "      <th>3</th>\n",
       "      <td>2002-04-01</td>\n",
       "      <td>7135</td>\n",
       "    </tr>\n",
       "    <tr>\n",
       "      <th>4</th>\n",
       "      <td>2002-05-01</td>\n",
       "      <td>7215</td>\n",
       "    </tr>\n",
       "  </tbody>\n",
       "</table>\n",
       "</div>"
      ],
      "text/plain": [
       "        Date  production\n",
       "0 2002-01-01        7001\n",
       "1 2002-02-01        7094\n",
       "2 2002-03-01        7143\n",
       "3 2002-04-01        7135\n",
       "4 2002-05-01        7215"
      ]
     },
     "execution_count": 7,
     "metadata": {},
     "output_type": "execute_result"
    }
   ],
   "source": [
    "df2 = pd.DataFrame(df.index.to_list(), columns=['Date'])\n",
    "df2[\"production\"] = df['Thousand Barrels per day (kb/d)'].to_list() \n",
    "df2.head()"
   ]
  },
  {
   "cell_type": "code",
   "execution_count": 8,
   "id": "3fe614fb",
   "metadata": {
    "execution": {
     "iopub.execute_input": "2023-02-26T05:06:47.259752Z",
     "iopub.status.busy": "2023-02-26T05:06:47.258752Z",
     "iopub.status.idle": "2023-02-26T05:06:47.279860Z",
     "shell.execute_reply": "2023-02-26T05:06:47.276858Z"
    },
    "papermill": {
     "duration": 0.028196,
     "end_time": "2023-02-26T05:06:47.282966",
     "exception": false,
     "start_time": "2023-02-26T05:06:47.254770",
     "status": "completed"
    },
    "tags": []
   },
   "outputs": [],
   "source": [
    "# python program to check if a path exists\n",
    "#if path doesn’t exist we create a new path\n",
    "from pathlib import Path\n",
    "\n",
    "#creating a new directory called pythondirectory\n",
    "Path(f\"{PROJECT_ROOT}\\\\{dataset_dir}\\\\\").mkdir(parents=True, exist_ok=True)"
   ]
  },
  {
   "cell_type": "code",
   "execution_count": 9,
   "id": "4e736dff",
   "metadata": {
    "execution": {
     "iopub.execute_input": "2023-02-26T05:06:47.295500Z",
     "iopub.status.busy": "2023-02-26T05:06:47.295500Z",
     "iopub.status.idle": "2023-02-26T05:06:47.372867Z",
     "shell.execute_reply": "2023-02-26T05:06:47.371869Z"
    },
    "papermill": {
     "duration": 0.087884,
     "end_time": "2023-02-26T05:06:47.375870",
     "exception": false,
     "start_time": "2023-02-26T05:06:47.287986",
     "status": "completed"
    },
    "tags": []
   },
   "outputs": [],
   "source": [
    "df2.to_parquet(f\"{PROJECT_ROOT}\\\\{dataset_dir}\\\\{COUNTRY}.parquet\")"
   ]
  },
  {
   "cell_type": "code",
   "execution_count": null,
   "id": "3c48916b",
   "metadata": {
    "papermill": {
     "duration": 0.006017,
     "end_time": "2023-02-26T05:06:47.388195",
     "exception": false,
     "start_time": "2023-02-26T05:06:47.382178",
     "status": "completed"
    },
    "tags": []
   },
   "outputs": [],
   "source": []
  }
 ],
 "metadata": {
  "celltoolbar": "Tags",
  "kernelspec": {
   "display_name": "Python 3 (ipykernel)",
   "language": "python",
   "name": "python3"
  },
  "language_info": {
   "codemirror_mode": {
    "name": "ipython",
    "version": 3
   },
   "file_extension": ".py",
   "mimetype": "text/x-python",
   "name": "python",
   "nbconvert_exporter": "python",
   "pygments_lexer": "ipython3",
   "version": "3.8.16"
  },
  "papermill": {
   "default_parameters": {},
   "duration": 7.961502,
   "end_time": "2023-02-26T05:06:47.989124",
   "environment_variables": {},
   "exception": null,
   "input_path": "input_notebooks/Data_scrapping.ipynb",
   "output_path": "output_notebooks/Data_scrapping_out.ipynb",
   "parameters": {
    "COUNTRY": "RU",
    "FROM": "2001-01-01",
    "TO": "2023-02-01"
   },
   "start_time": "2023-02-26T05:06:40.027622",
   "version": "2.4.0"
  }
 },
 "nbformat": 4,
 "nbformat_minor": 5
}