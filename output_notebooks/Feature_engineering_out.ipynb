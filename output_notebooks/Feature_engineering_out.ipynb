{
 "cells": [
  {
   "cell_type": "code",
   "execution_count": 1,
   "id": "5a24da57",
   "metadata": {
    "execution": {
     "iopub.execute_input": "2023-02-26T05:06:53.899340Z",
     "iopub.status.busy": "2023-02-26T05:06:53.899340Z",
     "iopub.status.idle": "2023-02-26T05:06:53.919586Z",
     "shell.execute_reply": "2023-02-26T05:06:53.917681Z"
    },
    "papermill": {
     "duration": 0.035857,
     "end_time": "2023-02-26T05:06:53.923127",
     "exception": false,
     "start_time": "2023-02-26T05:06:53.887270",
     "status": "completed"
    },
    "tags": []
   },
   "outputs": [],
   "source": [
    "# %load_ext autoreload\n",
    "# %autoreload 2\n"
   ]
  },
  {
   "cell_type": "code",
   "execution_count": 2,
   "id": "80557e44",
   "metadata": {
    "execution": {
     "iopub.execute_input": "2023-02-26T05:06:53.947264Z",
     "iopub.status.busy": "2023-02-26T05:06:53.946273Z",
     "iopub.status.idle": "2023-02-26T05:06:53.966302Z",
     "shell.execute_reply": "2023-02-26T05:06:53.964302Z"
    },
    "papermill": {
     "duration": 0.036645,
     "end_time": "2023-02-26T05:06:53.969313",
     "exception": false,
     "start_time": "2023-02-26T05:06:53.932668",
     "status": "completed"
    },
    "tags": []
   },
   "outputs": [],
   "source": [
    "import warnings\n",
    "warnings.filterwarnings(\"ignore\")"
   ]
  },
  {
   "cell_type": "code",
   "execution_count": 3,
   "id": "46744d18",
   "metadata": {
    "execution": {
     "iopub.execute_input": "2023-02-26T05:06:53.984394Z",
     "iopub.status.busy": "2023-02-26T05:06:53.983401Z",
     "iopub.status.idle": "2023-02-26T05:06:55.453553Z",
     "shell.execute_reply": "2023-02-26T05:06:55.451015Z"
    },
    "papermill": {
     "duration": 1.480708,
     "end_time": "2023-02-26T05:06:55.455553",
     "exception": false,
     "start_time": "2023-02-26T05:06:53.974845",
     "status": "completed"
    },
    "tags": []
   },
   "outputs": [],
   "source": [
    "import pandas as pd\n",
    "import matplotlib.pyplot as plt\n",
    "\n",
    "# from utils import evaluate_binary, log_mlflow"
   ]
  },
  {
   "cell_type": "code",
   "execution_count": 4,
   "id": "d34311f3",
   "metadata": {
    "execution": {
     "iopub.execute_input": "2023-02-26T05:06:55.470106Z",
     "iopub.status.busy": "2023-02-26T05:06:55.470106Z",
     "iopub.status.idle": "2023-02-26T05:06:55.500204Z",
     "shell.execute_reply": "2023-02-26T05:06:55.498219Z"
    },
    "papermill": {
     "duration": 0.039645,
     "end_time": "2023-02-26T05:06:55.501724",
     "exception": false,
     "start_time": "2023-02-26T05:06:55.462079",
     "status": "completed"
    },
    "tags": []
   },
   "outputs": [
    {
     "data": {
      "text/plain": [
       "WindowsPath('C:/Users/Harsha/Documents/ISB_AMPBA/Term5/FP2/GroupAssignment/project')"
      ]
     },
     "execution_count": 4,
     "metadata": {},
     "output_type": "execute_result"
    }
   ],
   "source": [
    "from typing import Optional\n",
    "from pathlib import Path\n",
    "\n",
    "def find_project_root() -> Optional[Path]:\n",
    "    current = Path(\".\").resolve()\n",
    "    \n",
    "    while True:\n",
    "        if (current / \".git\").exists():\n",
    "            return current\n",
    "        \n",
    "        if current.parent == current:\n",
    "            print(\"WARNING: No .git dir found\")\n",
    "            return current\n",
    "              \n",
    "        current = current.parent\n",
    "        \n",
    "\n",
    "PROJECT_ROOT = find_project_root()\n",
    "PROJECT_ROOT"
   ]
  },
  {
   "cell_type": "code",
   "execution_count": 5,
   "id": "2c3c488c",
   "metadata": {
    "execution": {
     "iopub.execute_input": "2023-02-26T05:06:55.518280Z",
     "iopub.status.busy": "2023-02-26T05:06:55.517277Z",
     "iopub.status.idle": "2023-02-26T05:06:55.531329Z",
     "shell.execute_reply": "2023-02-26T05:06:55.529830Z"
    },
    "papermill": {
     "duration": 0.0266,
     "end_time": "2023-02-26T05:06:55.535343",
     "exception": false,
     "start_time": "2023-02-26T05:06:55.508743",
     "status": "completed"
    },
    "tags": [
     "parameters"
    ]
   },
   "outputs": [],
   "source": [
    "# Tag this cell as 'parameters'\n",
    "# BASE\n",
    "COUNTRY = 'US'\n",
    "\n",
    "dataset_dir  = \"datadir\\\\datasets\"\n",
    "model_dir  = \"model\\\\linear\"\n",
    "transformed_data_dir = \"datadir\\\\transformed\""
   ]
  },
  {
   "cell_type": "code",
   "execution_count": 6,
   "id": "a0c23a35",
   "metadata": {
    "execution": {
     "iopub.execute_input": "2023-02-26T05:06:55.557455Z",
     "iopub.status.busy": "2023-02-26T05:06:55.556455Z",
     "iopub.status.idle": "2023-02-26T05:06:55.578593Z",
     "shell.execute_reply": "2023-02-26T05:06:55.576583Z"
    },
    "papermill": {
     "duration": 0.040302,
     "end_time": "2023-02-26T05:06:55.584172",
     "exception": false,
     "start_time": "2023-02-26T05:06:55.543870",
     "status": "completed"
    },
    "tags": [
     "injected-parameters"
    ]
   },
   "outputs": [],
   "source": [
    "# Parameters\n",
    "COUNTRY = \"RU\"\n"
   ]
  },
  {
   "cell_type": "markdown",
   "id": "9e7187fa",
   "metadata": {
    "papermill": {
     "duration": 0.007056,
     "end_time": "2023-02-26T05:06:55.597180",
     "exception": false,
     "start_time": "2023-02-26T05:06:55.590124",
     "status": "completed"
    },
    "tags": []
   },
   "source": [
    "### Import data"
   ]
  },
  {
   "cell_type": "code",
   "execution_count": 7,
   "id": "d521f246",
   "metadata": {
    "execution": {
     "iopub.execute_input": "2023-02-26T05:06:55.609701Z",
     "iopub.status.busy": "2023-02-26T05:06:55.609701Z",
     "iopub.status.idle": "2023-02-26T05:06:55.720967Z",
     "shell.execute_reply": "2023-02-26T05:06:55.719389Z"
    },
    "papermill": {
     "duration": 0.120215,
     "end_time": "2023-02-26T05:06:55.722922",
     "exception": false,
     "start_time": "2023-02-26T05:06:55.602707",
     "status": "completed"
    },
    "tags": []
   },
   "outputs": [
    {
     "data": {
      "text/html": [
       "<div>\n",
       "<style scoped>\n",
       "    .dataframe tbody tr th:only-of-type {\n",
       "        vertical-align: middle;\n",
       "    }\n",
       "\n",
       "    .dataframe tbody tr th {\n",
       "        vertical-align: top;\n",
       "    }\n",
       "\n",
       "    .dataframe thead th {\n",
       "        text-align: right;\n",
       "    }\n",
       "</style>\n",
       "<table border=\"1\" class=\"dataframe\">\n",
       "  <thead>\n",
       "    <tr style=\"text-align: right;\">\n",
       "      <th></th>\n",
       "      <th>Date</th>\n",
       "      <th>production</th>\n",
       "    </tr>\n",
       "  </thead>\n",
       "  <tbody>\n",
       "    <tr>\n",
       "      <th>0</th>\n",
       "      <td>2002-01-01</td>\n",
       "      <td>7001</td>\n",
       "    </tr>\n",
       "    <tr>\n",
       "      <th>1</th>\n",
       "      <td>2002-02-01</td>\n",
       "      <td>7094</td>\n",
       "    </tr>\n",
       "    <tr>\n",
       "      <th>2</th>\n",
       "      <td>2002-03-01</td>\n",
       "      <td>7143</td>\n",
       "    </tr>\n",
       "    <tr>\n",
       "      <th>3</th>\n",
       "      <td>2002-04-01</td>\n",
       "      <td>7135</td>\n",
       "    </tr>\n",
       "    <tr>\n",
       "      <th>4</th>\n",
       "      <td>2002-05-01</td>\n",
       "      <td>7215</td>\n",
       "    </tr>\n",
       "  </tbody>\n",
       "</table>\n",
       "</div>"
      ],
      "text/plain": [
       "        Date  production\n",
       "0 2002-01-01        7001\n",
       "1 2002-02-01        7094\n",
       "2 2002-03-01        7143\n",
       "3 2002-04-01        7135\n",
       "4 2002-05-01        7215"
      ]
     },
     "execution_count": 7,
     "metadata": {},
     "output_type": "execute_result"
    }
   ],
   "source": [
    "df = pd.read_parquet(f'{PROJECT_ROOT}\\\\{dataset_dir}\\\\{COUNTRY}.parquet')\n",
    "# df[\"stock_name\"] = INDEX\n",
    "df.head()"
   ]
  },
  {
   "cell_type": "markdown",
   "id": "4a431571",
   "metadata": {
    "papermill": {
     "duration": 0.006531,
     "end_time": "2023-02-26T05:06:55.736452",
     "exception": false,
     "start_time": "2023-02-26T05:06:55.729921",
     "status": "completed"
    },
    "tags": []
   },
   "source": [
    "### Data prep"
   ]
  },
  {
   "cell_type": "code",
   "execution_count": 8,
   "id": "bbe171b7",
   "metadata": {
    "execution": {
     "iopub.execute_input": "2023-02-26T05:06:55.755647Z",
     "iopub.status.busy": "2023-02-26T05:06:55.755647Z",
     "iopub.status.idle": "2023-02-26T05:06:55.771199Z",
     "shell.execute_reply": "2023-02-26T05:06:55.767182Z"
    },
    "papermill": {
     "duration": 0.030321,
     "end_time": "2023-02-26T05:06:55.777439",
     "exception": false,
     "start_time": "2023-02-26T05:06:55.747118",
     "status": "completed"
    },
    "tags": []
   },
   "outputs": [],
   "source": [
    "df.sort_values(by='Date', ascending=True, inplace=True)  # Have to sort ascending for rolling to work correctly"
   ]
  },
  {
   "cell_type": "code",
   "execution_count": 9,
   "id": "0f08f7a5",
   "metadata": {
    "execution": {
     "iopub.execute_input": "2023-02-26T05:06:55.808757Z",
     "iopub.status.busy": "2023-02-26T05:06:55.807753Z",
     "iopub.status.idle": "2023-02-26T05:06:55.834379Z",
     "shell.execute_reply": "2023-02-26T05:06:55.828800Z"
    },
    "papermill": {
     "duration": 0.053012,
     "end_time": "2023-02-26T05:06:55.840970",
     "exception": false,
     "start_time": "2023-02-26T05:06:55.787958",
     "status": "completed"
    },
    "tags": []
   },
   "outputs": [],
   "source": [
    "df['Date'] =  pd.to_datetime(df['Date'])"
   ]
  },
  {
   "cell_type": "markdown",
   "id": "ee5754f9",
   "metadata": {
    "papermill": {
     "duration": 0.007169,
     "end_time": "2023-02-26T05:06:55.859411",
     "exception": false,
     "start_time": "2023-02-26T05:06:55.852242",
     "status": "completed"
    },
    "tags": []
   },
   "source": [
    "### Create basic features"
   ]
  },
  {
   "cell_type": "code",
   "execution_count": 10,
   "id": "931e963c",
   "metadata": {
    "execution": {
     "iopub.execute_input": "2023-02-26T05:06:55.888114Z",
     "iopub.status.busy": "2023-02-26T05:06:55.887117Z",
     "iopub.status.idle": "2023-02-26T05:06:55.924028Z",
     "shell.execute_reply": "2023-02-26T05:06:55.920818Z"
    },
    "papermill": {
     "duration": 0.050408,
     "end_time": "2023-02-26T05:06:55.927023",
     "exception": false,
     "start_time": "2023-02-26T05:06:55.876615",
     "status": "completed"
    },
    "tags": []
   },
   "outputs": [
    {
     "data": {
      "text/html": [
       "<div>\n",
       "<style scoped>\n",
       "    .dataframe tbody tr th:only-of-type {\n",
       "        vertical-align: middle;\n",
       "    }\n",
       "\n",
       "    .dataframe tbody tr th {\n",
       "        vertical-align: top;\n",
       "    }\n",
       "\n",
       "    .dataframe thead th {\n",
       "        text-align: right;\n",
       "    }\n",
       "</style>\n",
       "<table border=\"1\" class=\"dataframe\">\n",
       "  <thead>\n",
       "    <tr style=\"text-align: right;\">\n",
       "      <th></th>\n",
       "      <th>Date</th>\n",
       "      <th>production</th>\n",
       "      <th>prev</th>\n",
       "    </tr>\n",
       "  </thead>\n",
       "  <tbody>\n",
       "    <tr>\n",
       "      <th>0</th>\n",
       "      <td>2002-01-01</td>\n",
       "      <td>7001</td>\n",
       "      <td>NaN</td>\n",
       "    </tr>\n",
       "    <tr>\n",
       "      <th>1</th>\n",
       "      <td>2002-02-01</td>\n",
       "      <td>7094</td>\n",
       "      <td>7001.0</td>\n",
       "    </tr>\n",
       "    <tr>\n",
       "      <th>2</th>\n",
       "      <td>2002-03-01</td>\n",
       "      <td>7143</td>\n",
       "      <td>7094.0</td>\n",
       "    </tr>\n",
       "    <tr>\n",
       "      <th>3</th>\n",
       "      <td>2002-04-01</td>\n",
       "      <td>7135</td>\n",
       "      <td>7143.0</td>\n",
       "    </tr>\n",
       "    <tr>\n",
       "      <th>4</th>\n",
       "      <td>2002-05-01</td>\n",
       "      <td>7215</td>\n",
       "      <td>7135.0</td>\n",
       "    </tr>\n",
       "  </tbody>\n",
       "</table>\n",
       "</div>"
      ],
      "text/plain": [
       "        Date  production    prev\n",
       "0 2002-01-01        7001     NaN\n",
       "1 2002-02-01        7094  7001.0\n",
       "2 2002-03-01        7143  7094.0\n",
       "3 2002-04-01        7135  7143.0\n",
       "4 2002-05-01        7215  7135.0"
      ]
     },
     "execution_count": 10,
     "metadata": {},
     "output_type": "execute_result"
    }
   ],
   "source": [
    "df['prev'] = df['production'].shift(1)\n",
    "df.head()"
   ]
  },
  {
   "cell_type": "code",
   "execution_count": 11,
   "id": "ea442703",
   "metadata": {
    "execution": {
     "iopub.execute_input": "2023-02-26T05:06:55.957793Z",
     "iopub.status.busy": "2023-02-26T05:06:55.956795Z",
     "iopub.status.idle": "2023-02-26T05:06:56.015598Z",
     "shell.execute_reply": "2023-02-26T05:06:56.012605Z"
    },
    "papermill": {
     "duration": 0.079046,
     "end_time": "2023-02-26T05:06:56.017604",
     "exception": false,
     "start_time": "2023-02-26T05:06:55.938558",
     "status": "completed"
    },
    "tags": []
   },
   "outputs": [
    {
     "data": {
      "text/html": [
       "<div>\n",
       "<style scoped>\n",
       "    .dataframe tbody tr th:only-of-type {\n",
       "        vertical-align: middle;\n",
       "    }\n",
       "\n",
       "    .dataframe tbody tr th {\n",
       "        vertical-align: top;\n",
       "    }\n",
       "\n",
       "    .dataframe thead th {\n",
       "        text-align: right;\n",
       "    }\n",
       "</style>\n",
       "<table border=\"1\" class=\"dataframe\">\n",
       "  <thead>\n",
       "    <tr style=\"text-align: right;\">\n",
       "      <th></th>\n",
       "      <th>Date</th>\n",
       "      <th>production</th>\n",
       "      <th>prev</th>\n",
       "      <th>sma2</th>\n",
       "      <th>sma5</th>\n",
       "      <th>sma10</th>\n",
       "      <th>sma20</th>\n",
       "    </tr>\n",
       "  </thead>\n",
       "  <tbody>\n",
       "    <tr>\n",
       "      <th>0</th>\n",
       "      <td>2002-01-01</td>\n",
       "      <td>7001</td>\n",
       "      <td>NaN</td>\n",
       "      <td>NaN</td>\n",
       "      <td>NaN</td>\n",
       "      <td>NaN</td>\n",
       "      <td>NaN</td>\n",
       "    </tr>\n",
       "    <tr>\n",
       "      <th>1</th>\n",
       "      <td>2002-02-01</td>\n",
       "      <td>7094</td>\n",
       "      <td>7001.0</td>\n",
       "      <td>NaN</td>\n",
       "      <td>NaN</td>\n",
       "      <td>NaN</td>\n",
       "      <td>NaN</td>\n",
       "    </tr>\n",
       "    <tr>\n",
       "      <th>2</th>\n",
       "      <td>2002-03-01</td>\n",
       "      <td>7143</td>\n",
       "      <td>7094.0</td>\n",
       "      <td>7047.5</td>\n",
       "      <td>NaN</td>\n",
       "      <td>NaN</td>\n",
       "      <td>NaN</td>\n",
       "    </tr>\n",
       "    <tr>\n",
       "      <th>3</th>\n",
       "      <td>2002-04-01</td>\n",
       "      <td>7135</td>\n",
       "      <td>7143.0</td>\n",
       "      <td>7118.5</td>\n",
       "      <td>NaN</td>\n",
       "      <td>NaN</td>\n",
       "      <td>NaN</td>\n",
       "    </tr>\n",
       "    <tr>\n",
       "      <th>4</th>\n",
       "      <td>2002-05-01</td>\n",
       "      <td>7215</td>\n",
       "      <td>7135.0</td>\n",
       "      <td>7139.0</td>\n",
       "      <td>NaN</td>\n",
       "      <td>NaN</td>\n",
       "      <td>NaN</td>\n",
       "    </tr>\n",
       "  </tbody>\n",
       "</table>\n",
       "</div>"
      ],
      "text/plain": [
       "        Date  production    prev    sma2  sma5  sma10  sma20\n",
       "0 2002-01-01        7001     NaN     NaN   NaN    NaN    NaN\n",
       "1 2002-02-01        7094  7001.0     NaN   NaN    NaN    NaN\n",
       "2 2002-03-01        7143  7094.0  7047.5   NaN    NaN    NaN\n",
       "3 2002-04-01        7135  7143.0  7118.5   NaN    NaN    NaN\n",
       "4 2002-05-01        7215  7135.0  7139.0   NaN    NaN    NaN"
      ]
     },
     "execution_count": 11,
     "metadata": {},
     "output_type": "execute_result"
    }
   ],
   "source": [
    "df['sma2'] = df['prev'].rolling(window=2).mean()\n",
    "df['sma5'] = df['prev'].rolling(window=5).mean()\n",
    "df['sma10'] = df['prev'].rolling(window=10).mean()\n",
    "df['sma20'] = df['prev'].rolling(window=20).mean()\n",
    "df.head()"
   ]
  },
  {
   "cell_type": "code",
   "execution_count": 12,
   "id": "d203e50f",
   "metadata": {
    "execution": {
     "iopub.execute_input": "2023-02-26T05:06:56.051943Z",
     "iopub.status.busy": "2023-02-26T05:06:56.051943Z",
     "iopub.status.idle": "2023-02-26T05:06:56.079699Z",
     "shell.execute_reply": "2023-02-26T05:06:56.075684Z"
    },
    "papermill": {
     "duration": 0.060141,
     "end_time": "2023-02-26T05:06:56.087267",
     "exception": false,
     "start_time": "2023-02-26T05:06:56.027126",
     "status": "completed"
    },
    "tags": []
   },
   "outputs": [],
   "source": [
    "assert round(df['prev'].tail(5).mean(), 4) == round(df['sma5'].tail(1).item(), 4), 'Expected sma5 to be same as mean of past 5 items'\n",
    "assert round(df['prev'].tail(10).mean(), 4) == round(df['sma10'].tail(1).item(), 4), 'Expected sma10 to be same as mean of past 10 items'\n",
    "assert round(df['prev'].tail(20).mean(), 4) == round(df['sma20'].tail(1).item(), 4), 'Expected sma20 to be same as mean of past 20 items'"
   ]
  },
  {
   "cell_type": "code",
   "execution_count": 13,
   "id": "2edbfb6f",
   "metadata": {
    "execution": {
     "iopub.execute_input": "2023-02-26T05:06:56.118119Z",
     "iopub.status.busy": "2023-02-26T05:06:56.115124Z",
     "iopub.status.idle": "2023-02-26T05:06:56.140225Z",
     "shell.execute_reply": "2023-02-26T05:06:56.137251Z"
    },
    "papermill": {
     "duration": 0.050997,
     "end_time": "2023-02-26T05:06:56.146770",
     "exception": false,
     "start_time": "2023-02-26T05:06:56.095773",
     "status": "completed"
    },
    "tags": []
   },
   "outputs": [],
   "source": [
    "df['ema12'] = df['prev'].ewm(span=12, min_periods=12, adjust=False).mean()\n",
    "df['ema26'] = df['prev'].ewm(span=26, min_periods=26, adjust=False).mean()"
   ]
  },
  {
   "cell_type": "code",
   "execution_count": 14,
   "id": "da3784ac",
   "metadata": {
    "execution": {
     "iopub.execute_input": "2023-02-26T05:06:56.178807Z",
     "iopub.status.busy": "2023-02-26T05:06:56.177807Z",
     "iopub.status.idle": "2023-02-26T05:06:56.203282Z",
     "shell.execute_reply": "2023-02-26T05:06:56.199691Z"
    },
    "papermill": {
     "duration": 0.042382,
     "end_time": "2023-02-26T05:06:56.207267",
     "exception": false,
     "start_time": "2023-02-26T05:06:56.164885",
     "status": "completed"
    },
    "tags": []
   },
   "outputs": [],
   "source": [
    "def difference(prev_price, moving_average):\n",
    "    return (prev_price - moving_average) / prev_price"
   ]
  },
  {
   "cell_type": "code",
   "execution_count": 15,
   "id": "93306e8c",
   "metadata": {
    "execution": {
     "iopub.execute_input": "2023-02-26T05:06:56.243550Z",
     "iopub.status.busy": "2023-02-26T05:06:56.240991Z",
     "iopub.status.idle": "2023-02-26T05:06:56.267697Z",
     "shell.execute_reply": "2023-02-26T05:06:56.262676Z"
    },
    "papermill": {
     "duration": 0.056483,
     "end_time": "2023-02-26T05:06:56.276292",
     "exception": false,
     "start_time": "2023-02-26T05:06:56.219809",
     "status": "completed"
    },
    "tags": []
   },
   "outputs": [],
   "source": [
    "for col in ['sma2', 'sma5', 'sma10', 'sma20', 'ema12', 'ema26']:\n",
    "    df['{}_diff'.format(col)] = difference(df['prev'], df[col])"
   ]
  },
  {
   "cell_type": "code",
   "execution_count": 16,
   "id": "6ddc0c0c",
   "metadata": {
    "execution": {
     "iopub.execute_input": "2023-02-26T05:06:56.307490Z",
     "iopub.status.busy": "2023-02-26T05:06:56.305534Z",
     "iopub.status.idle": "2023-02-26T05:06:56.326676Z",
     "shell.execute_reply": "2023-02-26T05:06:56.324679Z"
    },
    "papermill": {
     "duration": 0.0434,
     "end_time": "2023-02-26T05:06:56.331275",
     "exception": false,
     "start_time": "2023-02-26T05:06:56.287875",
     "status": "completed"
    },
    "tags": []
   },
   "outputs": [],
   "source": [
    "df.dropna(inplace=True)"
   ]
  },
  {
   "cell_type": "code",
   "execution_count": 17,
   "id": "e21be761",
   "metadata": {
    "execution": {
     "iopub.execute_input": "2023-02-26T05:06:56.366861Z",
     "iopub.status.busy": "2023-02-26T05:06:56.362900Z",
     "iopub.status.idle": "2023-02-26T05:06:56.389957Z",
     "shell.execute_reply": "2023-02-26T05:06:56.386953Z"
    },
    "papermill": {
     "duration": 0.052379,
     "end_time": "2023-02-26T05:06:56.396063",
     "exception": false,
     "start_time": "2023-02-26T05:06:56.343684",
     "status": "completed"
    },
    "tags": []
   },
   "outputs": [
    {
     "data": {
      "text/plain": [
       "(225, 15)"
      ]
     },
     "execution_count": 17,
     "metadata": {},
     "output_type": "execute_result"
    }
   ],
   "source": [
    "df.shape"
   ]
  },
  {
   "cell_type": "code",
   "execution_count": 18,
   "id": "c6eb16e5",
   "metadata": {
    "execution": {
     "iopub.execute_input": "2023-02-26T05:06:56.427186Z",
     "iopub.status.busy": "2023-02-26T05:06:56.426178Z",
     "iopub.status.idle": "2023-02-26T05:06:56.438724Z",
     "shell.execute_reply": "2023-02-26T05:06:56.433720Z"
    },
    "papermill": {
     "duration": 0.032135,
     "end_time": "2023-02-26T05:06:56.443255",
     "exception": false,
     "start_time": "2023-02-26T05:06:56.411120",
     "status": "completed"
    },
    "tags": []
   },
   "outputs": [],
   "source": [
    "# df.drop(columns=['date', 'open'], inplace=True)"
   ]
  },
  {
   "cell_type": "markdown",
   "id": "b283b415",
   "metadata": {
    "papermill": {
     "duration": 0.008003,
     "end_time": "2023-02-26T05:06:56.460773",
     "exception": false,
     "start_time": "2023-02-26T05:06:56.452770",
     "status": "completed"
    },
    "tags": []
   },
   "source": [
    "### Create label"
   ]
  },
  {
   "cell_type": "code",
   "execution_count": 19,
   "id": "12437c20",
   "metadata": {
    "execution": {
     "iopub.execute_input": "2023-02-26T05:06:56.492213Z",
     "iopub.status.busy": "2023-02-26T05:06:56.491269Z",
     "iopub.status.idle": "2023-02-26T05:06:56.513875Z",
     "shell.execute_reply": "2023-02-26T05:06:56.511856Z"
    },
    "papermill": {
     "duration": 0.04366,
     "end_time": "2023-02-26T05:06:56.520864",
     "exception": false,
     "start_time": "2023-02-26T05:06:56.477204",
     "status": "completed"
    },
    "tags": []
   },
   "outputs": [],
   "source": [
    "df['label'] = (df['production'] > df['prev']).astype(int)\n",
    "df.reset_index(inplace = True)\n",
    "# df.drop(['index'], axis=1)\n"
   ]
  },
  {
   "cell_type": "code",
   "execution_count": null,
   "id": "6aef3c48",
   "metadata": {
    "papermill": {
     "duration": 0.012523,
     "end_time": "2023-02-26T05:06:56.546470",
     "exception": false,
     "start_time": "2023-02-26T05:06:56.533947",
     "status": "completed"
    },
    "tags": []
   },
   "outputs": [],
   "source": []
  },
  {
   "cell_type": "code",
   "execution_count": 20,
   "id": "8892a587",
   "metadata": {
    "execution": {
     "iopub.execute_input": "2023-02-26T05:06:56.577096Z",
     "iopub.status.busy": "2023-02-26T05:06:56.576096Z",
     "iopub.status.idle": "2023-02-26T05:06:56.636970Z",
     "shell.execute_reply": "2023-02-26T05:06:56.634970Z"
    },
    "papermill": {
     "duration": 0.075383,
     "end_time": "2023-02-26T05:06:56.639966",
     "exception": false,
     "start_time": "2023-02-26T05:06:56.564583",
     "status": "completed"
    },
    "tags": []
   },
   "outputs": [
    {
     "data": {
      "text/html": [
       "<div>\n",
       "<style scoped>\n",
       "    .dataframe tbody tr th:only-of-type {\n",
       "        vertical-align: middle;\n",
       "    }\n",
       "\n",
       "    .dataframe tbody tr th {\n",
       "        vertical-align: top;\n",
       "    }\n",
       "\n",
       "    .dataframe thead th {\n",
       "        text-align: right;\n",
       "    }\n",
       "</style>\n",
       "<table border=\"1\" class=\"dataframe\">\n",
       "  <thead>\n",
       "    <tr style=\"text-align: right;\">\n",
       "      <th></th>\n",
       "      <th>Date</th>\n",
       "      <th>production</th>\n",
       "      <th>prev</th>\n",
       "      <th>sma2</th>\n",
       "      <th>sma5</th>\n",
       "      <th>sma10</th>\n",
       "      <th>sma20</th>\n",
       "      <th>ema12</th>\n",
       "      <th>ema26</th>\n",
       "      <th>sma2_diff</th>\n",
       "      <th>sma5_diff</th>\n",
       "      <th>sma10_diff</th>\n",
       "      <th>sma20_diff</th>\n",
       "      <th>ema12_diff</th>\n",
       "      <th>ema26_diff</th>\n",
       "      <th>label</th>\n",
       "    </tr>\n",
       "  </thead>\n",
       "  <tbody>\n",
       "    <tr>\n",
       "      <th>0</th>\n",
       "      <td>2004-03-01</td>\n",
       "      <td>8661</td>\n",
       "      <td>8599.0</td>\n",
       "      <td>8570.5</td>\n",
       "      <td>8537.8</td>\n",
       "      <td>8413.9</td>\n",
       "      <td>8062.90</td>\n",
       "      <td>8323.232091</td>\n",
       "      <td>7974.601336</td>\n",
       "      <td>0.003314</td>\n",
       "      <td>0.007117</td>\n",
       "      <td>0.021526</td>\n",
       "      <td>0.062344</td>\n",
       "      <td>0.032070</td>\n",
       "      <td>0.072613</td>\n",
       "      <td>1</td>\n",
       "    </tr>\n",
       "    <tr>\n",
       "      <th>1</th>\n",
       "      <td>2004-04-01</td>\n",
       "      <td>8729</td>\n",
       "      <td>8661.0</td>\n",
       "      <td>8630.0</td>\n",
       "      <td>8566.2</td>\n",
       "      <td>8473.2</td>\n",
       "      <td>8123.40</td>\n",
       "      <td>8375.196384</td>\n",
       "      <td>8025.445681</td>\n",
       "      <td>0.003579</td>\n",
       "      <td>0.010946</td>\n",
       "      <td>0.021683</td>\n",
       "      <td>0.062071</td>\n",
       "      <td>0.032999</td>\n",
       "      <td>0.073381</td>\n",
       "      <td>1</td>\n",
       "    </tr>\n",
       "    <tr>\n",
       "      <th>2</th>\n",
       "      <td>2004-05-01</td>\n",
       "      <td>8805</td>\n",
       "      <td>8729.0</td>\n",
       "      <td>8695.0</td>\n",
       "      <td>8610.0</td>\n",
       "      <td>8527.1</td>\n",
       "      <td>8182.55</td>\n",
       "      <td>8429.627710</td>\n",
       "      <td>8077.560816</td>\n",
       "      <td>0.003895</td>\n",
       "      <td>0.013633</td>\n",
       "      <td>0.023130</td>\n",
       "      <td>0.062602</td>\n",
       "      <td>0.034296</td>\n",
       "      <td>0.074629</td>\n",
       "      <td>1</td>\n",
       "    </tr>\n",
       "    <tr>\n",
       "      <th>3</th>\n",
       "      <td>2004-06-01</td>\n",
       "      <td>8974</td>\n",
       "      <td>8805.0</td>\n",
       "      <td>8767.0</td>\n",
       "      <td>8667.2</td>\n",
       "      <td>8574.6</td>\n",
       "      <td>8241.50</td>\n",
       "      <td>8487.377293</td>\n",
       "      <td>8131.445200</td>\n",
       "      <td>0.004316</td>\n",
       "      <td>0.015650</td>\n",
       "      <td>0.026167</td>\n",
       "      <td>0.063998</td>\n",
       "      <td>0.036073</td>\n",
       "      <td>0.076497</td>\n",
       "      <td>1</td>\n",
       "    </tr>\n",
       "    <tr>\n",
       "      <th>4</th>\n",
       "      <td>2004-07-01</td>\n",
       "      <td>9017</td>\n",
       "      <td>8974.0</td>\n",
       "      <td>8889.5</td>\n",
       "      <td>8753.6</td>\n",
       "      <td>8634.3</td>\n",
       "      <td>8305.75</td>\n",
       "      <td>8562.242325</td>\n",
       "      <td>8193.856667</td>\n",
       "      <td>0.009416</td>\n",
       "      <td>0.024560</td>\n",
       "      <td>0.037854</td>\n",
       "      <td>0.074465</td>\n",
       "      <td>0.045883</td>\n",
       "      <td>0.086934</td>\n",
       "      <td>1</td>\n",
       "    </tr>\n",
       "    <tr>\n",
       "      <th>...</th>\n",
       "      <td>...</td>\n",
       "      <td>...</td>\n",
       "      <td>...</td>\n",
       "      <td>...</td>\n",
       "      <td>...</td>\n",
       "      <td>...</td>\n",
       "      <td>...</td>\n",
       "      <td>...</td>\n",
       "      <td>...</td>\n",
       "      <td>...</td>\n",
       "      <td>...</td>\n",
       "      <td>...</td>\n",
       "      <td>...</td>\n",
       "      <td>...</td>\n",
       "      <td>...</td>\n",
       "      <td>...</td>\n",
       "    </tr>\n",
       "    <tr>\n",
       "      <th>220</th>\n",
       "      <td>2022-07-01</td>\n",
       "      <td>10019</td>\n",
       "      <td>9984.0</td>\n",
       "      <td>9715.0</td>\n",
       "      <td>9833.6</td>\n",
       "      <td>10001.7</td>\n",
       "      <td>9803.05</td>\n",
       "      <td>9873.905983</td>\n",
       "      <td>9897.523350</td>\n",
       "      <td>0.026943</td>\n",
       "      <td>0.015064</td>\n",
       "      <td>-0.001773</td>\n",
       "      <td>0.018124</td>\n",
       "      <td>0.011027</td>\n",
       "      <td>0.008662</td>\n",
       "      <td>1</td>\n",
       "    </tr>\n",
       "    <tr>\n",
       "      <th>221</th>\n",
       "      <td>2022-08-01</td>\n",
       "      <td>9995</td>\n",
       "      <td>10019.0</td>\n",
       "      <td>10001.5</td>\n",
       "      <td>9791.2</td>\n",
       "      <td>9998.4</td>\n",
       "      <td>9838.70</td>\n",
       "      <td>9896.228139</td>\n",
       "      <td>9906.521620</td>\n",
       "      <td>0.001747</td>\n",
       "      <td>0.022737</td>\n",
       "      <td>0.002056</td>\n",
       "      <td>0.017996</td>\n",
       "      <td>0.012254</td>\n",
       "      <td>0.011227</td>\n",
       "      <td>0</td>\n",
       "    </tr>\n",
       "    <tr>\n",
       "      <th>222</th>\n",
       "      <td>2022-09-01</td>\n",
       "      <td>9988</td>\n",
       "      <td>9995.0</td>\n",
       "      <td>10007.0</td>\n",
       "      <td>9753.8</td>\n",
       "      <td>9982.8</td>\n",
       "      <td>9872.35</td>\n",
       "      <td>9911.423810</td>\n",
       "      <td>9913.075574</td>\n",
       "      <td>-0.001201</td>\n",
       "      <td>0.024132</td>\n",
       "      <td>0.001221</td>\n",
       "      <td>0.012271</td>\n",
       "      <td>0.008362</td>\n",
       "      <td>0.008197</td>\n",
       "      <td>0</td>\n",
       "    </tr>\n",
       "    <tr>\n",
       "      <th>223</th>\n",
       "      <td>2022-10-01</td>\n",
       "      <td>9881</td>\n",
       "      <td>9988.0</td>\n",
       "      <td>9991.5</td>\n",
       "      <td>9886.4</td>\n",
       "      <td>9963.2</td>\n",
       "      <td>9898.70</td>\n",
       "      <td>9923.204763</td>\n",
       "      <td>9918.625532</td>\n",
       "      <td>-0.000350</td>\n",
       "      <td>0.010172</td>\n",
       "      <td>0.002483</td>\n",
       "      <td>0.008941</td>\n",
       "      <td>0.006487</td>\n",
       "      <td>0.006946</td>\n",
       "      <td>0</td>\n",
       "    </tr>\n",
       "    <tr>\n",
       "      <th>224</th>\n",
       "      <td>2022-11-01</td>\n",
       "      <td>10024</td>\n",
       "      <td>9881.0</td>\n",
       "      <td>9934.5</td>\n",
       "      <td>9973.4</td>\n",
       "      <td>9931.0</td>\n",
       "      <td>9923.15</td>\n",
       "      <td>9916.711722</td>\n",
       "      <td>9915.838455</td>\n",
       "      <td>-0.005414</td>\n",
       "      <td>-0.009351</td>\n",
       "      <td>-0.005060</td>\n",
       "      <td>-0.004266</td>\n",
       "      <td>-0.003614</td>\n",
       "      <td>-0.003526</td>\n",
       "      <td>1</td>\n",
       "    </tr>\n",
       "  </tbody>\n",
       "</table>\n",
       "<p>225 rows × 16 columns</p>\n",
       "</div>"
      ],
      "text/plain": [
       "          Date  production     prev     sma2    sma5    sma10    sma20  \\\n",
       "0   2004-03-01        8661   8599.0   8570.5  8537.8   8413.9  8062.90   \n",
       "1   2004-04-01        8729   8661.0   8630.0  8566.2   8473.2  8123.40   \n",
       "2   2004-05-01        8805   8729.0   8695.0  8610.0   8527.1  8182.55   \n",
       "3   2004-06-01        8974   8805.0   8767.0  8667.2   8574.6  8241.50   \n",
       "4   2004-07-01        9017   8974.0   8889.5  8753.6   8634.3  8305.75   \n",
       "..         ...         ...      ...      ...     ...      ...      ...   \n",
       "220 2022-07-01       10019   9984.0   9715.0  9833.6  10001.7  9803.05   \n",
       "221 2022-08-01        9995  10019.0  10001.5  9791.2   9998.4  9838.70   \n",
       "222 2022-09-01        9988   9995.0  10007.0  9753.8   9982.8  9872.35   \n",
       "223 2022-10-01        9881   9988.0   9991.5  9886.4   9963.2  9898.70   \n",
       "224 2022-11-01       10024   9881.0   9934.5  9973.4   9931.0  9923.15   \n",
       "\n",
       "           ema12        ema26  sma2_diff  sma5_diff  sma10_diff  sma20_diff  \\\n",
       "0    8323.232091  7974.601336   0.003314   0.007117    0.021526    0.062344   \n",
       "1    8375.196384  8025.445681   0.003579   0.010946    0.021683    0.062071   \n",
       "2    8429.627710  8077.560816   0.003895   0.013633    0.023130    0.062602   \n",
       "3    8487.377293  8131.445200   0.004316   0.015650    0.026167    0.063998   \n",
       "4    8562.242325  8193.856667   0.009416   0.024560    0.037854    0.074465   \n",
       "..           ...          ...        ...        ...         ...         ...   \n",
       "220  9873.905983  9897.523350   0.026943   0.015064   -0.001773    0.018124   \n",
       "221  9896.228139  9906.521620   0.001747   0.022737    0.002056    0.017996   \n",
       "222  9911.423810  9913.075574  -0.001201   0.024132    0.001221    0.012271   \n",
       "223  9923.204763  9918.625532  -0.000350   0.010172    0.002483    0.008941   \n",
       "224  9916.711722  9915.838455  -0.005414  -0.009351   -0.005060   -0.004266   \n",
       "\n",
       "     ema12_diff  ema26_diff  label  \n",
       "0      0.032070    0.072613      1  \n",
       "1      0.032999    0.073381      1  \n",
       "2      0.034296    0.074629      1  \n",
       "3      0.036073    0.076497      1  \n",
       "4      0.045883    0.086934      1  \n",
       "..          ...         ...    ...  \n",
       "220    0.011027    0.008662      1  \n",
       "221    0.012254    0.011227      0  \n",
       "222    0.008362    0.008197      0  \n",
       "223    0.006487    0.006946      0  \n",
       "224   -0.003614   -0.003526      1  \n",
       "\n",
       "[225 rows x 16 columns]"
      ]
     },
     "execution_count": 20,
     "metadata": {},
     "output_type": "execute_result"
    }
   ],
   "source": [
    "df = df.drop(['index'], axis=1)\n",
    "df"
   ]
  },
  {
   "cell_type": "markdown",
   "id": "7003d87a",
   "metadata": {
    "papermill": {
     "duration": 0.009511,
     "end_time": "2023-02-26T05:06:56.661525",
     "exception": false,
     "start_time": "2023-02-26T05:06:56.652014",
     "status": "completed"
    },
    "tags": []
   },
   "source": [
    "### Prepare dataset to store in parquet format"
   ]
  },
  {
   "cell_type": "code",
   "execution_count": 21,
   "id": "f43655e4",
   "metadata": {
    "execution": {
     "iopub.execute_input": "2023-02-26T05:06:56.685648Z",
     "iopub.status.busy": "2023-02-26T05:06:56.685648Z",
     "iopub.status.idle": "2023-02-26T05:06:56.702347Z",
     "shell.execute_reply": "2023-02-26T05:06:56.698256Z"
    },
    "papermill": {
     "duration": 0.034226,
     "end_time": "2023-02-26T05:06:56.708352",
     "exception": false,
     "start_time": "2023-02-26T05:06:56.674126",
     "status": "completed"
    },
    "tags": []
   },
   "outputs": [
    {
     "data": {
      "text/plain": [
       "Date          datetime64[ns]\n",
       "production             int64\n",
       "prev                 float64\n",
       "sma2                 float64\n",
       "sma5                 float64\n",
       "sma10                float64\n",
       "sma20                float64\n",
       "ema12                float64\n",
       "ema26                float64\n",
       "sma2_diff            float64\n",
       "sma5_diff            float64\n",
       "sma10_diff           float64\n",
       "sma20_diff           float64\n",
       "ema12_diff           float64\n",
       "ema26_diff           float64\n",
       "label                  int32\n",
       "dtype: object"
      ]
     },
     "execution_count": 21,
     "metadata": {},
     "output_type": "execute_result"
    }
   ],
   "source": [
    "df.dtypes"
   ]
  },
  {
   "cell_type": "code",
   "execution_count": 22,
   "id": "8eaef8a5",
   "metadata": {
    "execution": {
     "iopub.execute_input": "2023-02-26T05:06:56.739288Z",
     "iopub.status.busy": "2023-02-26T05:06:56.739288Z",
     "iopub.status.idle": "2023-02-26T05:06:56.762560Z",
     "shell.execute_reply": "2023-02-26T05:06:56.761044Z"
    },
    "papermill": {
     "duration": 0.047686,
     "end_time": "2023-02-26T05:06:56.767583",
     "exception": false,
     "start_time": "2023-02-26T05:06:56.719897",
     "status": "completed"
    },
    "tags": []
   },
   "outputs": [],
   "source": [
    "\n",
    "predictors_df = df.loc[:,df.columns!=\"label\"]\n",
    "target_df = df[[\"label\",\"Date\"]]\n",
    "\n",
    "datalen = len(df)\n",
    "idslist= list(range(datalen))\n",
    "\n",
    "record_ids = pd.DataFrame(data = idslist, columns = [\"record_id\"])\n",
    "\n",
    "predictors_df = pd.concat(objs = [predictors_df, record_ids], axis = 1)\n",
    "target_df = pd.concat(objs = [target_df, record_ids], axis = 1)\n",
    "\n",
    "predictors_df.rename(columns = {'Date':'event_timestamp','production': 'oil_production'}, inplace = True)\n",
    "target_df.rename(columns = {'Date':'event_timestamp','production': 'oil_production'}, inplace = True)"
   ]
  },
  {
   "cell_type": "code",
   "execution_count": 23,
   "id": "640827e9",
   "metadata": {
    "execution": {
     "iopub.execute_input": "2023-02-26T05:06:56.806134Z",
     "iopub.status.busy": "2023-02-26T05:06:56.805132Z",
     "iopub.status.idle": "2023-02-26T05:06:56.825200Z",
     "shell.execute_reply": "2023-02-26T05:06:56.823203Z"
    },
    "papermill": {
     "duration": 0.04255,
     "end_time": "2023-02-26T05:06:56.830223",
     "exception": false,
     "start_time": "2023-02-26T05:06:56.787673",
     "status": "completed"
    },
    "tags": []
   },
   "outputs": [
    {
     "data": {
      "text/plain": [
       "label                       int32\n",
       "event_timestamp    datetime64[ns]\n",
       "record_id                   int64\n",
       "dtype: object"
      ]
     },
     "execution_count": 23,
     "metadata": {},
     "output_type": "execute_result"
    }
   ],
   "source": [
    "target_df.head()\n",
    "target_df.dtypes"
   ]
  },
  {
   "cell_type": "code",
   "execution_count": 24,
   "id": "a7723699",
   "metadata": {
    "execution": {
     "iopub.execute_input": "2023-02-26T05:06:56.876088Z",
     "iopub.status.busy": "2023-02-26T05:06:56.873052Z",
     "iopub.status.idle": "2023-02-26T05:06:56.918508Z",
     "shell.execute_reply": "2023-02-26T05:06:56.916511Z"
    },
    "papermill": {
     "duration": 0.070075,
     "end_time": "2023-02-26T05:06:56.922024",
     "exception": false,
     "start_time": "2023-02-26T05:06:56.851949",
     "status": "completed"
    },
    "tags": []
   },
   "outputs": [],
   "source": [
    "# Save FE\n",
    "\n",
    "Path(f\"{PROJECT_ROOT}\\\\{transformed_data_dir}\\\\{COUNTRY}\").mkdir(parents=True, exist_ok=True)\n",
    "predictors_df.to_parquet(f\"{PROJECT_ROOT}\\\\{transformed_data_dir}\\\\{COUNTRY}\\\\{COUNTRY}_features.parquet\",index=False)\n",
    "target_df.to_parquet(f\"{PROJECT_ROOT}\\\\{transformed_data_dir}\\\\{COUNTRY}\\\\{COUNTRY}_target.parquet\",index=False)\n"
   ]
  }
 ],
 "metadata": {
  "celltoolbar": "Tags",
  "kernelspec": {
   "display_name": "Python 3 (ipykernel)",
   "language": "python",
   "name": "python3"
  },
  "language_info": {
   "codemirror_mode": {
    "name": "ipython",
    "version": 3
   },
   "file_extension": ".py",
   "mimetype": "text/x-python",
   "name": "python",
   "nbconvert_exporter": "python",
   "pygments_lexer": "ipython3",
   "version": "3.8.16"
  },
  "papermill": {
   "default_parameters": {},
   "duration": 7.507384,
   "end_time": "2023-02-26T05:06:57.442975",
   "environment_variables": {},
   "exception": null,
   "input_path": "input_notebooks/Feature_engineering.ipynb",
   "output_path": "output_notebooks/Feature_engineering_out.ipynb",
   "parameters": {
    "COUNTRY": "RU"
   },
   "start_time": "2023-02-26T05:06:49.935591",
   "version": "2.4.0"
  }
 },
 "nbformat": 4,
 "nbformat_minor": 5
}