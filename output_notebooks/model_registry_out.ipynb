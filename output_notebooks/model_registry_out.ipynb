{
 "cells": [
  {
   "cell_type": "markdown",
   "id": "1582595a",
   "metadata": {
    "papermill": {
     "duration": 0.006017,
     "end_time": "2023-02-25T13:35:37.275435",
     "exception": false,
     "start_time": "2023-02-25T13:35:37.269418",
     "status": "completed"
    },
    "tags": []
   },
   "source": [
    "Set MLflow tracker"
   ]
  },
  {
   "cell_type": "code",
   "execution_count": 1,
   "id": "4c07a38b",
   "metadata": {
    "execution": {
     "iopub.execute_input": "2023-02-25T13:35:37.282076Z",
     "iopub.status.busy": "2023-02-25T13:35:37.281551Z",
     "iopub.status.idle": "2023-02-25T13:35:38.933876Z",
     "shell.execute_reply": "2023-02-25T13:35:38.933876Z"
    },
    "papermill": {
     "duration": 1.658441,
     "end_time": "2023-02-25T13:35:38.933876",
     "exception": false,
     "start_time": "2023-02-25T13:35:37.275435",
     "status": "completed"
    },
    "tags": []
   },
   "outputs": [],
   "source": [
    "import mlflow\n",
    "# Provide uri and connect to your tracking server\n",
    "mlflow.set_tracking_uri('http://127.0.0.1:5000/')"
   ]
  },
  {
   "cell_type": "code",
   "execution_count": 2,
   "id": "ed645f35",
   "metadata": {
    "execution": {
     "iopub.execute_input": "2023-02-25T13:35:38.938530Z",
     "iopub.status.busy": "2023-02-25T13:35:38.938530Z",
     "iopub.status.idle": "2023-02-25T13:35:38.949657Z",
     "shell.execute_reply": "2023-02-25T13:35:38.949657Z"
    },
    "papermill": {
     "duration": 0.012307,
     "end_time": "2023-02-25T13:35:38.950837",
     "exception": false,
     "start_time": "2023-02-25T13:35:38.938530",
     "status": "completed"
    },
    "tags": [
     "parameters"
    ]
   },
   "outputs": [],
   "source": [
    "model_name = \"prophet_forecasting\"\n",
    "model_version = 1\n",
    "model_description = \"This model forecasts the oil production based on the previous data.\"\n",
    "version_description = \"mlflow model version\""
   ]
  },
  {
   "cell_type": "markdown",
   "id": "76af7221",
   "metadata": {
    "papermill": {
     "duration": 0.0,
     "end_time": "2023-02-25T13:35:38.955048",
     "exception": false,
     "start_time": "2023-02-25T13:35:38.955048",
     "status": "completed"
    },
    "tags": []
   },
   "source": [
    "### MLflow Model Registry "
   ]
  },
  {
   "cell_type": "code",
   "execution_count": 3,
   "id": "df369976",
   "metadata": {
    "execution": {
     "iopub.execute_input": "2023-02-25T13:35:38.955048Z",
     "iopub.status.busy": "2023-02-25T13:35:38.955048Z",
     "iopub.status.idle": "2023-02-25T13:35:38.982103Z",
     "shell.execute_reply": "2023-02-25T13:35:38.981171Z"
    },
    "papermill": {
     "duration": 0.027055,
     "end_time": "2023-02-25T13:35:38.982103",
     "exception": false,
     "start_time": "2023-02-25T13:35:38.955048",
     "status": "completed"
    },
    "tags": []
   },
   "outputs": [],
   "source": [
    "import time\n",
    "from mlflow.tracking.client import MlflowClient\n",
    "from mlflow.entities.model_registry.model_version_status import ModelVersionStatus\n",
    " \n",
    "def wait_until_ready(model_name, model_version):\n",
    "    client = MlflowClient()\n",
    "    for _ in range(10):\n",
    "        model_version_details = client.get_model_version(\n",
    "        name=model_name,\n",
    "        version=model_version,\n",
    "        )\n",
    "        status = ModelVersionStatus.from_string(model_version_details.status)\n",
    "        print(\"Model status: %s\" % ModelVersionStatus.to_string(status))\n",
    "        if status == ModelVersionStatus.READY:\n",
    "            break\n",
    "        time.sleep(1)"
   ]
  },
  {
   "cell_type": "code",
   "execution_count": 4,
   "id": "95dc38bf",
   "metadata": {
    "execution": {
     "iopub.execute_input": "2023-02-25T13:35:38.988767Z",
     "iopub.status.busy": "2023-02-25T13:35:38.988767Z",
     "iopub.status.idle": "2023-02-25T13:35:39.092268Z",
     "shell.execute_reply": "2023-02-25T13:35:39.092268Z"
    },
    "papermill": {
     "duration": 0.110165,
     "end_time": "2023-02-25T13:35:39.092268",
     "exception": false,
     "start_time": "2023-02-25T13:35:38.982103",
     "status": "completed"
    },
    "tags": []
   },
   "outputs": [
    {
     "name": "stdout",
     "output_type": "stream",
     "text": [
      "Model status: READY\n"
     ]
    }
   ],
   "source": [
    "wait_until_ready(model_name, model_version)"
   ]
  },
  {
   "cell_type": "code",
   "execution_count": 5,
   "id": "5f8245d4",
   "metadata": {
    "execution": {
     "iopub.execute_input": "2023-02-25T13:35:39.092268Z",
     "iopub.status.busy": "2023-02-25T13:35:39.092268Z",
     "iopub.status.idle": "2023-02-25T13:35:39.140038Z",
     "shell.execute_reply": "2023-02-25T13:35:39.140038Z"
    },
    "papermill": {
     "duration": 0.04777,
     "end_time": "2023-02-25T13:35:39.140038",
     "exception": false,
     "start_time": "2023-02-25T13:35:39.092268",
     "status": "completed"
    },
    "tags": []
   },
   "outputs": [
    {
     "data": {
      "text/plain": [
       "<RegisteredModel: creation_timestamp=1677327553538, description='This model forecasts the oil production based on the previous data.', last_updated_timestamp=1677332139108, latest_versions=[<ModelVersion: creation_timestamp=1677327553627, current_stage='Production', description='', last_updated_timestamp=1677330091639, name='prophet_forecasting', run_id='037a1a77df1940a3b82e71dfb87d87e4', run_link='', source='./mlflow/037a1a77df1940a3b82e71dfb87d87e4/artifacts/prophet_forecasting', status='READY', status_message='', tags={}, user_id='', version='1'>,\n",
       " <ModelVersion: creation_timestamp=1677331865137, current_stage='None', description='', last_updated_timestamp=1677331865137, name='prophet_forecasting', run_id='5c0457c8a2ba4a419acc87a0bf7a4381', run_link='', source='./mlflow/5c0457c8a2ba4a419acc87a0bf7a4381/artifacts/prophet_forecasting', status='READY', status_message='', tags={}, user_id='', version='3'>], name='prophet_forecasting', tags={}>"
      ]
     },
     "execution_count": 5,
     "metadata": {},
     "output_type": "execute_result"
    }
   ],
   "source": [
    "from mlflow.tracking.client import MlflowClient\n",
    " \n",
    "client = MlflowClient()\n",
    "client.update_registered_model(\n",
    "  name=model_name,\n",
    "  description=model_description\n",
    ")"
   ]
  },
  {
   "cell_type": "code",
   "execution_count": 6,
   "id": "86af8979",
   "metadata": {
    "execution": {
     "iopub.execute_input": "2023-02-25T13:35:39.140038Z",
     "iopub.status.busy": "2023-02-25T13:35:39.140038Z",
     "iopub.status.idle": "2023-02-25T13:35:39.171754Z",
     "shell.execute_reply": "2023-02-25T13:35:39.171754Z"
    },
    "papermill": {
     "duration": 0.031716,
     "end_time": "2023-02-25T13:35:39.171754",
     "exception": false,
     "start_time": "2023-02-25T13:35:39.140038",
     "status": "completed"
    },
    "tags": []
   },
   "outputs": [
    {
     "data": {
      "text/plain": [
       "<ModelVersion: creation_timestamp=1677327553627, current_stage='Production', description='mlflow model version', last_updated_timestamp=1677332139140, name='prophet_forecasting', run_id='037a1a77df1940a3b82e71dfb87d87e4', run_link='', source='./mlflow/037a1a77df1940a3b82e71dfb87d87e4/artifacts/prophet_forecasting', status='READY', status_message='', tags={}, user_id='', version='1'>"
      ]
     },
     "execution_count": 6,
     "metadata": {},
     "output_type": "execute_result"
    }
   ],
   "source": [
    "client.update_model_version(\n",
    "  name=model_name,\n",
    "  version=model_version,\n",
    "  description=version_description\n",
    ")"
   ]
  },
  {
   "cell_type": "code",
   "execution_count": 7,
   "id": "ccbbe69c",
   "metadata": {
    "execution": {
     "iopub.execute_input": "2023-02-25T13:35:39.174622Z",
     "iopub.status.busy": "2023-02-25T13:35:39.174622Z",
     "iopub.status.idle": "2023-02-25T13:35:39.203308Z",
     "shell.execute_reply": "2023-02-25T13:35:39.203308Z"
    },
    "papermill": {
     "duration": 0.028686,
     "end_time": "2023-02-25T13:35:39.203308",
     "exception": false,
     "start_time": "2023-02-25T13:35:39.174622",
     "status": "completed"
    },
    "tags": []
   },
   "outputs": [
    {
     "data": {
      "text/plain": [
       "<ModelVersion: creation_timestamp=1677327553627, current_stage='Production', description='mlflow model version', last_updated_timestamp=1677332139187, name='prophet_forecasting', run_id='037a1a77df1940a3b82e71dfb87d87e4', run_link='', source='./mlflow/037a1a77df1940a3b82e71dfb87d87e4/artifacts/prophet_forecasting', status='READY', status_message='', tags={}, user_id='', version='1'>"
      ]
     },
     "execution_count": 7,
     "metadata": {},
     "output_type": "execute_result"
    }
   ],
   "source": [
    "client.transition_model_version_stage(\n",
    "  name=model_name,\n",
    "  version=model_version,\n",
    "  stage='Production',\n",
    ")"
   ]
  },
  {
   "cell_type": "code",
   "execution_count": 8,
   "id": "932fa648",
   "metadata": {
    "execution": {
     "iopub.execute_input": "2023-02-25T13:35:39.203308Z",
     "iopub.status.busy": "2023-02-25T13:35:39.203308Z",
     "iopub.status.idle": "2023-02-25T13:35:39.235329Z",
     "shell.execute_reply": "2023-02-25T13:35:39.235329Z"
    },
    "papermill": {
     "duration": 0.032021,
     "end_time": "2023-02-25T13:35:39.235329",
     "exception": false,
     "start_time": "2023-02-25T13:35:39.203308",
     "status": "completed"
    },
    "tags": []
   },
   "outputs": [
    {
     "name": "stdout",
     "output_type": "stream",
     "text": [
      "The current model stage is: 'Production'\n"
     ]
    }
   ],
   "source": [
    "model_version_details = client.get_model_version(\n",
    "  name=model_name,\n",
    "  version=model_version,\n",
    ")\n",
    "print(\"The current model stage is: '{stage}'\".format(stage=model_version_details.current_stage))"
   ]
  },
  {
   "cell_type": "code",
   "execution_count": 9,
   "id": "ac8a69f3",
   "metadata": {
    "execution": {
     "iopub.execute_input": "2023-02-25T13:35:39.235329Z",
     "iopub.status.busy": "2023-02-25T13:35:39.235329Z",
     "iopub.status.idle": "2023-02-25T13:35:39.267155Z",
     "shell.execute_reply": "2023-02-25T13:35:39.267155Z"
    },
    "papermill": {
     "duration": 0.033568,
     "end_time": "2023-02-25T13:35:39.268897",
     "exception": false,
     "start_time": "2023-02-25T13:35:39.235329",
     "status": "completed"
    },
    "tags": []
   },
   "outputs": [
    {
     "name": "stdout",
     "output_type": "stream",
     "text": [
      "The latest production version of the model 'prophet_forecasting' is '1'.\n"
     ]
    }
   ],
   "source": [
    "latest_version_info = client.get_latest_versions(model_name, stages=[\"Production\"])\n",
    "latest_production_version = latest_version_info[0].version\n",
    "print(\"The latest production version of the model '%s' is '%s'.\" % (model_name, latest_production_version))"
   ]
  },
  {
   "cell_type": "code",
   "execution_count": null,
   "id": "c8f99d04",
   "metadata": {
    "papermill": {
     "duration": 0.003059,
     "end_time": "2023-02-25T13:35:39.274935",
     "exception": false,
     "start_time": "2023-02-25T13:35:39.271876",
     "status": "completed"
    },
    "tags": []
   },
   "outputs": [],
   "source": []
  }
 ],
 "metadata": {
  "celltoolbar": "Tags",
  "kernelspec": {
   "display_name": "Python 3 (ipykernel)",
   "language": "python",
   "name": "python3"
  },
  "language_info": {
   "codemirror_mode": {
    "name": "ipython",
    "version": 3
   },
   "file_extension": ".py",
   "mimetype": "text/x-python",
   "name": "python",
   "nbconvert_exporter": "python",
   "pygments_lexer": "ipython3",
   "version": "3.8.16"
  },
  "papermill": {
   "default_parameters": {},
   "duration": 5.122194,
   "end_time": "2023-02-25T13:35:39.506291",
   "environment_variables": {},
   "exception": null,
   "input_path": "input_notebooks/model_registry.ipynb",
   "output_path": "output_notebooks/model_registry_out.ipynb",
   "parameters": {},
   "start_time": "2023-02-25T13:35:34.384097",
   "version": "2.4.0"
  }
 },
 "nbformat": 4,
 "nbformat_minor": 5
}