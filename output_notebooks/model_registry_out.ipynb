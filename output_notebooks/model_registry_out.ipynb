{
 "cells": [
  {
   "cell_type": "markdown",
   "id": "1582595a",
   "metadata": {
    "papermill": {
     "duration": 0.005587,
     "end_time": "2023-02-26T05:07:55.864818",
     "exception": false,
     "start_time": "2023-02-26T05:07:55.859231",
     "status": "completed"
    },
    "tags": []
   },
   "source": [
    "Set MLflow tracker"
   ]
  },
  {
   "cell_type": "code",
   "execution_count": 1,
   "id": "4c07a38b",
   "metadata": {
    "execution": {
     "iopub.execute_input": "2023-02-26T05:07:55.872033Z",
     "iopub.status.busy": "2023-02-26T05:07:55.871088Z",
     "iopub.status.idle": "2023-02-26T05:07:57.775728Z",
     "shell.execute_reply": "2023-02-26T05:07:57.774257Z"
    },
    "papermill": {
     "duration": 1.911286,
     "end_time": "2023-02-26T05:07:57.778746",
     "exception": false,
     "start_time": "2023-02-26T05:07:55.867460",
     "status": "completed"
    },
    "tags": []
   },
   "outputs": [],
   "source": [
    "import mlflow\n",
    "# Provide uri and connect to your tracking server\n",
    "mlflow.set_tracking_uri('http://127.0.0.1:5000/')"
   ]
  },
  {
   "cell_type": "code",
   "execution_count": 2,
   "id": "ed645f35",
   "metadata": {
    "execution": {
     "iopub.execute_input": "2023-02-26T05:07:57.786861Z",
     "iopub.status.busy": "2023-02-26T05:07:57.785783Z",
     "iopub.status.idle": "2023-02-26T05:07:57.807797Z",
     "shell.execute_reply": "2023-02-26T05:07:57.805389Z"
    },
    "papermill": {
     "duration": 0.029128,
     "end_time": "2023-02-26T05:07:57.810508",
     "exception": false,
     "start_time": "2023-02-26T05:07:57.781380",
     "status": "completed"
    },
    "tags": [
     "parameters"
    ]
   },
   "outputs": [],
   "source": [
    "COUNTRY = \"US\"\n",
    "\n",
    "model_name = \"Logistic_Regression\"\n",
    "model_version = 1\n",
    "model_description = \"This model forecasts the oil production based on the previous data.\"\n",
    "version_description = \"mlflow model version\""
   ]
  },
  {
   "cell_type": "code",
   "execution_count": 3,
   "id": "04bc51bd",
   "metadata": {
    "execution": {
     "iopub.execute_input": "2023-02-26T05:07:57.819166Z",
     "iopub.status.busy": "2023-02-26T05:07:57.819166Z",
     "iopub.status.idle": "2023-02-26T05:07:57.837546Z",
     "shell.execute_reply": "2023-02-26T05:07:57.835176Z"
    },
    "papermill": {
     "duration": 0.025437,
     "end_time": "2023-02-26T05:07:57.839600",
     "exception": false,
     "start_time": "2023-02-26T05:07:57.814163",
     "status": "completed"
    },
    "tags": [
     "injected-parameters"
    ]
   },
   "outputs": [],
   "source": [
    "# Parameters\n",
    "COUNTRY = \"RU\"\n",
    "model_name = \"Logistic_Regression\"\n",
    "model_version = 1\n"
   ]
  },
  {
   "cell_type": "code",
   "execution_count": 4,
   "id": "2d7076ec",
   "metadata": {
    "execution": {
     "iopub.execute_input": "2023-02-26T05:07:57.848337Z",
     "iopub.status.busy": "2023-02-26T05:07:57.848337Z",
     "iopub.status.idle": "2023-02-26T05:07:57.867138Z",
     "shell.execute_reply": "2023-02-26T05:07:57.866063Z"
    },
    "papermill": {
     "duration": 0.025288,
     "end_time": "2023-02-26T05:07:57.869665",
     "exception": false,
     "start_time": "2023-02-26T05:07:57.844377",
     "status": "completed"
    },
    "tags": []
   },
   "outputs": [],
   "source": [
    "model_name = f\"{COUNTRY}_{model_name}\""
   ]
  },
  {
   "cell_type": "markdown",
   "id": "76af7221",
   "metadata": {
    "papermill": {
     "duration": 0.003954,
     "end_time": "2023-02-26T05:07:57.877197",
     "exception": false,
     "start_time": "2023-02-26T05:07:57.873243",
     "status": "completed"
    },
    "tags": []
   },
   "source": [
    "### MLflow Model Registry "
   ]
  },
  {
   "cell_type": "code",
   "execution_count": 5,
   "id": "df369976",
   "metadata": {
    "execution": {
     "iopub.execute_input": "2023-02-26T05:07:57.886208Z",
     "iopub.status.busy": "2023-02-26T05:07:57.886208Z",
     "iopub.status.idle": "2023-02-26T05:07:57.898084Z",
     "shell.execute_reply": "2023-02-26T05:07:57.896738Z"
    },
    "papermill": {
     "duration": 0.018878,
     "end_time": "2023-02-26T05:07:57.900135",
     "exception": false,
     "start_time": "2023-02-26T05:07:57.881257",
     "status": "completed"
    },
    "tags": []
   },
   "outputs": [],
   "source": [
    "import time\n",
    "from mlflow.tracking.client import MlflowClient\n",
    "from mlflow.entities.model_registry.model_version_status import ModelVersionStatus\n",
    " \n",
    "def wait_until_ready(model_name, model_version):\n",
    "    client = MlflowClient()\n",
    "    for _ in range(10):\n",
    "        model_version_details = client.get_model_version(\n",
    "        name=model_name,\n",
    "        version=model_version,\n",
    "        )\n",
    "        status = ModelVersionStatus.from_string(model_version_details.status)\n",
    "        print(\"Model status: %s\" % ModelVersionStatus.to_string(status))\n",
    "        if status == ModelVersionStatus.READY:\n",
    "            break\n",
    "        time.sleep(1)"
   ]
  },
  {
   "cell_type": "code",
   "execution_count": 6,
   "id": "95dc38bf",
   "metadata": {
    "execution": {
     "iopub.execute_input": "2023-02-26T05:07:57.909700Z",
     "iopub.status.busy": "2023-02-26T05:07:57.908658Z",
     "iopub.status.idle": "2023-02-26T05:07:58.022547Z",
     "shell.execute_reply": "2023-02-26T05:07:58.021105Z"
    },
    "papermill": {
     "duration": 0.118808,
     "end_time": "2023-02-26T05:07:58.023555",
     "exception": false,
     "start_time": "2023-02-26T05:07:57.904747",
     "status": "completed"
    },
    "tags": []
   },
   "outputs": [
    {
     "name": "stdout",
     "output_type": "stream",
     "text": [
      "Model status: READY\n"
     ]
    }
   ],
   "source": [
    "wait_until_ready(model_name, model_version)"
   ]
  },
  {
   "cell_type": "code",
   "execution_count": 7,
   "id": "5f8245d4",
   "metadata": {
    "execution": {
     "iopub.execute_input": "2023-02-26T05:07:58.031204Z",
     "iopub.status.busy": "2023-02-26T05:07:58.029606Z",
     "iopub.status.idle": "2023-02-26T05:07:58.084202Z",
     "shell.execute_reply": "2023-02-26T05:07:58.083226Z"
    },
    "papermill": {
     "duration": 0.060599,
     "end_time": "2023-02-26T05:07:58.087209",
     "exception": false,
     "start_time": "2023-02-26T05:07:58.026610",
     "status": "completed"
    },
    "tags": []
   },
   "outputs": [
    {
     "data": {
      "text/plain": [
       "<RegisteredModel: creation_timestamp=1677377261665, description='This model forecasts the oil production based on the previous data.', last_updated_timestamp=1677388078044, latest_versions=[<ModelVersion: creation_timestamp=1677377261714, current_stage='Production', description='mlflow model version', last_updated_timestamp=1677378561784, name='RU_Logistic_Regression', run_id='ac388ebf02ac4526a0d30578fb766578', run_link='', source='./mlflow/ac388ebf02ac4526a0d30578fb766578/artifacts/Logistic_Regression', status='READY', status_message='', tags={}, user_id='', version='1'>,\n",
       " <ModelVersion: creation_timestamp=1677388046988, current_stage='None', description='', last_updated_timestamp=1677388046988, name='RU_Logistic_Regression', run_id='8ce7f971db51451e85ba3d42458ed8fb', run_link='', source='./mlflow/8ce7f971db51451e85ba3d42458ed8fb/artifacts/Logistic_Regression', status='READY', status_message='', tags={}, user_id='', version='4'>], name='RU_Logistic_Regression', tags={}>"
      ]
     },
     "execution_count": 7,
     "metadata": {},
     "output_type": "execute_result"
    }
   ],
   "source": [
    "from mlflow.tracking.client import MlflowClient\n",
    " \n",
    "client = MlflowClient()\n",
    "client.update_registered_model(\n",
    "  name=model_name,\n",
    "  description=model_description\n",
    ")"
   ]
  },
  {
   "cell_type": "code",
   "execution_count": 8,
   "id": "86af8979",
   "metadata": {
    "execution": {
     "iopub.execute_input": "2023-02-26T05:07:58.098538Z",
     "iopub.status.busy": "2023-02-26T05:07:58.098538Z",
     "iopub.status.idle": "2023-02-26T05:07:58.129180Z",
     "shell.execute_reply": "2023-02-26T05:07:58.129180Z"
    },
    "papermill": {
     "duration": 0.038026,
     "end_time": "2023-02-26T05:07:58.131666",
     "exception": false,
     "start_time": "2023-02-26T05:07:58.093640",
     "status": "completed"
    },
    "tags": []
   },
   "outputs": [
    {
     "data": {
      "text/plain": [
       "<ModelVersion: creation_timestamp=1677377261714, current_stage='Production', description='mlflow model version', last_updated_timestamp=1677388078108, name='RU_Logistic_Regression', run_id='ac388ebf02ac4526a0d30578fb766578', run_link='', source='./mlflow/ac388ebf02ac4526a0d30578fb766578/artifacts/Logistic_Regression', status='READY', status_message='', tags={}, user_id='', version='1'>"
      ]
     },
     "execution_count": 8,
     "metadata": {},
     "output_type": "execute_result"
    }
   ],
   "source": [
    "client.update_model_version(\n",
    "  name=model_name,\n",
    "  version=model_version,\n",
    "  description=version_description\n",
    ")"
   ]
  },
  {
   "cell_type": "code",
   "execution_count": 9,
   "id": "ccbbe69c",
   "metadata": {
    "execution": {
     "iopub.execute_input": "2023-02-26T05:07:58.139677Z",
     "iopub.status.busy": "2023-02-26T05:07:58.138678Z",
     "iopub.status.idle": "2023-02-26T05:07:58.194380Z",
     "shell.execute_reply": "2023-02-26T05:07:58.193381Z"
    },
    "papermill": {
     "duration": 0.061704,
     "end_time": "2023-02-26T05:07:58.196382",
     "exception": false,
     "start_time": "2023-02-26T05:07:58.134678",
     "status": "completed"
    },
    "tags": []
   },
   "outputs": [
    {
     "data": {
      "text/plain": [
       "<ModelVersion: creation_timestamp=1677377261714, current_stage='Production', description='mlflow model version', last_updated_timestamp=1677388078154, name='RU_Logistic_Regression', run_id='ac388ebf02ac4526a0d30578fb766578', run_link='', source='./mlflow/ac388ebf02ac4526a0d30578fb766578/artifacts/Logistic_Regression', status='READY', status_message='', tags={}, user_id='', version='1'>"
      ]
     },
     "execution_count": 9,
     "metadata": {},
     "output_type": "execute_result"
    }
   ],
   "source": [
    "client.transition_model_version_stage(\n",
    "  name=model_name,\n",
    "  version=model_version,\n",
    "  stage='Production',\n",
    ")"
   ]
  },
  {
   "cell_type": "code",
   "execution_count": 10,
   "id": "932fa648",
   "metadata": {
    "execution": {
     "iopub.execute_input": "2023-02-26T05:07:58.203921Z",
     "iopub.status.busy": "2023-02-26T05:07:58.203921Z",
     "iopub.status.idle": "2023-02-26T05:07:58.225977Z",
     "shell.execute_reply": "2023-02-26T05:07:58.224990Z"
    },
    "papermill": {
     "duration": 0.029578,
     "end_time": "2023-02-26T05:07:58.228977",
     "exception": false,
     "start_time": "2023-02-26T05:07:58.199399",
     "status": "completed"
    },
    "tags": []
   },
   "outputs": [
    {
     "name": "stdout",
     "output_type": "stream",
     "text": [
      "The current model stage is: 'Production'\n"
     ]
    }
   ],
   "source": [
    "model_version_details = client.get_model_version(\n",
    "  name=model_name,\n",
    "  version=model_version,\n",
    ")\n",
    "print(\"The current model stage is: '{stage}'\".format(stage=model_version_details.current_stage))"
   ]
  },
  {
   "cell_type": "code",
   "execution_count": 11,
   "id": "ac8a69f3",
   "metadata": {
    "execution": {
     "iopub.execute_input": "2023-02-26T05:07:58.237485Z",
     "iopub.status.busy": "2023-02-26T05:07:58.237485Z",
     "iopub.status.idle": "2023-02-26T05:07:58.272134Z",
     "shell.execute_reply": "2023-02-26T05:07:58.271298Z"
    },
    "papermill": {
     "duration": 0.041656,
     "end_time": "2023-02-26T05:07:58.274135",
     "exception": false,
     "start_time": "2023-02-26T05:07:58.232479",
     "status": "completed"
    },
    "tags": []
   },
   "outputs": [
    {
     "name": "stdout",
     "output_type": "stream",
     "text": [
      "The latest production version of the model 'RU_Logistic_Regression' is '1'.\n"
     ]
    }
   ],
   "source": [
    "latest_version_info = client.get_latest_versions(model_name, stages=[\"Production\"])\n",
    "latest_production_version = latest_version_info[0].version\n",
    "print(\"The latest production version of the model '%s' is '%s'.\" % (model_name, latest_production_version))"
   ]
  },
  {
   "cell_type": "code",
   "execution_count": null,
   "id": "c8f99d04",
   "metadata": {
    "papermill": {
     "duration": 0.002999,
     "end_time": "2023-02-26T05:07:58.280133",
     "exception": false,
     "start_time": "2023-02-26T05:07:58.277134",
     "status": "completed"
    },
    "tags": []
   },
   "outputs": [],
   "source": []
  }
 ],
 "metadata": {
  "celltoolbar": "Tags",
  "kernelspec": {
   "display_name": "Python 3 (ipykernel)",
   "language": "python",
   "name": "python3"
  },
  "language_info": {
   "codemirror_mode": {
    "name": "ipython",
    "version": 3
   },
   "file_extension": ".py",
   "mimetype": "text/x-python",
   "name": "python",
   "nbconvert_exporter": "python",
   "pygments_lexer": "ipython3",
   "version": "3.8.16"
  },
  "papermill": {
   "default_parameters": {},
   "duration": 6.48238,
   "end_time": "2023-02-26T05:07:58.634945",
   "environment_variables": {},
   "exception": null,
   "input_path": "input_notebooks/model_registry.ipynb",
   "output_path": "output_notebooks/model_registry_out.ipynb",
   "parameters": {
    "COUNTRY": "RU",
    "model_name": "Logistic_Regression",
    "model_version": 1
   },
   "start_time": "2023-02-26T05:07:52.152565",
   "version": "2.4.0"
  }
 },
 "nbformat": 4,
 "nbformat_minor": 5
}