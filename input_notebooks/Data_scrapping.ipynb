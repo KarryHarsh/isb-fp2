{
 "cells": [
  {
   "cell_type": "code",
   "execution_count": 5,
   "id": "4836d6f0",
   "metadata": {},
   "outputs": [],
   "source": [
    "#!pip install pandas-datareader\n",
    "import pandas as pd"
   ]
  },
  {
   "cell_type": "code",
   "execution_count": 6,
   "id": "541ff1af",
   "metadata": {
    "tags": [
     "parameters"
    ]
   },
   "outputs": [],
   "source": [
    "FROM = \"2001-01-01\"\n",
    "TO = \"2023-02-01\"\n",
    "COUNTRY = \"US\"\n",
    "\n",
    "dataset_dir  = \"datadir\\\\datasets\""
   ]
  },
  {
   "cell_type": "code",
   "execution_count": 7,
   "id": "40c514e8",
   "metadata": {},
   "outputs": [
    {
     "data": {
      "text/plain": [
       "WindowsPath('C:/Users/Harsha/Documents/ISB_AMPBA/Term5/FP2/GroupAssignment/project')"
      ]
     },
     "execution_count": 7,
     "metadata": {},
     "output_type": "execute_result"
    }
   ],
   "source": [
    "from typing import Optional\n",
    "from pathlib import Path\n",
    "\n",
    "def find_project_root() -> Optional[Path]:\n",
    "    current = Path(\".\").resolve()\n",
    "    \n",
    "    while True:\n",
    "        if (current / \".git\").exists():\n",
    "            return current\n",
    "        \n",
    "        if current.parent == current:\n",
    "            print(\"WARNING: No .git dir found\")\n",
    "            return current\n",
    "              \n",
    "        current = current.parent\n",
    "        \n",
    "\n",
    "PROJECT_ROOT = find_project_root()\n",
    "PROJECT_ROOT"
   ]
  },
  {
   "cell_type": "code",
   "execution_count": 8,
   "id": "ef9a8913",
   "metadata": {},
   "outputs": [
    {
     "data": {
      "text/html": [
       "<div>\n",
       "<style scoped>\n",
       "    .dataframe tbody tr th:only-of-type {\n",
       "        vertical-align: middle;\n",
       "    }\n",
       "\n",
       "    .dataframe tbody tr th {\n",
       "        vertical-align: top;\n",
       "    }\n",
       "\n",
       "    .dataframe thead th {\n",
       "        text-align: right;\n",
       "    }\n",
       "</style>\n",
       "<table border=\"1\" class=\"dataframe\">\n",
       "  <thead>\n",
       "    <tr style=\"text-align: right;\">\n",
       "      <th>Unit of measure</th>\n",
       "      <th>Thousand Barrels per day (kb/d)</th>\n",
       "    </tr>\n",
       "    <tr>\n",
       "      <th>TIME_PERIOD</th>\n",
       "      <th></th>\n",
       "    </tr>\n",
       "  </thead>\n",
       "  <tbody>\n",
       "    <tr>\n",
       "      <th>2002-01-01</th>\n",
       "      <td>5848</td>\n",
       "    </tr>\n",
       "    <tr>\n",
       "      <th>2002-02-01</th>\n",
       "      <td>5871</td>\n",
       "    </tr>\n",
       "    <tr>\n",
       "      <th>2002-03-01</th>\n",
       "      <td>5883</td>\n",
       "    </tr>\n",
       "    <tr>\n",
       "      <th>2002-04-01</th>\n",
       "      <td>5859</td>\n",
       "    </tr>\n",
       "    <tr>\n",
       "      <th>2002-05-01</th>\n",
       "      <td>5924</td>\n",
       "    </tr>\n",
       "  </tbody>\n",
       "</table>\n",
       "</div>"
      ],
      "text/plain": [
       "Unit of measure  Thousand Barrels per day (kb/d)\n",
       "TIME_PERIOD                                     \n",
       "2002-01-01                                  5848\n",
       "2002-02-01                                  5871\n",
       "2002-03-01                                  5883\n",
       "2002-04-01                                  5859\n",
       "2002-05-01                                  5924"
      ]
     },
     "execution_count": 8,
     "metadata": {},
     "output_type": "execute_result"
    }
   ],
   "source": [
    "import pandas_datareader.data as web\n",
    "df = web.DataReader(\n",
    "    '&'.join([\n",
    "        'dataset=JODI_OIL', \n",
    "        f'from={FROM}', \n",
    "        'h=TIME', \n",
    "        f'to={TO}', \n",
    "        'v=Reference Area', \n",
    "        'ENERGY_PRODUCT=[CRUDEOIL]', \n",
    "        'FLOW_BREAKDOWN=[INDPROD]', \n",
    "        f'REF_AREA=[{COUNTRY}]', \n",
    "        'UNIT_MEASURE=[KBD]'\n",
    "    ]),\n",
    "    'econdb'\n",
    ")\n",
    "df.columns = df.columns.get_level_values(3)\n",
    "df.head()"
   ]
  },
  {
   "cell_type": "code",
   "execution_count": 9,
   "id": "557170f7",
   "metadata": {
    "scrolled": true
   },
   "outputs": [],
   "source": [
    "# df.columns = df.columns.get_level_values(3)\n",
    "# df['TIME_PERIOD'] = df.index\n",
    "# # reset the index columns\n",
    "# df.reset_index(drop=True, inplace=True)\n",
    "\n",
    "\n"
   ]
  },
  {
   "cell_type": "code",
   "execution_count": 10,
   "id": "acd63e1e",
   "metadata": {},
   "outputs": [
    {
     "data": {
      "text/html": [
       "<div>\n",
       "<style scoped>\n",
       "    .dataframe tbody tr th:only-of-type {\n",
       "        vertical-align: middle;\n",
       "    }\n",
       "\n",
       "    .dataframe tbody tr th {\n",
       "        vertical-align: top;\n",
       "    }\n",
       "\n",
       "    .dataframe thead th {\n",
       "        text-align: right;\n",
       "    }\n",
       "</style>\n",
       "<table border=\"1\" class=\"dataframe\">\n",
       "  <thead>\n",
       "    <tr style=\"text-align: right;\">\n",
       "      <th></th>\n",
       "      <th>Date</th>\n",
       "      <th>production</th>\n",
       "    </tr>\n",
       "  </thead>\n",
       "  <tbody>\n",
       "    <tr>\n",
       "      <th>0</th>\n",
       "      <td>2002-01-01</td>\n",
       "      <td>5848</td>\n",
       "    </tr>\n",
       "    <tr>\n",
       "      <th>1</th>\n",
       "      <td>2002-02-01</td>\n",
       "      <td>5871</td>\n",
       "    </tr>\n",
       "    <tr>\n",
       "      <th>2</th>\n",
       "      <td>2002-03-01</td>\n",
       "      <td>5883</td>\n",
       "    </tr>\n",
       "    <tr>\n",
       "      <th>3</th>\n",
       "      <td>2002-04-01</td>\n",
       "      <td>5859</td>\n",
       "    </tr>\n",
       "    <tr>\n",
       "      <th>4</th>\n",
       "      <td>2002-05-01</td>\n",
       "      <td>5924</td>\n",
       "    </tr>\n",
       "  </tbody>\n",
       "</table>\n",
       "</div>"
      ],
      "text/plain": [
       "        Date  production\n",
       "0 2002-01-01        5848\n",
       "1 2002-02-01        5871\n",
       "2 2002-03-01        5883\n",
       "3 2002-04-01        5859\n",
       "4 2002-05-01        5924"
      ]
     },
     "execution_count": 10,
     "metadata": {},
     "output_type": "execute_result"
    }
   ],
   "source": [
    "df2 = pd.DataFrame(df.index.to_list(), columns=['Date'])\n",
    "df2[\"production\"] = df['Thousand Barrels per day (kb/d)'].to_list() \n",
    "df2.head()"
   ]
  },
  {
   "cell_type": "code",
   "execution_count": 11,
   "id": "3fe614fb",
   "metadata": {},
   "outputs": [],
   "source": [
    "# python program to check if a path exists\n",
    "#if path doesn’t exist we create a new path\n",
    "from pathlib import Path\n",
    "\n",
    "#creating a new directory called pythondirectory\n",
    "Path(f\"{PROJECT_ROOT}\\\\{dataset_dir}\\\\\").mkdir(parents=True, exist_ok=True)"
   ]
  },
  {
   "cell_type": "code",
   "execution_count": 12,
   "id": "4e736dff",
   "metadata": {},
   "outputs": [],
   "source": [
    "df2.to_parquet(f\"{PROJECT_ROOT}\\\\{dataset_dir}\\\\{COUNTRY}.parquet\")"
   ]
  },
  {
   "cell_type": "code",
   "execution_count": null,
   "id": "3c48916b",
   "metadata": {},
   "outputs": [],
   "source": []
  }
 ],
 "metadata": {
  "celltoolbar": "Tags",
  "kernelspec": {
   "display_name": "Python 3 (ipykernel)",
   "language": "python",
   "name": "python3"
  },
  "language_info": {
   "codemirror_mode": {
    "name": "ipython",
    "version": 3
   },
   "file_extension": ".py",
   "mimetype": "text/x-python",
   "name": "python",
   "nbconvert_exporter": "python",
   "pygments_lexer": "ipython3",
   "version": "3.8.16"
  }
 },
 "nbformat": 4,
 "nbformat_minor": 5
}
