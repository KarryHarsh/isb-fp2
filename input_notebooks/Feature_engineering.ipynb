{
 "cells": [
  {
   "cell_type": "code",
   "execution_count": 210,
   "metadata": {},
   "outputs": [],
   "source": [
    "# %load_ext autoreload\n",
    "# %autoreload 2\n"
   ]
  },
  {
   "cell_type": "code",
   "execution_count": 1,
   "metadata": {},
   "outputs": [],
   "source": [
    "import warnings\n",
    "warnings.filterwarnings(\"ignore\")"
   ]
  },
  {
   "cell_type": "code",
   "execution_count": 2,
   "metadata": {},
   "outputs": [],
   "source": [
    "import pandas as pd\n",
    "import matplotlib.pyplot as plt\n",
    "\n",
    "# from utils import evaluate_binary, log_mlflow"
   ]
  },
  {
   "cell_type": "code",
   "execution_count": 5,
   "metadata": {},
   "outputs": [
    {
     "data": {
      "text/plain": [
       "WindowsPath('C:/Users/Harsha/Documents/ISB_AMPBA/Term5/FP2/GroupAssignment/project')"
      ]
     },
     "execution_count": 5,
     "metadata": {},
     "output_type": "execute_result"
    }
   ],
   "source": [
    "from typing import Optional\n",
    "from pathlib import Path\n",
    "\n",
    "def find_project_root() -> Optional[Path]:\n",
    "    current = Path(\".\").resolve()\n",
    "    \n",
    "    while True:\n",
    "        if (current / \".git\").exists():\n",
    "            return current\n",
    "        \n",
    "        if current.parent == current:\n",
    "            print(\"WARNING: No .git dir found\")\n",
    "            return current\n",
    "              \n",
    "        current = current.parent\n",
    "        \n",
    "\n",
    "PROJECT_ROOT = find_project_root()\n",
    "PROJECT_ROOT"
   ]
  },
  {
   "cell_type": "code",
   "execution_count": 6,
   "metadata": {
    "tags": [
     "parameters"
    ]
   },
   "outputs": [],
   "source": [
    "# Tag this cell as 'parameters'\n",
    "# BASE\n",
    "COUNTRY = 'US'\n",
    "\n",
    "dataset_dir  = \"datadir\\\\datasets\"\n",
    "model_dir  = \"model\\\\linear\"\n",
    "transformed_data_dir = \"datadir\\\\transformed\""
   ]
  },
  {
   "cell_type": "markdown",
   "metadata": {},
   "source": [
    "### Import data"
   ]
  },
  {
   "cell_type": "code",
   "execution_count": 15,
   "metadata": {},
   "outputs": [
    {
     "data": {
      "text/html": [
       "<div>\n",
       "<style scoped>\n",
       "    .dataframe tbody tr th:only-of-type {\n",
       "        vertical-align: middle;\n",
       "    }\n",
       "\n",
       "    .dataframe tbody tr th {\n",
       "        vertical-align: top;\n",
       "    }\n",
       "\n",
       "    .dataframe thead th {\n",
       "        text-align: right;\n",
       "    }\n",
       "</style>\n",
       "<table border=\"1\" class=\"dataframe\">\n",
       "  <thead>\n",
       "    <tr style=\"text-align: right;\">\n",
       "      <th></th>\n",
       "      <th>Date</th>\n",
       "      <th>production</th>\n",
       "    </tr>\n",
       "  </thead>\n",
       "  <tbody>\n",
       "    <tr>\n",
       "      <th>0</th>\n",
       "      <td>2002-01-01</td>\n",
       "      <td>5848</td>\n",
       "    </tr>\n",
       "    <tr>\n",
       "      <th>1</th>\n",
       "      <td>2002-02-01</td>\n",
       "      <td>5871</td>\n",
       "    </tr>\n",
       "    <tr>\n",
       "      <th>2</th>\n",
       "      <td>2002-03-01</td>\n",
       "      <td>5883</td>\n",
       "    </tr>\n",
       "    <tr>\n",
       "      <th>3</th>\n",
       "      <td>2002-04-01</td>\n",
       "      <td>5859</td>\n",
       "    </tr>\n",
       "    <tr>\n",
       "      <th>4</th>\n",
       "      <td>2002-05-01</td>\n",
       "      <td>5924</td>\n",
       "    </tr>\n",
       "  </tbody>\n",
       "</table>\n",
       "</div>"
      ],
      "text/plain": [
       "        Date  production\n",
       "0 2002-01-01        5848\n",
       "1 2002-02-01        5871\n",
       "2 2002-03-01        5883\n",
       "3 2002-04-01        5859\n",
       "4 2002-05-01        5924"
      ]
     },
     "execution_count": 15,
     "metadata": {},
     "output_type": "execute_result"
    }
   ],
   "source": [
    "df = pd.read_parquet(f'{PROJECT_ROOT}\\\\{dataset_dir}\\\\{COUNTRY}.parquet')\n",
    "# df[\"stock_name\"] = INDEX\n",
    "df.head()"
   ]
  },
  {
   "cell_type": "markdown",
   "metadata": {},
   "source": [
    "### Data prep"
   ]
  },
  {
   "cell_type": "code",
   "execution_count": 16,
   "metadata": {},
   "outputs": [],
   "source": [
    "df.sort_values(by='Date', ascending=True, inplace=True)  # Have to sort ascending for rolling to work correctly"
   ]
  },
  {
   "cell_type": "code",
   "execution_count": 17,
   "metadata": {},
   "outputs": [],
   "source": [
    "df['Date'] =  pd.to_datetime(df['Date'])"
   ]
  },
  {
   "cell_type": "markdown",
   "metadata": {},
   "source": [
    "### Create basic features"
   ]
  },
  {
   "cell_type": "code",
   "execution_count": 18,
   "metadata": {},
   "outputs": [
    {
     "data": {
      "text/html": [
       "<div>\n",
       "<style scoped>\n",
       "    .dataframe tbody tr th:only-of-type {\n",
       "        vertical-align: middle;\n",
       "    }\n",
       "\n",
       "    .dataframe tbody tr th {\n",
       "        vertical-align: top;\n",
       "    }\n",
       "\n",
       "    .dataframe thead th {\n",
       "        text-align: right;\n",
       "    }\n",
       "</style>\n",
       "<table border=\"1\" class=\"dataframe\">\n",
       "  <thead>\n",
       "    <tr style=\"text-align: right;\">\n",
       "      <th></th>\n",
       "      <th>Date</th>\n",
       "      <th>production</th>\n",
       "      <th>prev</th>\n",
       "    </tr>\n",
       "  </thead>\n",
       "  <tbody>\n",
       "    <tr>\n",
       "      <th>0</th>\n",
       "      <td>2002-01-01</td>\n",
       "      <td>5848</td>\n",
       "      <td>NaN</td>\n",
       "    </tr>\n",
       "    <tr>\n",
       "      <th>1</th>\n",
       "      <td>2002-02-01</td>\n",
       "      <td>5871</td>\n",
       "      <td>5848.0</td>\n",
       "    </tr>\n",
       "    <tr>\n",
       "      <th>2</th>\n",
       "      <td>2002-03-01</td>\n",
       "      <td>5883</td>\n",
       "      <td>5871.0</td>\n",
       "    </tr>\n",
       "    <tr>\n",
       "      <th>3</th>\n",
       "      <td>2002-04-01</td>\n",
       "      <td>5859</td>\n",
       "      <td>5883.0</td>\n",
       "    </tr>\n",
       "    <tr>\n",
       "      <th>4</th>\n",
       "      <td>2002-05-01</td>\n",
       "      <td>5924</td>\n",
       "      <td>5859.0</td>\n",
       "    </tr>\n",
       "  </tbody>\n",
       "</table>\n",
       "</div>"
      ],
      "text/plain": [
       "        Date  production    prev\n",
       "0 2002-01-01        5848     NaN\n",
       "1 2002-02-01        5871  5848.0\n",
       "2 2002-03-01        5883  5871.0\n",
       "3 2002-04-01        5859  5883.0\n",
       "4 2002-05-01        5924  5859.0"
      ]
     },
     "execution_count": 18,
     "metadata": {},
     "output_type": "execute_result"
    }
   ],
   "source": [
    "df['prev'] = df['production'].shift(1)\n",
    "df.head()"
   ]
  },
  {
   "cell_type": "code",
   "execution_count": 19,
   "metadata": {},
   "outputs": [
    {
     "data": {
      "text/html": [
       "<div>\n",
       "<style scoped>\n",
       "    .dataframe tbody tr th:only-of-type {\n",
       "        vertical-align: middle;\n",
       "    }\n",
       "\n",
       "    .dataframe tbody tr th {\n",
       "        vertical-align: top;\n",
       "    }\n",
       "\n",
       "    .dataframe thead th {\n",
       "        text-align: right;\n",
       "    }\n",
       "</style>\n",
       "<table border=\"1\" class=\"dataframe\">\n",
       "  <thead>\n",
       "    <tr style=\"text-align: right;\">\n",
       "      <th></th>\n",
       "      <th>Date</th>\n",
       "      <th>production</th>\n",
       "      <th>prev</th>\n",
       "      <th>sma2</th>\n",
       "      <th>sma5</th>\n",
       "      <th>sma10</th>\n",
       "      <th>sma20</th>\n",
       "    </tr>\n",
       "  </thead>\n",
       "  <tbody>\n",
       "    <tr>\n",
       "      <th>0</th>\n",
       "      <td>2002-01-01</td>\n",
       "      <td>5848</td>\n",
       "      <td>NaN</td>\n",
       "      <td>NaN</td>\n",
       "      <td>NaN</td>\n",
       "      <td>NaN</td>\n",
       "      <td>NaN</td>\n",
       "    </tr>\n",
       "    <tr>\n",
       "      <th>1</th>\n",
       "      <td>2002-02-01</td>\n",
       "      <td>5871</td>\n",
       "      <td>5848.0</td>\n",
       "      <td>NaN</td>\n",
       "      <td>NaN</td>\n",
       "      <td>NaN</td>\n",
       "      <td>NaN</td>\n",
       "    </tr>\n",
       "    <tr>\n",
       "      <th>2</th>\n",
       "      <td>2002-03-01</td>\n",
       "      <td>5883</td>\n",
       "      <td>5871.0</td>\n",
       "      <td>5859.5</td>\n",
       "      <td>NaN</td>\n",
       "      <td>NaN</td>\n",
       "      <td>NaN</td>\n",
       "    </tr>\n",
       "    <tr>\n",
       "      <th>3</th>\n",
       "      <td>2002-04-01</td>\n",
       "      <td>5859</td>\n",
       "      <td>5883.0</td>\n",
       "      <td>5877.0</td>\n",
       "      <td>NaN</td>\n",
       "      <td>NaN</td>\n",
       "      <td>NaN</td>\n",
       "    </tr>\n",
       "    <tr>\n",
       "      <th>4</th>\n",
       "      <td>2002-05-01</td>\n",
       "      <td>5924</td>\n",
       "      <td>5859.0</td>\n",
       "      <td>5871.0</td>\n",
       "      <td>NaN</td>\n",
       "      <td>NaN</td>\n",
       "      <td>NaN</td>\n",
       "    </tr>\n",
       "  </tbody>\n",
       "</table>\n",
       "</div>"
      ],
      "text/plain": [
       "        Date  production    prev    sma2  sma5  sma10  sma20\n",
       "0 2002-01-01        5848     NaN     NaN   NaN    NaN    NaN\n",
       "1 2002-02-01        5871  5848.0     NaN   NaN    NaN    NaN\n",
       "2 2002-03-01        5883  5871.0  5859.5   NaN    NaN    NaN\n",
       "3 2002-04-01        5859  5883.0  5877.0   NaN    NaN    NaN\n",
       "4 2002-05-01        5924  5859.0  5871.0   NaN    NaN    NaN"
      ]
     },
     "execution_count": 19,
     "metadata": {},
     "output_type": "execute_result"
    }
   ],
   "source": [
    "df['sma2'] = df['prev'].rolling(window=2).mean()\n",
    "df['sma5'] = df['prev'].rolling(window=5).mean()\n",
    "df['sma10'] = df['prev'].rolling(window=10).mean()\n",
    "df['sma20'] = df['prev'].rolling(window=20).mean()\n",
    "df.head()"
   ]
  },
  {
   "cell_type": "code",
   "execution_count": 20,
   "metadata": {},
   "outputs": [],
   "source": [
    "assert round(df['prev'].tail(5).mean(), 4) == round(df['sma5'].tail(1).item(), 4), 'Expected sma5 to be same as mean of past 5 items'\n",
    "assert round(df['prev'].tail(10).mean(), 4) == round(df['sma10'].tail(1).item(), 4), 'Expected sma10 to be same as mean of past 10 items'\n",
    "assert round(df['prev'].tail(20).mean(), 4) == round(df['sma20'].tail(1).item(), 4), 'Expected sma20 to be same as mean of past 20 items'"
   ]
  },
  {
   "cell_type": "code",
   "execution_count": 21,
   "metadata": {},
   "outputs": [],
   "source": [
    "df['ema12'] = df['prev'].ewm(span=12, min_periods=12, adjust=False).mean()\n",
    "df['ema26'] = df['prev'].ewm(span=26, min_periods=26, adjust=False).mean()"
   ]
  },
  {
   "cell_type": "code",
   "execution_count": 22,
   "metadata": {},
   "outputs": [],
   "source": [
    "def difference(prev_price, moving_average):\n",
    "    return (prev_price - moving_average) / prev_price"
   ]
  },
  {
   "cell_type": "code",
   "execution_count": 23,
   "metadata": {},
   "outputs": [],
   "source": [
    "for col in ['sma2', 'sma5', 'sma10', 'sma20', 'ema12', 'ema26']:\n",
    "    df['{}_diff'.format(col)] = difference(df['prev'], df[col])"
   ]
  },
  {
   "cell_type": "code",
   "execution_count": 24,
   "metadata": {},
   "outputs": [],
   "source": [
    "df.dropna(inplace=True)"
   ]
  },
  {
   "cell_type": "code",
   "execution_count": 25,
   "metadata": {},
   "outputs": [
    {
     "data": {
      "text/plain": [
       "(226, 15)"
      ]
     },
     "execution_count": 25,
     "metadata": {},
     "output_type": "execute_result"
    }
   ],
   "source": [
    "df.shape"
   ]
  },
  {
   "cell_type": "code",
   "execution_count": 26,
   "metadata": {},
   "outputs": [],
   "source": [
    "# df.drop(columns=['date', 'open'], inplace=True)"
   ]
  },
  {
   "cell_type": "markdown",
   "metadata": {},
   "source": [
    "### Create label"
   ]
  },
  {
   "cell_type": "code",
   "execution_count": 27,
   "metadata": {},
   "outputs": [],
   "source": [
    "df['label'] = (df['production'] > df['prev']).astype(int)\n",
    "df.reset_index(inplace = True)\n",
    "# df.drop(['index'], axis=1)\n"
   ]
  },
  {
   "cell_type": "code",
   "execution_count": 28,
   "metadata": {},
   "outputs": [],
   "source": []
  },
  {
   "cell_type": "code",
   "execution_count": 29,
   "metadata": {},
   "outputs": [
    {
     "data": {
      "text/html": [
       "<div>\n",
       "<style scoped>\n",
       "    .dataframe tbody tr th:only-of-type {\n",
       "        vertical-align: middle;\n",
       "    }\n",
       "\n",
       "    .dataframe tbody tr th {\n",
       "        vertical-align: top;\n",
       "    }\n",
       "\n",
       "    .dataframe thead th {\n",
       "        text-align: right;\n",
       "    }\n",
       "</style>\n",
       "<table border=\"1\" class=\"dataframe\">\n",
       "  <thead>\n",
       "    <tr style=\"text-align: right;\">\n",
       "      <th></th>\n",
       "      <th>Date</th>\n",
       "      <th>production</th>\n",
       "      <th>prev</th>\n",
       "      <th>sma2</th>\n",
       "      <th>sma5</th>\n",
       "      <th>sma10</th>\n",
       "      <th>sma20</th>\n",
       "      <th>ema12</th>\n",
       "      <th>ema26</th>\n",
       "      <th>sma2_diff</th>\n",
       "      <th>sma5_diff</th>\n",
       "      <th>sma10_diff</th>\n",
       "      <th>sma20_diff</th>\n",
       "      <th>ema12_diff</th>\n",
       "      <th>ema26_diff</th>\n",
       "      <th>label</th>\n",
       "    </tr>\n",
       "  </thead>\n",
       "  <tbody>\n",
       "    <tr>\n",
       "      <th>0</th>\n",
       "      <td>2004-03-01</td>\n",
       "      <td>5607</td>\n",
       "      <td>5556.0</td>\n",
       "      <td>5563.0</td>\n",
       "      <td>5580.0</td>\n",
       "      <td>5613.8</td>\n",
       "      <td>5647.80</td>\n",
       "      <td>5623.582048</td>\n",
       "      <td>5682.746116</td>\n",
       "      <td>-0.001260</td>\n",
       "      <td>-0.004320</td>\n",
       "      <td>-0.010403</td>\n",
       "      <td>-0.016523</td>\n",
       "      <td>-0.012164</td>\n",
       "      <td>-0.022812</td>\n",
       "      <td>1</td>\n",
       "    </tr>\n",
       "    <tr>\n",
       "      <th>1</th>\n",
       "      <td>2004-04-01</td>\n",
       "      <td>5526</td>\n",
       "      <td>5607.0</td>\n",
       "      <td>5581.5</td>\n",
       "      <td>5574.4</td>\n",
       "      <td>5601.2</td>\n",
       "      <td>5639.65</td>\n",
       "      <td>5621.030964</td>\n",
       "      <td>5677.135292</td>\n",
       "      <td>0.004548</td>\n",
       "      <td>0.005814</td>\n",
       "      <td>0.001034</td>\n",
       "      <td>-0.005823</td>\n",
       "      <td>-0.002502</td>\n",
       "      <td>-0.012509</td>\n",
       "      <td>0</td>\n",
       "    </tr>\n",
       "    <tr>\n",
       "      <th>2</th>\n",
       "      <td>2004-05-01</td>\n",
       "      <td>5548</td>\n",
       "      <td>5526.0</td>\n",
       "      <td>5566.5</td>\n",
       "      <td>5567.6</td>\n",
       "      <td>5583.7</td>\n",
       "      <td>5625.40</td>\n",
       "      <td>5606.410815</td>\n",
       "      <td>5665.940086</td>\n",
       "      <td>-0.007329</td>\n",
       "      <td>-0.007528</td>\n",
       "      <td>-0.010442</td>\n",
       "      <td>-0.017988</td>\n",
       "      <td>-0.014551</td>\n",
       "      <td>-0.025324</td>\n",
       "      <td>1</td>\n",
       "    </tr>\n",
       "    <tr>\n",
       "      <th>3</th>\n",
       "      <td>2004-06-01</td>\n",
       "      <td>5398</td>\n",
       "      <td>5548.0</td>\n",
       "      <td>5537.0</td>\n",
       "      <td>5561.4</td>\n",
       "      <td>5585.9</td>\n",
       "      <td>5632.25</td>\n",
       "      <td>5597.424536</td>\n",
       "      <td>5657.203783</td>\n",
       "      <td>0.001983</td>\n",
       "      <td>-0.002415</td>\n",
       "      <td>-0.006831</td>\n",
       "      <td>-0.015186</td>\n",
       "      <td>-0.008909</td>\n",
       "      <td>-0.019683</td>\n",
       "      <td>0</td>\n",
       "    </tr>\n",
       "    <tr>\n",
       "      <th>4</th>\n",
       "      <td>2004-07-01</td>\n",
       "      <td>5458</td>\n",
       "      <td>5398.0</td>\n",
       "      <td>5473.0</td>\n",
       "      <td>5527.0</td>\n",
       "      <td>5566.2</td>\n",
       "      <td>5634.00</td>\n",
       "      <td>5566.743838</td>\n",
       "      <td>5638.003503</td>\n",
       "      <td>-0.013894</td>\n",
       "      <td>-0.023898</td>\n",
       "      <td>-0.031160</td>\n",
       "      <td>-0.043720</td>\n",
       "      <td>-0.031260</td>\n",
       "      <td>-0.044462</td>\n",
       "      <td>1</td>\n",
       "    </tr>\n",
       "    <tr>\n",
       "      <th>...</th>\n",
       "      <td>...</td>\n",
       "      <td>...</td>\n",
       "      <td>...</td>\n",
       "      <td>...</td>\n",
       "      <td>...</td>\n",
       "      <td>...</td>\n",
       "      <td>...</td>\n",
       "      <td>...</td>\n",
       "      <td>...</td>\n",
       "      <td>...</td>\n",
       "      <td>...</td>\n",
       "      <td>...</td>\n",
       "      <td>...</td>\n",
       "      <td>...</td>\n",
       "      <td>...</td>\n",
       "      <td>...</td>\n",
       "    </tr>\n",
       "    <tr>\n",
       "      <th>221</th>\n",
       "      <td>2022-08-01</td>\n",
       "      <td>12002</td>\n",
       "      <td>11844.0</td>\n",
       "      <td>11820.5</td>\n",
       "      <td>11727.8</td>\n",
       "      <td>11631.7</td>\n",
       "      <td>11370.95</td>\n",
       "      <td>11575.431144</td>\n",
       "      <td>11455.845343</td>\n",
       "      <td>0.001984</td>\n",
       "      <td>0.009811</td>\n",
       "      <td>0.017925</td>\n",
       "      <td>0.039940</td>\n",
       "      <td>0.022676</td>\n",
       "      <td>0.032772</td>\n",
       "      <td>1</td>\n",
       "    </tr>\n",
       "    <tr>\n",
       "      <th>222</th>\n",
       "      <td>2022-09-01</td>\n",
       "      <td>12312</td>\n",
       "      <td>12002.0</td>\n",
       "      <td>11923.0</td>\n",
       "      <td>11788.0</td>\n",
       "      <td>11675.0</td>\n",
       "      <td>11412.65</td>\n",
       "      <td>11641.057122</td>\n",
       "      <td>11496.301243</td>\n",
       "      <td>0.006582</td>\n",
       "      <td>0.017830</td>\n",
       "      <td>0.027245</td>\n",
       "      <td>0.049104</td>\n",
       "      <td>0.030074</td>\n",
       "      <td>0.042135</td>\n",
       "      <td>1</td>\n",
       "    </tr>\n",
       "    <tr>\n",
       "      <th>223</th>\n",
       "      <td>2022-10-01</td>\n",
       "      <td>12381</td>\n",
       "      <td>12312.0</td>\n",
       "      <td>12157.0</td>\n",
       "      <td>11916.8</td>\n",
       "      <td>11727.2</td>\n",
       "      <td>11472.05</td>\n",
       "      <td>11744.279103</td>\n",
       "      <td>11556.723374</td>\n",
       "      <td>0.012589</td>\n",
       "      <td>0.032099</td>\n",
       "      <td>0.047498</td>\n",
       "      <td>0.068222</td>\n",
       "      <td>0.046111</td>\n",
       "      <td>0.061345</td>\n",
       "      <td>1</td>\n",
       "    </tr>\n",
       "    <tr>\n",
       "      <th>224</th>\n",
       "      <td>2022-11-01</td>\n",
       "      <td>12375</td>\n",
       "      <td>12381.0</td>\n",
       "      <td>12346.5</td>\n",
       "      <td>12067.2</td>\n",
       "      <td>11801.9</td>\n",
       "      <td>11594.85</td>\n",
       "      <td>11842.236164</td>\n",
       "      <td>11617.780901</td>\n",
       "      <td>0.002787</td>\n",
       "      <td>0.025345</td>\n",
       "      <td>0.046773</td>\n",
       "      <td>0.063496</td>\n",
       "      <td>0.043515</td>\n",
       "      <td>0.061644</td>\n",
       "      <td>0</td>\n",
       "    </tr>\n",
       "    <tr>\n",
       "      <th>225</th>\n",
       "      <td>2022-12-01</td>\n",
       "      <td>12087</td>\n",
       "      <td>12375.0</td>\n",
       "      <td>12378.0</td>\n",
       "      <td>12182.8</td>\n",
       "      <td>11902.5</td>\n",
       "      <td>11647.30</td>\n",
       "      <td>11924.199831</td>\n",
       "      <td>11673.871205</td>\n",
       "      <td>-0.000242</td>\n",
       "      <td>0.015531</td>\n",
       "      <td>0.038182</td>\n",
       "      <td>0.058804</td>\n",
       "      <td>0.036428</td>\n",
       "      <td>0.056657</td>\n",
       "      <td>0</td>\n",
       "    </tr>\n",
       "  </tbody>\n",
       "</table>\n",
       "<p>226 rows × 16 columns</p>\n",
       "</div>"
      ],
      "text/plain": [
       "          Date  production     prev     sma2     sma5    sma10     sma20  \\\n",
       "0   2004-03-01        5607   5556.0   5563.0   5580.0   5613.8   5647.80   \n",
       "1   2004-04-01        5526   5607.0   5581.5   5574.4   5601.2   5639.65   \n",
       "2   2004-05-01        5548   5526.0   5566.5   5567.6   5583.7   5625.40   \n",
       "3   2004-06-01        5398   5548.0   5537.0   5561.4   5585.9   5632.25   \n",
       "4   2004-07-01        5458   5398.0   5473.0   5527.0   5566.2   5634.00   \n",
       "..         ...         ...      ...      ...      ...      ...       ...   \n",
       "221 2022-08-01       12002  11844.0  11820.5  11727.8  11631.7  11370.95   \n",
       "222 2022-09-01       12312  12002.0  11923.0  11788.0  11675.0  11412.65   \n",
       "223 2022-10-01       12381  12312.0  12157.0  11916.8  11727.2  11472.05   \n",
       "224 2022-11-01       12375  12381.0  12346.5  12067.2  11801.9  11594.85   \n",
       "225 2022-12-01       12087  12375.0  12378.0  12182.8  11902.5  11647.30   \n",
       "\n",
       "            ema12         ema26  sma2_diff  sma5_diff  sma10_diff  sma20_diff  \\\n",
       "0     5623.582048   5682.746116  -0.001260  -0.004320   -0.010403   -0.016523   \n",
       "1     5621.030964   5677.135292   0.004548   0.005814    0.001034   -0.005823   \n",
       "2     5606.410815   5665.940086  -0.007329  -0.007528   -0.010442   -0.017988   \n",
       "3     5597.424536   5657.203783   0.001983  -0.002415   -0.006831   -0.015186   \n",
       "4     5566.743838   5638.003503  -0.013894  -0.023898   -0.031160   -0.043720   \n",
       "..            ...           ...        ...        ...         ...         ...   \n",
       "221  11575.431144  11455.845343   0.001984   0.009811    0.017925    0.039940   \n",
       "222  11641.057122  11496.301243   0.006582   0.017830    0.027245    0.049104   \n",
       "223  11744.279103  11556.723374   0.012589   0.032099    0.047498    0.068222   \n",
       "224  11842.236164  11617.780901   0.002787   0.025345    0.046773    0.063496   \n",
       "225  11924.199831  11673.871205  -0.000242   0.015531    0.038182    0.058804   \n",
       "\n",
       "     ema12_diff  ema26_diff  label  \n",
       "0     -0.012164   -0.022812      1  \n",
       "1     -0.002502   -0.012509      0  \n",
       "2     -0.014551   -0.025324      1  \n",
       "3     -0.008909   -0.019683      0  \n",
       "4     -0.031260   -0.044462      1  \n",
       "..          ...         ...    ...  \n",
       "221    0.022676    0.032772      1  \n",
       "222    0.030074    0.042135      1  \n",
       "223    0.046111    0.061345      1  \n",
       "224    0.043515    0.061644      0  \n",
       "225    0.036428    0.056657      0  \n",
       "\n",
       "[226 rows x 16 columns]"
      ]
     },
     "execution_count": 29,
     "metadata": {},
     "output_type": "execute_result"
    }
   ],
   "source": [
    "df = df.drop(['index'], axis=1)\n",
    "df"
   ]
  },
  {
   "cell_type": "markdown",
   "metadata": {},
   "source": [
    "### Prepare dataset to store in parquet format"
   ]
  },
  {
   "cell_type": "code",
   "execution_count": 30,
   "metadata": {},
   "outputs": [
    {
     "data": {
      "text/plain": [
       "Date          datetime64[ns]\n",
       "production             int64\n",
       "prev                 float64\n",
       "sma2                 float64\n",
       "sma5                 float64\n",
       "sma10                float64\n",
       "sma20                float64\n",
       "ema12                float64\n",
       "ema26                float64\n",
       "sma2_diff            float64\n",
       "sma5_diff            float64\n",
       "sma10_diff           float64\n",
       "sma20_diff           float64\n",
       "ema12_diff           float64\n",
       "ema26_diff           float64\n",
       "label                  int32\n",
       "dtype: object"
      ]
     },
     "execution_count": 30,
     "metadata": {},
     "output_type": "execute_result"
    }
   ],
   "source": [
    "df.dtypes"
   ]
  },
  {
   "cell_type": "code",
   "execution_count": 32,
   "metadata": {},
   "outputs": [],
   "source": [
    "\n",
    "predictors_df = df.loc[:,df.columns!=\"label\"]\n",
    "target_df = df[[\"label\",\"Date\"]]\n",
    "\n",
    "datalen = len(df)\n",
    "idslist= list(range(datalen))\n",
    "\n",
    "record_ids = pd.DataFrame(data = idslist, columns = [\"record_id\"])\n",
    "\n",
    "predictors_df = pd.concat(objs = [predictors_df, record_ids], axis = 1)\n",
    "target_df = pd.concat(objs = [target_df, record_ids], axis = 1)\n",
    "\n",
    "predictors_df.rename(columns = {'Date':'event_timestamp','production': 'oil_production'}, inplace = True)\n",
    "target_df.rename(columns = {'Date':'event_timestamp','production': 'oil_production'}, inplace = True)"
   ]
  },
  {
   "cell_type": "code",
   "execution_count": 33,
   "metadata": {},
   "outputs": [
    {
     "data": {
      "text/plain": [
       "label                       int32\n",
       "event_timestamp    datetime64[ns]\n",
       "record_id                   int64\n",
       "dtype: object"
      ]
     },
     "execution_count": 33,
     "metadata": {},
     "output_type": "execute_result"
    }
   ],
   "source": [
    "target_df.head()\n",
    "target_df.dtypes"
   ]
  },
  {
   "cell_type": "code",
   "execution_count": 34,
   "metadata": {},
   "outputs": [],
   "source": [
    "# Save FE\n",
    "\n",
    "Path(f\"{PROJECT_ROOT}\\\\{transformed_data_dir}\\\\{COUNTRY}\").mkdir(parents=True, exist_ok=True)\n",
    "predictors_df.to_parquet(f\"{PROJECT_ROOT}\\\\{transformed_data_dir}\\\\{COUNTRY}\\\\{COUNTRY}_features.parquet\",index=False)\n",
    "target_df.to_parquet(f\"{PROJECT_ROOT}\\\\{transformed_data_dir}\\\\{COUNTRY}\\\\{COUNTRY}_target.parquet\",index=False)\n"
   ]
  }
 ],
 "metadata": {
  "celltoolbar": "Tags",
  "kernelspec": {
   "display_name": "Python 3 (ipykernel)",
   "language": "python",
   "name": "python3"
  },
  "language_info": {
   "codemirror_mode": {
    "name": "ipython",
    "version": 3
   },
   "file_extension": ".py",
   "mimetype": "text/x-python",
   "name": "python",
   "nbconvert_exporter": "python",
   "pygments_lexer": "ipython3",
   "version": "3.8.16"
  }
 },
 "nbformat": 4,
 "nbformat_minor": 4
}
