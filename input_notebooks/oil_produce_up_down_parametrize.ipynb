{
 "cells": [
  {
   "cell_type": "code",
   "execution_count": 210,
   "metadata": {},
   "outputs": [],
   "source": [
    "# %load_ext autoreload\n",
    "# %autoreload 2\n"
   ]
  },
  {
   "cell_type": "code",
   "execution_count": 71,
   "metadata": {},
   "outputs": [],
   "source": [
    "import warnings\n",
    "warnings.filterwarnings(\"ignore\")"
   ]
  },
  {
   "cell_type": "code",
   "execution_count": 72,
   "metadata": {},
   "outputs": [],
   "source": [
    "import pandas as pd\n",
    "import matplotlib.pyplot as plt\n",
    "import statsmodels.api as sm\n",
    "import statsmodels.formula.api as smf\n",
    "from statsmodels.tools.tools import add_constant\n",
    "from sklearn.preprocessing import StandardScaler\n",
    "from sklearn.linear_model import LogisticRegression\n",
    "from sklearn.svm import SVC\n",
    "from sklearn.neighbors import KNeighborsClassifier\n",
    "from sklearn.ensemble import GradientBoostingClassifier, ExtraTreesClassifier\n",
    "from joblib import load\n",
    "\n",
    "from logger import logger\n",
    "# from utils import evaluate_binary, log_mlflow"
   ]
  },
  {
   "cell_type": "code",
   "execution_count": 73,
   "metadata": {},
   "outputs": [],
   "source": [
    "from typing import Dict, Any, Tuple\n",
    "from typing import Optional\n",
    "from pathlib import Path\n",
    "\n",
    "import matplotlib.pyplot as plt\n",
    "import mlflow\n",
    "import numpy as np\n",
    "from joblib import dump\n",
    "from sklearn.metrics import recall_score, precision_score, roc_auc_score, roc_curve, precision_recall_curve, f1_score\n",
    "import yaml\n",
    "from logger import logger\n",
    "\n",
    "\n",
    "def plot_roc(y_true: np.ndarray, y_pred: np.ndarray, model_name: str, plot_dir: str = None) -> str:\n",
    "    \"\"\"\n",
    "    Plot the area under curve for the ROC curve.\n",
    "\n",
    "    Args:\n",
    "        y_true: Array of true y values\n",
    "        y_pred: Array of predicted y values\n",
    "        model_name: Name of model\n",
    "        plot_dir: Directory to save plot in\n",
    "\n",
    "    Returns:\n",
    "        Output path of plot\n",
    "    \"\"\"\n",
    "    fpr, tpr, roc_thresholds = roc_curve(y_true, y_pred)\n",
    "    plt.figure(figsize=(5, 5))\n",
    "    plt.grid()\n",
    "    plt.plot(fpr, tpr, color='b')\n",
    "    plt.title('ROC curve: {}'.format(model_name))\n",
    "    Path(f\"{plot_dir}\\\\plots\").mkdir(parents=True, exist_ok=True)\n",
    "    # Save figure\n",
    "    if plot_dir:\n",
    "        output_path = '{}\\\\plots\\\\roc_curve_{}.png'.format(plot_dir, model_name)\n",
    "        plt.savefig(output_path)\n",
    "        logger.info('ROC curve saved to: {}'.format(output_path))\n",
    "        return output_path\n",
    "\n",
    "\n",
    "def plot_precision_recall(y_true: np.ndarray, y_pred: np.ndarray, model_name: str, plot_dir: str = None) -> str:\n",
    "    \"\"\"\n",
    "    Plots the precision-recall curve.\n",
    "\n",
    "    Args:\n",
    "        y_true: Array of true y values\n",
    "        y_pred: Array of predicted y values\n",
    "        model_name: Name of model\n",
    "        plot_dir: Directory to save plot in\n",
    "\n",
    "    Returns:Ø\n",
    "        Output path of plot\n",
    "    \"\"\"\n",
    "    precision, recall, thresholds = precision_recall_curve(y_true, y_pred)\n",
    "    plt.figure(figsize=(15, 5))\n",
    "    plt.grid()\n",
    "    plt.plot(thresholds, precision[1:], color='r', label='Precision')\n",
    "    plt.plot(thresholds, recall[1:], color='b', label='Recall')\n",
    "    plt.gca().invert_xaxis()\n",
    "    plt.legend()\n",
    "    plt.title('Precision-recall curve: {}'.format(model_name))\n",
    "    Path(f\"{plot_dir}\\\\plots\").mkdir(parents=True, exist_ok=True)\n",
    "    # Save figure\n",
    "    if plot_dir:\n",
    "        output_path = '{}/plots/precision_recall_{}.png'.format(plot_dir, model_name)\n",
    "        \n",
    "        plt.savefig(output_path)\n",
    "        logger.info('Precision-recall curve saved to: {}'.format(output_path))\n",
    "        return output_path\n",
    "\n",
    "\n",
    "def save_model(model: Any, model_name: str, model_dir: str) -> str:\n",
    "    \"\"\"\n",
    "    Saves model in pickle format\n",
    "\n",
    "    Args:\n",
    "        model: Model binary\n",
    "        model_name: Name of model\n",
    "        model_dir: Directory to save model in\n",
    "\n",
    "    Returns:\n",
    "        Output path of model\n",
    "    \"\"\"\n",
    "    Path(f\"{model_dir}/models\").mkdir(parents=True, exist_ok=True)\n",
    "    output_path = '{}/models/{}.pickle'.format(model_dir, model_name)\n",
    "    logger.info('Model saved to: {}'.format(output_path))\n",
    "    dump(model, output_path)\n",
    "\n",
    "    return output_path\n",
    "\n",
    "\n",
    "def evaluate_binary(y_true: np.ndarray, y_pred: np.ndarray, threshold: float = 0.5) -> \\\n",
    "        Tuple[float, float, float, float]:\n",
    "    \"\"\"\n",
    "    Returns binary evaluation metrics\n",
    "\n",
    "    Args:\n",
    "        y_true: Array of true y values\n",
    "        y_pred: Array of predicted y values\n",
    "        threshold: Threshold to convert probabilies to binary values (default=0.5)\n",
    "\n",
    "    Returns:\n",
    "        Metrics for AUC, recall, precision, and F1\n",
    "    \"\"\"\n",
    "    y_pred_thresholded = np.where(y_pred > threshold, 1, 0)\n",
    "\n",
    "    auc = roc_auc_score(y_true, y_pred)\n",
    "    recall = recall_score(y_true, y_pred_thresholded)\n",
    "    precision = precision_score(y_true, y_pred_thresholded)\n",
    "    f1 = f1_score(y_true, y_pred_thresholded)\n",
    "\n",
    "    logger.info('AUC: {:.3f} | Recall: {:.3f} | Precision: {:.3f} | F1: {:.3f}'.format(auc, recall, precision, f1))\n",
    "    return auc, recall, precision, f1\n",
    "\n",
    "\n",
    "def save_metrics(auc,recall, precision,f1, metrics_dir: str, metrics_name:str)-> None:\n",
    "    # Calculate metrics\n",
    "    metrics = {}\n",
    "\n",
    "    metrics[\"auc\"] = float(auc)\n",
    "    metrics[\"precision\"] = float(precision)\n",
    "    metrics[\"recall\"] = float(recall)\n",
    "    metrics[\"f1\"] = float(f1)\n",
    "    Path(f\"{metrics_dir}/metrics\").mkdir(parents=True, exist_ok=True)\n",
    "    output_path = f\"{metrics_dir}\\\\metrics\\\\{metrics_name}_mertics.yaml\"\n",
    "    logger.info('Model metrics to: {}'.format(output_path))\n",
    "    with open(output_path, 'w+') as file:\n",
    "        yaml.dump(metrics, file, default_flow_style=False)\n",
    "        \n",
    "def log_mlflow(run_params: Dict, model: Any, model_name: str, y_true: np.ndarray, y_pred: np.ndarray) -> None:\n",
    "    \"\"\"\n",
    "    Logs result of model training and validation to mlflow\n",
    "\n",
    "    Args:\n",
    "        run_params: Dictionary containing parameters of run.\n",
    "                    Expects keys for 'experiment', 'artifact_dir', 'iteration', and 'index.\n",
    "        model: Model binary\n",
    "        model_name: Name of model\n",
    "        y_true: Array of true y values\n",
    "        y_pred: Array of predicted y values\n",
    "\n",
    "    Returns:\n",
    "        None\n",
    "    \"\"\"\n",
    "    mlflow.set_experiment(run_params['experiment'])\n",
    "\n",
    "    auc, recall, precision, f1 = evaluate_binary(y_true, y_pred)\n",
    "    \n",
    "    save_metrics(auc,recall ,precision,f1, metrics_dir= run_params['artifact_dir'],metrics_name =model_name+ \"_\" +run_params[\"index\"])\n",
    "\n",
    "    roc_path = plot_roc(y_true, y_pred, '{} (auc = {:.2f})'.format(model_name, auc), run_params['artifact_dir'])\n",
    "    pr_path = plot_precision_recall(y_true, y_pred,\n",
    "                                    '{} prec= {:.2f} recall= {:.2f}'.format(model_name, precision, recall),\n",
    "                                    run_params['artifact_dir'])\n",
    "    model_path = save_model(model, model_name, run_params['artifact_dir'])\n",
    "    print(model_path)\n",
    "    with mlflow.start_run(run_name=run_params['iteration']):\n",
    "        mlflow.log_param('index', run_params['index'])\n",
    "        mlflow.log_param('model', model_name)\n",
    "        mlflow.log_metric('auc', auc)\n",
    "        mlflow.log_metric('recall', recall)\n",
    "        mlflow.log_metric('precision', precision)\n",
    "        mlflow.log_metric('f1', f1)\n",
    "        mlflow.log_artifact(model_path)\n",
    "        mlflow.log_artifact(roc_path)\n",
    "        mlflow.log_artifact(pr_path)\n"
   ]
  },
  {
   "cell_type": "code",
   "execution_count": 74,
   "metadata": {},
   "outputs": [
    {
     "data": {
      "text/plain": [
       "WindowsPath('C:/Users/Harsha/Documents/ISB_AMPBA/Term5/FP2/GroupAssignment/fp2')"
      ]
     },
     "execution_count": 74,
     "metadata": {},
     "output_type": "execute_result"
    }
   ],
   "source": [
    "\n",
    "def find_project_root() -> Optional[Path]:\n",
    "    current = Path(\".\").resolve()\n",
    "    \n",
    "    while True:\n",
    "        if (current / \".git\").exists():\n",
    "            return current\n",
    "        \n",
    "        if current.parent == current:\n",
    "            print(\"WARNING: No .git dir found\")\n",
    "            return current\n",
    "              \n",
    "        current = current.parent\n",
    "        \n",
    "\n",
    "PROJECT_ROOT = find_project_root()\n",
    "PROJECT_ROOT"
   ]
  },
  {
   "cell_type": "code",
   "execution_count": 75,
   "metadata": {
    "tags": [
     "parameters"
    ]
   },
   "outputs": [],
   "source": [
    "# Tag this cell as 'parameters'\n",
    "# BASE\n",
    "INDEX = 'SNP'\n",
    "EXPERIMENT = 'stock_up_down'  # Name of experiment\n",
    "RUN_NAME = 'initial_assessment'  # Name of iteration (that will show\n",
    "ARTIFACT_DIR = PROJECT_ROOT / 'artifact_dir'  # Dir for notebook outputs where plots are saved\n",
    "\n",
    "# Logestic Regression\n",
    "FIT_INTERCEPT= False\n",
    "\n",
    "# SVM\n",
    "GAMMA=2\n",
    "C_VALUE=1\n",
    "PROBABILITY=True\n",
    "\n",
    "# K-neighbour\n",
    "N_NEIGHBORS = 5\n",
    "\n",
    "# Gradient boosting Classifier\n",
    "N_ESTIMATORS = 100"
   ]
  },
  {
   "cell_type": "code",
   "execution_count": 76,
   "metadata": {},
   "outputs": [
    {
     "data": {
      "text/plain": [
       "WindowsPath('C:/Users/Harsha/Documents/ISB_AMPBA/Term5/FP2/GroupAssignment/fp2/artifact_dir')"
      ]
     },
     "execution_count": 76,
     "metadata": {},
     "output_type": "execute_result"
    }
   ],
   "source": [
    "ARTIFACT_DIR"
   ]
  },
  {
   "cell_type": "code",
   "execution_count": 77,
   "metadata": {},
   "outputs": [],
   "source": [
    "# Wrap all this is a parameter dict\n",
    "run_params = {'experiment': EXPERIMENT,\n",
    "              'iteration': RUN_NAME,\n",
    "              'index': INDEX,\n",
    "              'artifact_dir': ARTIFACT_DIR}"
   ]
  },
  {
   "cell_type": "markdown",
   "metadata": {},
   "source": [
    "### Import data"
   ]
  },
  {
   "cell_type": "code",
   "execution_count": 78,
   "metadata": {},
   "outputs": [
    {
     "data": {
      "text/html": [
       "<div>\n",
       "<style scoped>\n",
       "    .dataframe tbody tr th:only-of-type {\n",
       "        vertical-align: middle;\n",
       "    }\n",
       "\n",
       "    .dataframe tbody tr th {\n",
       "        vertical-align: top;\n",
       "    }\n",
       "\n",
       "    .dataframe thead th {\n",
       "        text-align: right;\n",
       "    }\n",
       "</style>\n",
       "<table border=\"1\" class=\"dataframe\">\n",
       "  <thead>\n",
       "    <tr style=\"text-align: right;\">\n",
       "      <th>Unit of measure</th>\n",
       "      <th>Thousand Barrels per day (kb/d)</th>\n",
       "      <th>TIME_PERIOD</th>\n",
       "    </tr>\n",
       "  </thead>\n",
       "  <tbody>\n",
       "    <tr>\n",
       "      <th>0</th>\n",
       "      <td>5848</td>\n",
       "      <td>2002-01-01</td>\n",
       "    </tr>\n",
       "    <tr>\n",
       "      <th>1</th>\n",
       "      <td>5871</td>\n",
       "      <td>2002-02-01</td>\n",
       "    </tr>\n",
       "    <tr>\n",
       "      <th>2</th>\n",
       "      <td>5883</td>\n",
       "      <td>2002-03-01</td>\n",
       "    </tr>\n",
       "    <tr>\n",
       "      <th>3</th>\n",
       "      <td>5859</td>\n",
       "      <td>2002-04-01</td>\n",
       "    </tr>\n",
       "    <tr>\n",
       "      <th>4</th>\n",
       "      <td>5924</td>\n",
       "      <td>2002-05-01</td>\n",
       "    </tr>\n",
       "  </tbody>\n",
       "</table>\n",
       "</div>"
      ],
      "text/plain": [
       "Unit of measure  Thousand Barrels per day (kb/d) TIME_PERIOD\n",
       "0                                           5848  2002-01-01\n",
       "1                                           5871  2002-02-01\n",
       "2                                           5883  2002-03-01\n",
       "3                                           5859  2002-04-01\n",
       "4                                           5924  2002-05-01"
      ]
     },
     "execution_count": 78,
     "metadata": {},
     "output_type": "execute_result"
    }
   ],
   "source": [
    "df = pd.read_parquet(f'{PROJECT_ROOT}\\\\datadir\\\\datasets/US.parquet')\n",
    "# df[\"stock_name\"] = INDEX\n",
    "df.head()"
   ]
  },
  {
   "cell_type": "markdown",
   "metadata": {},
   "source": [
    "### Data prep"
   ]
  },
  {
   "cell_type": "code",
   "execution_count": 79,
   "metadata": {},
   "outputs": [],
   "source": [
    "df.columns = [col.lower().replace(' ', '_') for col in df.columns]"
   ]
  },
  {
   "cell_type": "code",
   "execution_count": 80,
   "metadata": {},
   "outputs": [],
   "source": [
    "df.sort_values(by='time_period', ascending=True, inplace=True)  # Have to sort ascending for rolling to work correctly"
   ]
  },
  {
   "cell_type": "code",
   "execution_count": 81,
   "metadata": {},
   "outputs": [],
   "source": [
    "df['time_period'] =  pd.to_datetime(df['time_period'])"
   ]
  },
  {
   "cell_type": "markdown",
   "metadata": {},
   "source": [
    "### Create basic features"
   ]
  },
  {
   "cell_type": "code",
   "execution_count": 82,
   "metadata": {},
   "outputs": [],
   "source": [
    "df = df[['time_period', 'thousand_barrels_per_day_(kb/d)']].copy()"
   ]
  },
  {
   "cell_type": "code",
   "execution_count": 83,
   "metadata": {},
   "outputs": [
    {
     "data": {
      "text/html": [
       "<div>\n",
       "<style scoped>\n",
       "    .dataframe tbody tr th:only-of-type {\n",
       "        vertical-align: middle;\n",
       "    }\n",
       "\n",
       "    .dataframe tbody tr th {\n",
       "        vertical-align: top;\n",
       "    }\n",
       "\n",
       "    .dataframe thead th {\n",
       "        text-align: right;\n",
       "    }\n",
       "</style>\n",
       "<table border=\"1\" class=\"dataframe\">\n",
       "  <thead>\n",
       "    <tr style=\"text-align: right;\">\n",
       "      <th></th>\n",
       "      <th>time_period</th>\n",
       "      <th>thousand_barrels_per_day_(kb/d)</th>\n",
       "      <th>prev</th>\n",
       "    </tr>\n",
       "  </thead>\n",
       "  <tbody>\n",
       "    <tr>\n",
       "      <th>0</th>\n",
       "      <td>2002-01-01</td>\n",
       "      <td>5848</td>\n",
       "      <td>NaN</td>\n",
       "    </tr>\n",
       "    <tr>\n",
       "      <th>1</th>\n",
       "      <td>2002-02-01</td>\n",
       "      <td>5871</td>\n",
       "      <td>5848.0</td>\n",
       "    </tr>\n",
       "    <tr>\n",
       "      <th>2</th>\n",
       "      <td>2002-03-01</td>\n",
       "      <td>5883</td>\n",
       "      <td>5871.0</td>\n",
       "    </tr>\n",
       "    <tr>\n",
       "      <th>3</th>\n",
       "      <td>2002-04-01</td>\n",
       "      <td>5859</td>\n",
       "      <td>5883.0</td>\n",
       "    </tr>\n",
       "    <tr>\n",
       "      <th>4</th>\n",
       "      <td>2002-05-01</td>\n",
       "      <td>5924</td>\n",
       "      <td>5859.0</td>\n",
       "    </tr>\n",
       "  </tbody>\n",
       "</table>\n",
       "</div>"
      ],
      "text/plain": [
       "  time_period  thousand_barrels_per_day_(kb/d)    prev\n",
       "0  2002-01-01                             5848     NaN\n",
       "1  2002-02-01                             5871  5848.0\n",
       "2  2002-03-01                             5883  5871.0\n",
       "3  2002-04-01                             5859  5883.0\n",
       "4  2002-05-01                             5924  5859.0"
      ]
     },
     "execution_count": 83,
     "metadata": {},
     "output_type": "execute_result"
    }
   ],
   "source": [
    "df['prev'] = df['thousand_barrels_per_day_(kb/d)'].shift(1)\n",
    "df.head()"
   ]
  },
  {
   "cell_type": "code",
   "execution_count": 84,
   "metadata": {},
   "outputs": [
    {
     "data": {
      "text/html": [
       "<div>\n",
       "<style scoped>\n",
       "    .dataframe tbody tr th:only-of-type {\n",
       "        vertical-align: middle;\n",
       "    }\n",
       "\n",
       "    .dataframe tbody tr th {\n",
       "        vertical-align: top;\n",
       "    }\n",
       "\n",
       "    .dataframe thead th {\n",
       "        text-align: right;\n",
       "    }\n",
       "</style>\n",
       "<table border=\"1\" class=\"dataframe\">\n",
       "  <thead>\n",
       "    <tr style=\"text-align: right;\">\n",
       "      <th></th>\n",
       "      <th>time_period</th>\n",
       "      <th>thousand_barrels_per_day_(kb/d)</th>\n",
       "      <th>prev</th>\n",
       "      <th>sma2</th>\n",
       "      <th>sma5</th>\n",
       "      <th>sma10</th>\n",
       "      <th>sma20</th>\n",
       "    </tr>\n",
       "  </thead>\n",
       "  <tbody>\n",
       "    <tr>\n",
       "      <th>0</th>\n",
       "      <td>2002-01-01</td>\n",
       "      <td>5848</td>\n",
       "      <td>NaN</td>\n",
       "      <td>NaN</td>\n",
       "      <td>NaN</td>\n",
       "      <td>NaN</td>\n",
       "      <td>NaN</td>\n",
       "    </tr>\n",
       "    <tr>\n",
       "      <th>1</th>\n",
       "      <td>2002-02-01</td>\n",
       "      <td>5871</td>\n",
       "      <td>5848.0</td>\n",
       "      <td>NaN</td>\n",
       "      <td>NaN</td>\n",
       "      <td>NaN</td>\n",
       "      <td>NaN</td>\n",
       "    </tr>\n",
       "    <tr>\n",
       "      <th>2</th>\n",
       "      <td>2002-03-01</td>\n",
       "      <td>5883</td>\n",
       "      <td>5871.0</td>\n",
       "      <td>5859.5</td>\n",
       "      <td>NaN</td>\n",
       "      <td>NaN</td>\n",
       "      <td>NaN</td>\n",
       "    </tr>\n",
       "    <tr>\n",
       "      <th>3</th>\n",
       "      <td>2002-04-01</td>\n",
       "      <td>5859</td>\n",
       "      <td>5883.0</td>\n",
       "      <td>5877.0</td>\n",
       "      <td>NaN</td>\n",
       "      <td>NaN</td>\n",
       "      <td>NaN</td>\n",
       "    </tr>\n",
       "    <tr>\n",
       "      <th>4</th>\n",
       "      <td>2002-05-01</td>\n",
       "      <td>5924</td>\n",
       "      <td>5859.0</td>\n",
       "      <td>5871.0</td>\n",
       "      <td>NaN</td>\n",
       "      <td>NaN</td>\n",
       "      <td>NaN</td>\n",
       "    </tr>\n",
       "  </tbody>\n",
       "</table>\n",
       "</div>"
      ],
      "text/plain": [
       "  time_period  thousand_barrels_per_day_(kb/d)    prev    sma2  sma5  sma10  \\\n",
       "0  2002-01-01                             5848     NaN     NaN   NaN    NaN   \n",
       "1  2002-02-01                             5871  5848.0     NaN   NaN    NaN   \n",
       "2  2002-03-01                             5883  5871.0  5859.5   NaN    NaN   \n",
       "3  2002-04-01                             5859  5883.0  5877.0   NaN    NaN   \n",
       "4  2002-05-01                             5924  5859.0  5871.0   NaN    NaN   \n",
       "\n",
       "   sma20  \n",
       "0    NaN  \n",
       "1    NaN  \n",
       "2    NaN  \n",
       "3    NaN  \n",
       "4    NaN  "
      ]
     },
     "execution_count": 84,
     "metadata": {},
     "output_type": "execute_result"
    }
   ],
   "source": [
    "df['sma2'] = df['prev'].rolling(window=2).mean()\n",
    "df['sma5'] = df['prev'].rolling(window=5).mean()\n",
    "df['sma10'] = df['prev'].rolling(window=10).mean()\n",
    "df['sma20'] = df['prev'].rolling(window=20).mean()\n",
    "df.head()"
   ]
  },
  {
   "cell_type": "code",
   "execution_count": 85,
   "metadata": {},
   "outputs": [],
   "source": [
    "assert round(df['prev'].tail(5).mean(), 4) == round(df['sma5'].tail(1).item(), 4), 'Expected sma5 to be same as mean of past 5 items'\n",
    "assert round(df['prev'].tail(10).mean(), 4) == round(df['sma10'].tail(1).item(), 4), 'Expected sma10 to be same as mean of past 10 items'\n",
    "assert round(df['prev'].tail(20).mean(), 4) == round(df['sma20'].tail(1).item(), 4), 'Expected sma20 to be same as mean of past 20 items'"
   ]
  },
  {
   "cell_type": "code",
   "execution_count": 86,
   "metadata": {},
   "outputs": [],
   "source": [
    "df['ema12'] = df['prev'].ewm(span=12, min_periods=12, adjust=False).mean()\n",
    "df['ema26'] = df['prev'].ewm(span=26, min_periods=26, adjust=False).mean()"
   ]
  },
  {
   "cell_type": "code",
   "execution_count": 87,
   "metadata": {},
   "outputs": [],
   "source": [
    "def difference(prev_price, moving_average):\n",
    "    return (prev_price - moving_average) / prev_price"
   ]
  },
  {
   "cell_type": "code",
   "execution_count": 88,
   "metadata": {},
   "outputs": [],
   "source": [
    "for col in ['sma2', 'sma5', 'sma10', 'sma20', 'ema12', 'ema26']:\n",
    "    df['{}_diff'.format(col)] = difference(df['prev'], df[col])"
   ]
  },
  {
   "cell_type": "code",
   "execution_count": 89,
   "metadata": {},
   "outputs": [],
   "source": [
    "df.dropna(inplace=True)"
   ]
  },
  {
   "cell_type": "code",
   "execution_count": 90,
   "metadata": {},
   "outputs": [
    {
     "data": {
      "text/plain": [
       "(225, 15)"
      ]
     },
     "execution_count": 90,
     "metadata": {},
     "output_type": "execute_result"
    }
   ],
   "source": [
    "df.shape"
   ]
  },
  {
   "cell_type": "code",
   "execution_count": 91,
   "metadata": {},
   "outputs": [],
   "source": [
    "# df.drop(columns=['date', 'open'], inplace=True)"
   ]
  },
  {
   "cell_type": "markdown",
   "metadata": {},
   "source": [
    "### Create label"
   ]
  },
  {
   "cell_type": "code",
   "execution_count": 92,
   "metadata": {},
   "outputs": [],
   "source": [
    "df['label'] = (df['thousand_barrels_per_day_(kb/d)'] > df['prev']).astype(int)\n",
    "df.reset_index(inplace = True)\n",
    "# df.drop(['index'], axis=1)\n"
   ]
  },
  {
   "cell_type": "code",
   "execution_count": 93,
   "metadata": {},
   "outputs": [],
   "source": [
    "# Save FE\n",
    "INDEX =\"US\"\n",
    "Path(f\"{PROJECT_ROOT}\\\\datadir/output\").mkdir(parents=True, exist_ok=True)\n",
    "df.to_csv(PROJECT_ROOT / \"datadir/output\" / '{}.csv'.format(INDEX), index=False)"
   ]
  },
  {
   "cell_type": "code",
   "execution_count": 94,
   "metadata": {},
   "outputs": [
    {
     "data": {
      "text/html": [
       "<div>\n",
       "<style scoped>\n",
       "    .dataframe tbody tr th:only-of-type {\n",
       "        vertical-align: middle;\n",
       "    }\n",
       "\n",
       "    .dataframe tbody tr th {\n",
       "        vertical-align: top;\n",
       "    }\n",
       "\n",
       "    .dataframe thead th {\n",
       "        text-align: right;\n",
       "    }\n",
       "</style>\n",
       "<table border=\"1\" class=\"dataframe\">\n",
       "  <thead>\n",
       "    <tr style=\"text-align: right;\">\n",
       "      <th></th>\n",
       "      <th>time_period</th>\n",
       "      <th>thousand_barrels_per_day_(kb/d)</th>\n",
       "      <th>prev</th>\n",
       "      <th>sma2</th>\n",
       "      <th>sma5</th>\n",
       "      <th>sma10</th>\n",
       "      <th>sma20</th>\n",
       "      <th>ema12</th>\n",
       "      <th>ema26</th>\n",
       "      <th>sma2_diff</th>\n",
       "      <th>sma5_diff</th>\n",
       "      <th>sma10_diff</th>\n",
       "      <th>sma20_diff</th>\n",
       "      <th>ema12_diff</th>\n",
       "      <th>ema26_diff</th>\n",
       "      <th>label</th>\n",
       "    </tr>\n",
       "  </thead>\n",
       "  <tbody>\n",
       "    <tr>\n",
       "      <th>0</th>\n",
       "      <td>2004-03-01</td>\n",
       "      <td>5607</td>\n",
       "      <td>5556.0</td>\n",
       "      <td>5563.0</td>\n",
       "      <td>5580.0</td>\n",
       "      <td>5613.8</td>\n",
       "      <td>5647.80</td>\n",
       "      <td>5623.582048</td>\n",
       "      <td>5682.746116</td>\n",
       "      <td>-0.001260</td>\n",
       "      <td>-0.004320</td>\n",
       "      <td>-0.010403</td>\n",
       "      <td>-0.016523</td>\n",
       "      <td>-0.012164</td>\n",
       "      <td>-0.022812</td>\n",
       "      <td>1</td>\n",
       "    </tr>\n",
       "    <tr>\n",
       "      <th>1</th>\n",
       "      <td>2004-04-01</td>\n",
       "      <td>5526</td>\n",
       "      <td>5607.0</td>\n",
       "      <td>5581.5</td>\n",
       "      <td>5574.4</td>\n",
       "      <td>5601.2</td>\n",
       "      <td>5639.65</td>\n",
       "      <td>5621.030964</td>\n",
       "      <td>5677.135292</td>\n",
       "      <td>0.004548</td>\n",
       "      <td>0.005814</td>\n",
       "      <td>0.001034</td>\n",
       "      <td>-0.005823</td>\n",
       "      <td>-0.002502</td>\n",
       "      <td>-0.012509</td>\n",
       "      <td>0</td>\n",
       "    </tr>\n",
       "    <tr>\n",
       "      <th>2</th>\n",
       "      <td>2004-05-01</td>\n",
       "      <td>5548</td>\n",
       "      <td>5526.0</td>\n",
       "      <td>5566.5</td>\n",
       "      <td>5567.6</td>\n",
       "      <td>5583.7</td>\n",
       "      <td>5625.40</td>\n",
       "      <td>5606.410815</td>\n",
       "      <td>5665.940086</td>\n",
       "      <td>-0.007329</td>\n",
       "      <td>-0.007528</td>\n",
       "      <td>-0.010442</td>\n",
       "      <td>-0.017988</td>\n",
       "      <td>-0.014551</td>\n",
       "      <td>-0.025324</td>\n",
       "      <td>1</td>\n",
       "    </tr>\n",
       "    <tr>\n",
       "      <th>3</th>\n",
       "      <td>2004-06-01</td>\n",
       "      <td>5398</td>\n",
       "      <td>5548.0</td>\n",
       "      <td>5537.0</td>\n",
       "      <td>5561.4</td>\n",
       "      <td>5585.9</td>\n",
       "      <td>5632.25</td>\n",
       "      <td>5597.424536</td>\n",
       "      <td>5657.203783</td>\n",
       "      <td>0.001983</td>\n",
       "      <td>-0.002415</td>\n",
       "      <td>-0.006831</td>\n",
       "      <td>-0.015186</td>\n",
       "      <td>-0.008909</td>\n",
       "      <td>-0.019683</td>\n",
       "      <td>0</td>\n",
       "    </tr>\n",
       "    <tr>\n",
       "      <th>4</th>\n",
       "      <td>2004-07-01</td>\n",
       "      <td>5458</td>\n",
       "      <td>5398.0</td>\n",
       "      <td>5473.0</td>\n",
       "      <td>5527.0</td>\n",
       "      <td>5566.2</td>\n",
       "      <td>5634.00</td>\n",
       "      <td>5566.743838</td>\n",
       "      <td>5638.003503</td>\n",
       "      <td>-0.013894</td>\n",
       "      <td>-0.023898</td>\n",
       "      <td>-0.031160</td>\n",
       "      <td>-0.043720</td>\n",
       "      <td>-0.031260</td>\n",
       "      <td>-0.044462</td>\n",
       "      <td>1</td>\n",
       "    </tr>\n",
       "    <tr>\n",
       "      <th>...</th>\n",
       "      <td>...</td>\n",
       "      <td>...</td>\n",
       "      <td>...</td>\n",
       "      <td>...</td>\n",
       "      <td>...</td>\n",
       "      <td>...</td>\n",
       "      <td>...</td>\n",
       "      <td>...</td>\n",
       "      <td>...</td>\n",
       "      <td>...</td>\n",
       "      <td>...</td>\n",
       "      <td>...</td>\n",
       "      <td>...</td>\n",
       "      <td>...</td>\n",
       "      <td>...</td>\n",
       "      <td>...</td>\n",
       "    </tr>\n",
       "    <tr>\n",
       "      <th>220</th>\n",
       "      <td>2022-07-01</td>\n",
       "      <td>11844</td>\n",
       "      <td>11797.0</td>\n",
       "      <td>11713.0</td>\n",
       "      <td>11622.2</td>\n",
       "      <td>11539.1</td>\n",
       "      <td>11338.55</td>\n",
       "      <td>11526.600443</td>\n",
       "      <td>11424.792970</td>\n",
       "      <td>0.007120</td>\n",
       "      <td>0.014817</td>\n",
       "      <td>0.021861</td>\n",
       "      <td>0.038862</td>\n",
       "      <td>0.022921</td>\n",
       "      <td>0.031551</td>\n",
       "      <td>1</td>\n",
       "    </tr>\n",
       "    <tr>\n",
       "      <th>221</th>\n",
       "      <td>2022-08-01</td>\n",
       "      <td>12002</td>\n",
       "      <td>11844.0</td>\n",
       "      <td>11820.5</td>\n",
       "      <td>11727.8</td>\n",
       "      <td>11631.7</td>\n",
       "      <td>11370.95</td>\n",
       "      <td>11575.431144</td>\n",
       "      <td>11455.845343</td>\n",
       "      <td>0.001984</td>\n",
       "      <td>0.009811</td>\n",
       "      <td>0.017925</td>\n",
       "      <td>0.039940</td>\n",
       "      <td>0.022676</td>\n",
       "      <td>0.032772</td>\n",
       "      <td>1</td>\n",
       "    </tr>\n",
       "    <tr>\n",
       "      <th>222</th>\n",
       "      <td>2022-09-01</td>\n",
       "      <td>12312</td>\n",
       "      <td>12002.0</td>\n",
       "      <td>11923.0</td>\n",
       "      <td>11788.0</td>\n",
       "      <td>11675.0</td>\n",
       "      <td>11412.65</td>\n",
       "      <td>11641.057122</td>\n",
       "      <td>11496.301243</td>\n",
       "      <td>0.006582</td>\n",
       "      <td>0.017830</td>\n",
       "      <td>0.027245</td>\n",
       "      <td>0.049104</td>\n",
       "      <td>0.030074</td>\n",
       "      <td>0.042135</td>\n",
       "      <td>1</td>\n",
       "    </tr>\n",
       "    <tr>\n",
       "      <th>223</th>\n",
       "      <td>2022-10-01</td>\n",
       "      <td>12381</td>\n",
       "      <td>12312.0</td>\n",
       "      <td>12157.0</td>\n",
       "      <td>11916.8</td>\n",
       "      <td>11727.2</td>\n",
       "      <td>11472.05</td>\n",
       "      <td>11744.279103</td>\n",
       "      <td>11556.723374</td>\n",
       "      <td>0.012589</td>\n",
       "      <td>0.032099</td>\n",
       "      <td>0.047498</td>\n",
       "      <td>0.068222</td>\n",
       "      <td>0.046111</td>\n",
       "      <td>0.061345</td>\n",
       "      <td>1</td>\n",
       "    </tr>\n",
       "    <tr>\n",
       "      <th>224</th>\n",
       "      <td>2022-11-01</td>\n",
       "      <td>12120</td>\n",
       "      <td>12381.0</td>\n",
       "      <td>12346.5</td>\n",
       "      <td>12067.2</td>\n",
       "      <td>11801.9</td>\n",
       "      <td>11594.85</td>\n",
       "      <td>11842.236164</td>\n",
       "      <td>11617.780901</td>\n",
       "      <td>0.002787</td>\n",
       "      <td>0.025345</td>\n",
       "      <td>0.046773</td>\n",
       "      <td>0.063496</td>\n",
       "      <td>0.043515</td>\n",
       "      <td>0.061644</td>\n",
       "      <td>0</td>\n",
       "    </tr>\n",
       "  </tbody>\n",
       "</table>\n",
       "<p>225 rows × 16 columns</p>\n",
       "</div>"
      ],
      "text/plain": [
       "    time_period  thousand_barrels_per_day_(kb/d)     prev     sma2     sma5  \\\n",
       "0    2004-03-01                             5607   5556.0   5563.0   5580.0   \n",
       "1    2004-04-01                             5526   5607.0   5581.5   5574.4   \n",
       "2    2004-05-01                             5548   5526.0   5566.5   5567.6   \n",
       "3    2004-06-01                             5398   5548.0   5537.0   5561.4   \n",
       "4    2004-07-01                             5458   5398.0   5473.0   5527.0   \n",
       "..          ...                              ...      ...      ...      ...   \n",
       "220  2022-07-01                            11844  11797.0  11713.0  11622.2   \n",
       "221  2022-08-01                            12002  11844.0  11820.5  11727.8   \n",
       "222  2022-09-01                            12312  12002.0  11923.0  11788.0   \n",
       "223  2022-10-01                            12381  12312.0  12157.0  11916.8   \n",
       "224  2022-11-01                            12120  12381.0  12346.5  12067.2   \n",
       "\n",
       "       sma10     sma20         ema12         ema26  sma2_diff  sma5_diff  \\\n",
       "0     5613.8   5647.80   5623.582048   5682.746116  -0.001260  -0.004320   \n",
       "1     5601.2   5639.65   5621.030964   5677.135292   0.004548   0.005814   \n",
       "2     5583.7   5625.40   5606.410815   5665.940086  -0.007329  -0.007528   \n",
       "3     5585.9   5632.25   5597.424536   5657.203783   0.001983  -0.002415   \n",
       "4     5566.2   5634.00   5566.743838   5638.003503  -0.013894  -0.023898   \n",
       "..       ...       ...           ...           ...        ...        ...   \n",
       "220  11539.1  11338.55  11526.600443  11424.792970   0.007120   0.014817   \n",
       "221  11631.7  11370.95  11575.431144  11455.845343   0.001984   0.009811   \n",
       "222  11675.0  11412.65  11641.057122  11496.301243   0.006582   0.017830   \n",
       "223  11727.2  11472.05  11744.279103  11556.723374   0.012589   0.032099   \n",
       "224  11801.9  11594.85  11842.236164  11617.780901   0.002787   0.025345   \n",
       "\n",
       "     sma10_diff  sma20_diff  ema12_diff  ema26_diff  label  \n",
       "0     -0.010403   -0.016523   -0.012164   -0.022812      1  \n",
       "1      0.001034   -0.005823   -0.002502   -0.012509      0  \n",
       "2     -0.010442   -0.017988   -0.014551   -0.025324      1  \n",
       "3     -0.006831   -0.015186   -0.008909   -0.019683      0  \n",
       "4     -0.031160   -0.043720   -0.031260   -0.044462      1  \n",
       "..          ...         ...         ...         ...    ...  \n",
       "220    0.021861    0.038862    0.022921    0.031551      1  \n",
       "221    0.017925    0.039940    0.022676    0.032772      1  \n",
       "222    0.027245    0.049104    0.030074    0.042135      1  \n",
       "223    0.047498    0.068222    0.046111    0.061345      1  \n",
       "224    0.046773    0.063496    0.043515    0.061644      0  \n",
       "\n",
       "[225 rows x 16 columns]"
      ]
     },
     "execution_count": 94,
     "metadata": {},
     "output_type": "execute_result"
    }
   ],
   "source": [
    "df = df.drop(['index'], axis=1)\n",
    "df"
   ]
  },
  {
   "cell_type": "markdown",
   "metadata": {},
   "source": [
    "### Prepare dataset to store in parquet format"
   ]
  },
  {
   "cell_type": "code",
   "execution_count": 95,
   "metadata": {},
   "outputs": [
    {
     "data": {
      "text/plain": [
       "time_period                        datetime64[ns]\n",
       "thousand_barrels_per_day_(kb/d)             int64\n",
       "prev                                      float64\n",
       "sma2                                      float64\n",
       "sma5                                      float64\n",
       "sma10                                     float64\n",
       "sma20                                     float64\n",
       "ema12                                     float64\n",
       "ema26                                     float64\n",
       "sma2_diff                                 float64\n",
       "sma5_diff                                 float64\n",
       "sma10_diff                                float64\n",
       "sma20_diff                                float64\n",
       "ema12_diff                                float64\n",
       "ema26_diff                                float64\n",
       "label                                       int32\n",
       "dtype: object"
      ]
     },
     "execution_count": 95,
     "metadata": {},
     "output_type": "execute_result"
    }
   ],
   "source": [
    "df.dtypes"
   ]
  },
  {
   "cell_type": "code",
   "execution_count": 98,
   "metadata": {},
   "outputs": [],
   "source": [
    "\n",
    "predictors_df = df.loc[:,df.columns!=\"label\"]\n",
    "target_df = df[[\"label\",\"time_period\"]]\n",
    "\n",
    "datalen = len(df)\n",
    "idslist= list(range(datalen))\n",
    "\n",
    "record_ids = pd.DataFrame(data = idslist, columns = [\"record_id\"])\n",
    "\n",
    "predictors_df = pd.concat(objs = [predictors_df, record_ids], axis = 1)\n",
    "target_df = pd.concat(objs = [target_df, record_ids], axis = 1)\n",
    "\n",
    "predictors_df.rename(columns = {'time_period':'event_timestamp','thousand_barrels_per_day_(kb/d)': 'oil_production'}, inplace = True)\n",
    "target_df.rename(columns = {'time_period':'event_timestamp','thousand_barrels_per_day_(kb/d)': 'oil_production'}, inplace = True)"
   ]
  },
  {
   "cell_type": "code",
   "execution_count": 99,
   "metadata": {},
   "outputs": [
    {
     "data": {
      "text/plain": [
       "label                       int32\n",
       "event_timestamp    datetime64[ns]\n",
       "record_id                   int64\n",
       "dtype: object"
      ]
     },
     "execution_count": 99,
     "metadata": {},
     "output_type": "execute_result"
    }
   ],
   "source": [
    "target_df.head()\n",
    "target_df.dtypes"
   ]
  },
  {
   "cell_type": "code",
   "execution_count": 100,
   "metadata": {},
   "outputs": [],
   "source": [
    "predictors_df.to_parquet(path=f\"{PROJECT_ROOT}/datadir/output/predictors_df.parquet\")\n",
    "target_df.to_parquet(path=f\"{PROJECT_ROOT}/datadir/output/target_df.parquet\", index=False)"
   ]
  },
  {
   "cell_type": "code",
   "execution_count": 107,
   "metadata": {},
   "outputs": [
    {
     "data": {
      "text/html": [
       "<div>\n",
       "<style scoped>\n",
       "    .dataframe tbody tr th:only-of-type {\n",
       "        vertical-align: middle;\n",
       "    }\n",
       "\n",
       "    .dataframe tbody tr th {\n",
       "        vertical-align: top;\n",
       "    }\n",
       "\n",
       "    .dataframe thead th {\n",
       "        text-align: right;\n",
       "    }\n",
       "</style>\n",
       "<table border=\"1\" class=\"dataframe\">\n",
       "  <thead>\n",
       "    <tr style=\"text-align: right;\">\n",
       "      <th></th>\n",
       "      <th>event_timestamp</th>\n",
       "      <th>oil_production</th>\n",
       "      <th>prev</th>\n",
       "      <th>sma2</th>\n",
       "      <th>sma5</th>\n",
       "      <th>sma10</th>\n",
       "      <th>sma20</th>\n",
       "      <th>ema12</th>\n",
       "      <th>ema26</th>\n",
       "      <th>sma2_diff</th>\n",
       "      <th>sma5_diff</th>\n",
       "      <th>sma10_diff</th>\n",
       "      <th>sma20_diff</th>\n",
       "      <th>ema12_diff</th>\n",
       "      <th>ema26_diff</th>\n",
       "      <th>record_id</th>\n",
       "    </tr>\n",
       "  </thead>\n",
       "  <tbody>\n",
       "    <tr>\n",
       "      <th>0</th>\n",
       "      <td>2004-03-01</td>\n",
       "      <td>5607</td>\n",
       "      <td>5556.0</td>\n",
       "      <td>5563.0</td>\n",
       "      <td>5580.0</td>\n",
       "      <td>5613.8</td>\n",
       "      <td>5647.80</td>\n",
       "      <td>5623.582048</td>\n",
       "      <td>5682.746116</td>\n",
       "      <td>-0.001260</td>\n",
       "      <td>-0.004320</td>\n",
       "      <td>-0.010403</td>\n",
       "      <td>-0.016523</td>\n",
       "      <td>-0.012164</td>\n",
       "      <td>-0.022812</td>\n",
       "      <td>0</td>\n",
       "    </tr>\n",
       "    <tr>\n",
       "      <th>1</th>\n",
       "      <td>2004-04-01</td>\n",
       "      <td>5526</td>\n",
       "      <td>5607.0</td>\n",
       "      <td>5581.5</td>\n",
       "      <td>5574.4</td>\n",
       "      <td>5601.2</td>\n",
       "      <td>5639.65</td>\n",
       "      <td>5621.030964</td>\n",
       "      <td>5677.135292</td>\n",
       "      <td>0.004548</td>\n",
       "      <td>0.005814</td>\n",
       "      <td>0.001034</td>\n",
       "      <td>-0.005823</td>\n",
       "      <td>-0.002502</td>\n",
       "      <td>-0.012509</td>\n",
       "      <td>1</td>\n",
       "    </tr>\n",
       "    <tr>\n",
       "      <th>2</th>\n",
       "      <td>2004-05-01</td>\n",
       "      <td>5548</td>\n",
       "      <td>5526.0</td>\n",
       "      <td>5566.5</td>\n",
       "      <td>5567.6</td>\n",
       "      <td>5583.7</td>\n",
       "      <td>5625.40</td>\n",
       "      <td>5606.410815</td>\n",
       "      <td>5665.940086</td>\n",
       "      <td>-0.007329</td>\n",
       "      <td>-0.007528</td>\n",
       "      <td>-0.010442</td>\n",
       "      <td>-0.017988</td>\n",
       "      <td>-0.014551</td>\n",
       "      <td>-0.025324</td>\n",
       "      <td>2</td>\n",
       "    </tr>\n",
       "    <tr>\n",
       "      <th>3</th>\n",
       "      <td>2004-06-01</td>\n",
       "      <td>5398</td>\n",
       "      <td>5548.0</td>\n",
       "      <td>5537.0</td>\n",
       "      <td>5561.4</td>\n",
       "      <td>5585.9</td>\n",
       "      <td>5632.25</td>\n",
       "      <td>5597.424536</td>\n",
       "      <td>5657.203783</td>\n",
       "      <td>0.001983</td>\n",
       "      <td>-0.002415</td>\n",
       "      <td>-0.006831</td>\n",
       "      <td>-0.015186</td>\n",
       "      <td>-0.008909</td>\n",
       "      <td>-0.019683</td>\n",
       "      <td>3</td>\n",
       "    </tr>\n",
       "    <tr>\n",
       "      <th>4</th>\n",
       "      <td>2004-07-01</td>\n",
       "      <td>5458</td>\n",
       "      <td>5398.0</td>\n",
       "      <td>5473.0</td>\n",
       "      <td>5527.0</td>\n",
       "      <td>5566.2</td>\n",
       "      <td>5634.00</td>\n",
       "      <td>5566.743838</td>\n",
       "      <td>5638.003503</td>\n",
       "      <td>-0.013894</td>\n",
       "      <td>-0.023898</td>\n",
       "      <td>-0.031160</td>\n",
       "      <td>-0.043720</td>\n",
       "      <td>-0.031260</td>\n",
       "      <td>-0.044462</td>\n",
       "      <td>4</td>\n",
       "    </tr>\n",
       "    <tr>\n",
       "      <th>...</th>\n",
       "      <td>...</td>\n",
       "      <td>...</td>\n",
       "      <td>...</td>\n",
       "      <td>...</td>\n",
       "      <td>...</td>\n",
       "      <td>...</td>\n",
       "      <td>...</td>\n",
       "      <td>...</td>\n",
       "      <td>...</td>\n",
       "      <td>...</td>\n",
       "      <td>...</td>\n",
       "      <td>...</td>\n",
       "      <td>...</td>\n",
       "      <td>...</td>\n",
       "      <td>...</td>\n",
       "      <td>...</td>\n",
       "    </tr>\n",
       "    <tr>\n",
       "      <th>220</th>\n",
       "      <td>2022-07-01</td>\n",
       "      <td>11844</td>\n",
       "      <td>11797.0</td>\n",
       "      <td>11713.0</td>\n",
       "      <td>11622.2</td>\n",
       "      <td>11539.1</td>\n",
       "      <td>11338.55</td>\n",
       "      <td>11526.600443</td>\n",
       "      <td>11424.792970</td>\n",
       "      <td>0.007120</td>\n",
       "      <td>0.014817</td>\n",
       "      <td>0.021861</td>\n",
       "      <td>0.038862</td>\n",
       "      <td>0.022921</td>\n",
       "      <td>0.031551</td>\n",
       "      <td>220</td>\n",
       "    </tr>\n",
       "    <tr>\n",
       "      <th>221</th>\n",
       "      <td>2022-08-01</td>\n",
       "      <td>12002</td>\n",
       "      <td>11844.0</td>\n",
       "      <td>11820.5</td>\n",
       "      <td>11727.8</td>\n",
       "      <td>11631.7</td>\n",
       "      <td>11370.95</td>\n",
       "      <td>11575.431144</td>\n",
       "      <td>11455.845343</td>\n",
       "      <td>0.001984</td>\n",
       "      <td>0.009811</td>\n",
       "      <td>0.017925</td>\n",
       "      <td>0.039940</td>\n",
       "      <td>0.022676</td>\n",
       "      <td>0.032772</td>\n",
       "      <td>221</td>\n",
       "    </tr>\n",
       "    <tr>\n",
       "      <th>222</th>\n",
       "      <td>2022-09-01</td>\n",
       "      <td>12312</td>\n",
       "      <td>12002.0</td>\n",
       "      <td>11923.0</td>\n",
       "      <td>11788.0</td>\n",
       "      <td>11675.0</td>\n",
       "      <td>11412.65</td>\n",
       "      <td>11641.057122</td>\n",
       "      <td>11496.301243</td>\n",
       "      <td>0.006582</td>\n",
       "      <td>0.017830</td>\n",
       "      <td>0.027245</td>\n",
       "      <td>0.049104</td>\n",
       "      <td>0.030074</td>\n",
       "      <td>0.042135</td>\n",
       "      <td>222</td>\n",
       "    </tr>\n",
       "    <tr>\n",
       "      <th>223</th>\n",
       "      <td>2022-10-01</td>\n",
       "      <td>12381</td>\n",
       "      <td>12312.0</td>\n",
       "      <td>12157.0</td>\n",
       "      <td>11916.8</td>\n",
       "      <td>11727.2</td>\n",
       "      <td>11472.05</td>\n",
       "      <td>11744.279103</td>\n",
       "      <td>11556.723374</td>\n",
       "      <td>0.012589</td>\n",
       "      <td>0.032099</td>\n",
       "      <td>0.047498</td>\n",
       "      <td>0.068222</td>\n",
       "      <td>0.046111</td>\n",
       "      <td>0.061345</td>\n",
       "      <td>223</td>\n",
       "    </tr>\n",
       "    <tr>\n",
       "      <th>224</th>\n",
       "      <td>2022-11-01</td>\n",
       "      <td>12120</td>\n",
       "      <td>12381.0</td>\n",
       "      <td>12346.5</td>\n",
       "      <td>12067.2</td>\n",
       "      <td>11801.9</td>\n",
       "      <td>11594.85</td>\n",
       "      <td>11842.236164</td>\n",
       "      <td>11617.780901</td>\n",
       "      <td>0.002787</td>\n",
       "      <td>0.025345</td>\n",
       "      <td>0.046773</td>\n",
       "      <td>0.063496</td>\n",
       "      <td>0.043515</td>\n",
       "      <td>0.061644</td>\n",
       "      <td>224</td>\n",
       "    </tr>\n",
       "  </tbody>\n",
       "</table>\n",
       "<p>225 rows × 16 columns</p>\n",
       "</div>"
      ],
      "text/plain": [
       "    event_timestamp  oil_production     prev     sma2     sma5    sma10  \\\n",
       "0        2004-03-01            5607   5556.0   5563.0   5580.0   5613.8   \n",
       "1        2004-04-01            5526   5607.0   5581.5   5574.4   5601.2   \n",
       "2        2004-05-01            5548   5526.0   5566.5   5567.6   5583.7   \n",
       "3        2004-06-01            5398   5548.0   5537.0   5561.4   5585.9   \n",
       "4        2004-07-01            5458   5398.0   5473.0   5527.0   5566.2   \n",
       "..              ...             ...      ...      ...      ...      ...   \n",
       "220      2022-07-01           11844  11797.0  11713.0  11622.2  11539.1   \n",
       "221      2022-08-01           12002  11844.0  11820.5  11727.8  11631.7   \n",
       "222      2022-09-01           12312  12002.0  11923.0  11788.0  11675.0   \n",
       "223      2022-10-01           12381  12312.0  12157.0  11916.8  11727.2   \n",
       "224      2022-11-01           12120  12381.0  12346.5  12067.2  11801.9   \n",
       "\n",
       "        sma20         ema12         ema26  sma2_diff  sma5_diff  sma10_diff  \\\n",
       "0     5647.80   5623.582048   5682.746116  -0.001260  -0.004320   -0.010403   \n",
       "1     5639.65   5621.030964   5677.135292   0.004548   0.005814    0.001034   \n",
       "2     5625.40   5606.410815   5665.940086  -0.007329  -0.007528   -0.010442   \n",
       "3     5632.25   5597.424536   5657.203783   0.001983  -0.002415   -0.006831   \n",
       "4     5634.00   5566.743838   5638.003503  -0.013894  -0.023898   -0.031160   \n",
       "..        ...           ...           ...        ...        ...         ...   \n",
       "220  11338.55  11526.600443  11424.792970   0.007120   0.014817    0.021861   \n",
       "221  11370.95  11575.431144  11455.845343   0.001984   0.009811    0.017925   \n",
       "222  11412.65  11641.057122  11496.301243   0.006582   0.017830    0.027245   \n",
       "223  11472.05  11744.279103  11556.723374   0.012589   0.032099    0.047498   \n",
       "224  11594.85  11842.236164  11617.780901   0.002787   0.025345    0.046773   \n",
       "\n",
       "     sma20_diff  ema12_diff  ema26_diff  record_id  \n",
       "0     -0.016523   -0.012164   -0.022812          0  \n",
       "1     -0.005823   -0.002502   -0.012509          1  \n",
       "2     -0.017988   -0.014551   -0.025324          2  \n",
       "3     -0.015186   -0.008909   -0.019683          3  \n",
       "4     -0.043720   -0.031260   -0.044462          4  \n",
       "..          ...         ...         ...        ...  \n",
       "220    0.038862    0.022921    0.031551        220  \n",
       "221    0.039940    0.022676    0.032772        221  \n",
       "222    0.049104    0.030074    0.042135        222  \n",
       "223    0.068222    0.046111    0.061345        223  \n",
       "224    0.063496    0.043515    0.061644        224  \n",
       "\n",
       "[225 rows x 16 columns]"
      ]
     },
     "execution_count": 107,
     "metadata": {},
     "output_type": "execute_result"
    }
   ],
   "source": [
    "df = pd.read_parquet(f\"{PROJECT_ROOT}/datadir/output/predictors_df.parquet\")\n",
    "df"
   ]
  },
  {
   "cell_type": "code",
   "execution_count": 102,
   "metadata": {},
   "outputs": [
    {
     "data": {
      "text/plain": [
       "event_timestamp    datetime64[ns]\n",
       "oil_production              int64\n",
       "prev                      float64\n",
       "sma2                      float64\n",
       "sma5                      float64\n",
       "sma10                     float64\n",
       "sma20                     float64\n",
       "ema12                     float64\n",
       "ema26                     float64\n",
       "sma2_diff                 float64\n",
       "sma5_diff                 float64\n",
       "sma10_diff                float64\n",
       "sma20_diff                float64\n",
       "ema12_diff                float64\n",
       "ema26_diff                float64\n",
       "record_id                   int64\n",
       "dtype: object"
      ]
     },
     "execution_count": 102,
     "metadata": {},
     "output_type": "execute_result"
    }
   ],
   "source": [
    "# !pip install feast==0.23.3\n",
    "predictors_df.head()\n",
    "predictors_df.dtypes"
   ]
  },
  {
   "cell_type": "code",
   "execution_count": 103,
   "metadata": {},
   "outputs": [
    {
     "name": "stdout",
     "output_type": "stream",
     "text": [
      "feast SDK version: 0.27.1\n"
     ]
    }
   ],
   "source": [
    "import feast\n",
    "print(f\"feast SDK version: {feast.__version__}\")"
   ]
  },
  {
   "cell_type": "code",
   "execution_count": 108,
   "metadata": {},
   "outputs": [],
   "source": [
    "from feast import FeatureStore\n",
    "from feast.infra.offline_stores.file_source import SavedDatasetFileStorage\n",
    "\n",
    "store = FeatureStore(repo_path=f'{PROJECT_ROOT}/feature_repo/')\n",
    "\n",
    "entity_df = pd.read_parquet(path = f'{PROJECT_ROOT}/datadir/output/target_df.parquet')\n",
    "\n",
    "training_data = store.get_historical_features(\n",
    "entity_df = entity_df,\n",
    "    features = [\n",
    "        \"predictors_df_feature_view:prev\",\n",
    "#         \"predictors_df_feature_view:stock_name\",\n",
    "        \"predictors_df_feature_view:sma2\",\n",
    "        \"predictors_df_feature_view:sma5\",\n",
    "        \"predictors_df_feature_view:sma10\",\n",
    "        \"predictors_df_feature_view:sma20\",\n",
    "        \"predictors_df_feature_view:ema12\",\n",
    "        \"predictors_df_feature_view:ema26\",\n",
    "        \"predictors_df_feature_view:sma2_diff\",\n",
    "        \"predictors_df_feature_view:sma5_diff\",\n",
    "        \"predictors_df_feature_view:sma10_diff\",\n",
    "        \"predictors_df_feature_view:sma20_diff\",\n",
    "        \"predictors_df_feature_view:ema12_diff\",\n",
    "        \"predictors_df_feature_view:ema26_diff\",\n",
    "        \"predictors_df_feature_view:oil_production\",\n",
    "        \n",
    "               ]\n",
    ")\n",
    "\n",
    "### Genrate Training data\n",
    "storage_path  = f'{PROJECT_ROOT}\\\\feature_repo\\\\data\\\\stock_dataset.parquet'\n",
    "# Instantiate the Path class\n",
    "obj = Path(storage_path)\n",
    "obj.unlink(missing_ok=True)\n",
    "\n",
    "dataset = store.create_saved_dataset(\n",
    "from_=training_data,\n",
    "    name = \"stocks_dataset\",\n",
    "    storage = SavedDatasetFileStorage(storage_path)\n",
    ")"
   ]
  },
  {
   "cell_type": "code",
   "execution_count": 109,
   "metadata": {},
   "outputs": [
    {
     "data": {
      "text/html": [
       "<div>\n",
       "<style scoped>\n",
       "    .dataframe tbody tr th:only-of-type {\n",
       "        vertical-align: middle;\n",
       "    }\n",
       "\n",
       "    .dataframe tbody tr th {\n",
       "        vertical-align: top;\n",
       "    }\n",
       "\n",
       "    .dataframe thead th {\n",
       "        text-align: right;\n",
       "    }\n",
       "</style>\n",
       "<table border=\"1\" class=\"dataframe\">\n",
       "  <thead>\n",
       "    <tr style=\"text-align: right;\">\n",
       "      <th></th>\n",
       "      <th>label</th>\n",
       "      <th>event_timestamp</th>\n",
       "      <th>record_id</th>\n",
       "      <th>prev</th>\n",
       "      <th>sma2</th>\n",
       "      <th>sma5</th>\n",
       "      <th>sma10</th>\n",
       "      <th>sma20</th>\n",
       "      <th>ema12</th>\n",
       "      <th>ema26</th>\n",
       "      <th>sma2_diff</th>\n",
       "      <th>sma5_diff</th>\n",
       "      <th>sma10_diff</th>\n",
       "      <th>sma20_diff</th>\n",
       "      <th>ema12_diff</th>\n",
       "      <th>ema26_diff</th>\n",
       "      <th>oil_production</th>\n",
       "    </tr>\n",
       "  </thead>\n",
       "  <tbody>\n",
       "    <tr>\n",
       "      <th>0</th>\n",
       "      <td>1</td>\n",
       "      <td>2004-03-01 00:00:00+00:00</td>\n",
       "      <td>0</td>\n",
       "      <td>5556.0</td>\n",
       "      <td>5563.0</td>\n",
       "      <td>5580.0</td>\n",
       "      <td>5613.8</td>\n",
       "      <td>5647.80</td>\n",
       "      <td>5623.582048</td>\n",
       "      <td>5682.746116</td>\n",
       "      <td>-0.001260</td>\n",
       "      <td>-0.004320</td>\n",
       "      <td>-0.010403</td>\n",
       "      <td>-0.016523</td>\n",
       "      <td>-0.012164</td>\n",
       "      <td>-0.022812</td>\n",
       "      <td>5607</td>\n",
       "    </tr>\n",
       "    <tr>\n",
       "      <th>1</th>\n",
       "      <td>0</td>\n",
       "      <td>2004-04-01 00:00:00+00:00</td>\n",
       "      <td>1</td>\n",
       "      <td>5607.0</td>\n",
       "      <td>5581.5</td>\n",
       "      <td>5574.4</td>\n",
       "      <td>5601.2</td>\n",
       "      <td>5639.65</td>\n",
       "      <td>5621.030964</td>\n",
       "      <td>5677.135292</td>\n",
       "      <td>0.004548</td>\n",
       "      <td>0.005814</td>\n",
       "      <td>0.001034</td>\n",
       "      <td>-0.005823</td>\n",
       "      <td>-0.002502</td>\n",
       "      <td>-0.012509</td>\n",
       "      <td>5526</td>\n",
       "    </tr>\n",
       "    <tr>\n",
       "      <th>2</th>\n",
       "      <td>1</td>\n",
       "      <td>2004-05-01 00:00:00+00:00</td>\n",
       "      <td>2</td>\n",
       "      <td>5526.0</td>\n",
       "      <td>5566.5</td>\n",
       "      <td>5567.6</td>\n",
       "      <td>5583.7</td>\n",
       "      <td>5625.40</td>\n",
       "      <td>5606.410815</td>\n",
       "      <td>5665.940086</td>\n",
       "      <td>-0.007329</td>\n",
       "      <td>-0.007528</td>\n",
       "      <td>-0.010442</td>\n",
       "      <td>-0.017988</td>\n",
       "      <td>-0.014551</td>\n",
       "      <td>-0.025324</td>\n",
       "      <td>5548</td>\n",
       "    </tr>\n",
       "    <tr>\n",
       "      <th>3</th>\n",
       "      <td>0</td>\n",
       "      <td>2004-06-01 00:00:00+00:00</td>\n",
       "      <td>3</td>\n",
       "      <td>5548.0</td>\n",
       "      <td>5537.0</td>\n",
       "      <td>5561.4</td>\n",
       "      <td>5585.9</td>\n",
       "      <td>5632.25</td>\n",
       "      <td>5597.424536</td>\n",
       "      <td>5657.203783</td>\n",
       "      <td>0.001983</td>\n",
       "      <td>-0.002415</td>\n",
       "      <td>-0.006831</td>\n",
       "      <td>-0.015186</td>\n",
       "      <td>-0.008909</td>\n",
       "      <td>-0.019683</td>\n",
       "      <td>5398</td>\n",
       "    </tr>\n",
       "    <tr>\n",
       "      <th>4</th>\n",
       "      <td>1</td>\n",
       "      <td>2004-07-01 00:00:00+00:00</td>\n",
       "      <td>4</td>\n",
       "      <td>5398.0</td>\n",
       "      <td>5473.0</td>\n",
       "      <td>5527.0</td>\n",
       "      <td>5566.2</td>\n",
       "      <td>5634.00</td>\n",
       "      <td>5566.743838</td>\n",
       "      <td>5638.003503</td>\n",
       "      <td>-0.013894</td>\n",
       "      <td>-0.023898</td>\n",
       "      <td>-0.031160</td>\n",
       "      <td>-0.043720</td>\n",
       "      <td>-0.031260</td>\n",
       "      <td>-0.044462</td>\n",
       "      <td>5458</td>\n",
       "    </tr>\n",
       "    <tr>\n",
       "      <th>...</th>\n",
       "      <td>...</td>\n",
       "      <td>...</td>\n",
       "      <td>...</td>\n",
       "      <td>...</td>\n",
       "      <td>...</td>\n",
       "      <td>...</td>\n",
       "      <td>...</td>\n",
       "      <td>...</td>\n",
       "      <td>...</td>\n",
       "      <td>...</td>\n",
       "      <td>...</td>\n",
       "      <td>...</td>\n",
       "      <td>...</td>\n",
       "      <td>...</td>\n",
       "      <td>...</td>\n",
       "      <td>...</td>\n",
       "      <td>...</td>\n",
       "    </tr>\n",
       "    <tr>\n",
       "      <th>220</th>\n",
       "      <td>1</td>\n",
       "      <td>2022-07-01 00:00:00+00:00</td>\n",
       "      <td>220</td>\n",
       "      <td>11797.0</td>\n",
       "      <td>11713.0</td>\n",
       "      <td>11622.2</td>\n",
       "      <td>11539.1</td>\n",
       "      <td>11338.55</td>\n",
       "      <td>11526.600443</td>\n",
       "      <td>11424.792970</td>\n",
       "      <td>0.007120</td>\n",
       "      <td>0.014817</td>\n",
       "      <td>0.021861</td>\n",
       "      <td>0.038862</td>\n",
       "      <td>0.022921</td>\n",
       "      <td>0.031551</td>\n",
       "      <td>11844</td>\n",
       "    </tr>\n",
       "    <tr>\n",
       "      <th>221</th>\n",
       "      <td>1</td>\n",
       "      <td>2022-08-01 00:00:00+00:00</td>\n",
       "      <td>221</td>\n",
       "      <td>11844.0</td>\n",
       "      <td>11820.5</td>\n",
       "      <td>11727.8</td>\n",
       "      <td>11631.7</td>\n",
       "      <td>11370.95</td>\n",
       "      <td>11575.431144</td>\n",
       "      <td>11455.845343</td>\n",
       "      <td>0.001984</td>\n",
       "      <td>0.009811</td>\n",
       "      <td>0.017925</td>\n",
       "      <td>0.039940</td>\n",
       "      <td>0.022676</td>\n",
       "      <td>0.032772</td>\n",
       "      <td>12002</td>\n",
       "    </tr>\n",
       "    <tr>\n",
       "      <th>222</th>\n",
       "      <td>1</td>\n",
       "      <td>2022-09-01 00:00:00+00:00</td>\n",
       "      <td>222</td>\n",
       "      <td>12002.0</td>\n",
       "      <td>11923.0</td>\n",
       "      <td>11788.0</td>\n",
       "      <td>11675.0</td>\n",
       "      <td>11412.65</td>\n",
       "      <td>11641.057122</td>\n",
       "      <td>11496.301243</td>\n",
       "      <td>0.006582</td>\n",
       "      <td>0.017830</td>\n",
       "      <td>0.027245</td>\n",
       "      <td>0.049104</td>\n",
       "      <td>0.030074</td>\n",
       "      <td>0.042135</td>\n",
       "      <td>12312</td>\n",
       "    </tr>\n",
       "    <tr>\n",
       "      <th>223</th>\n",
       "      <td>1</td>\n",
       "      <td>2022-10-01 00:00:00+00:00</td>\n",
       "      <td>223</td>\n",
       "      <td>12312.0</td>\n",
       "      <td>12157.0</td>\n",
       "      <td>11916.8</td>\n",
       "      <td>11727.2</td>\n",
       "      <td>11472.05</td>\n",
       "      <td>11744.279103</td>\n",
       "      <td>11556.723374</td>\n",
       "      <td>0.012589</td>\n",
       "      <td>0.032099</td>\n",
       "      <td>0.047498</td>\n",
       "      <td>0.068222</td>\n",
       "      <td>0.046111</td>\n",
       "      <td>0.061345</td>\n",
       "      <td>12381</td>\n",
       "    </tr>\n",
       "    <tr>\n",
       "      <th>224</th>\n",
       "      <td>0</td>\n",
       "      <td>2022-11-01 00:00:00+00:00</td>\n",
       "      <td>224</td>\n",
       "      <td>12381.0</td>\n",
       "      <td>12346.5</td>\n",
       "      <td>12067.2</td>\n",
       "      <td>11801.9</td>\n",
       "      <td>11594.85</td>\n",
       "      <td>11842.236164</td>\n",
       "      <td>11617.780901</td>\n",
       "      <td>0.002787</td>\n",
       "      <td>0.025345</td>\n",
       "      <td>0.046773</td>\n",
       "      <td>0.063496</td>\n",
       "      <td>0.043515</td>\n",
       "      <td>0.061644</td>\n",
       "      <td>12120</td>\n",
       "    </tr>\n",
       "  </tbody>\n",
       "</table>\n",
       "<p>225 rows × 17 columns</p>\n",
       "</div>"
      ],
      "text/plain": [
       "     label           event_timestamp  record_id     prev     sma2     sma5  \\\n",
       "0        1 2004-03-01 00:00:00+00:00          0   5556.0   5563.0   5580.0   \n",
       "1        0 2004-04-01 00:00:00+00:00          1   5607.0   5581.5   5574.4   \n",
       "2        1 2004-05-01 00:00:00+00:00          2   5526.0   5566.5   5567.6   \n",
       "3        0 2004-06-01 00:00:00+00:00          3   5548.0   5537.0   5561.4   \n",
       "4        1 2004-07-01 00:00:00+00:00          4   5398.0   5473.0   5527.0   \n",
       "..     ...                       ...        ...      ...      ...      ...   \n",
       "220      1 2022-07-01 00:00:00+00:00        220  11797.0  11713.0  11622.2   \n",
       "221      1 2022-08-01 00:00:00+00:00        221  11844.0  11820.5  11727.8   \n",
       "222      1 2022-09-01 00:00:00+00:00        222  12002.0  11923.0  11788.0   \n",
       "223      1 2022-10-01 00:00:00+00:00        223  12312.0  12157.0  11916.8   \n",
       "224      0 2022-11-01 00:00:00+00:00        224  12381.0  12346.5  12067.2   \n",
       "\n",
       "       sma10     sma20         ema12         ema26  sma2_diff  sma5_diff  \\\n",
       "0     5613.8   5647.80   5623.582048   5682.746116  -0.001260  -0.004320   \n",
       "1     5601.2   5639.65   5621.030964   5677.135292   0.004548   0.005814   \n",
       "2     5583.7   5625.40   5606.410815   5665.940086  -0.007329  -0.007528   \n",
       "3     5585.9   5632.25   5597.424536   5657.203783   0.001983  -0.002415   \n",
       "4     5566.2   5634.00   5566.743838   5638.003503  -0.013894  -0.023898   \n",
       "..       ...       ...           ...           ...        ...        ...   \n",
       "220  11539.1  11338.55  11526.600443  11424.792970   0.007120   0.014817   \n",
       "221  11631.7  11370.95  11575.431144  11455.845343   0.001984   0.009811   \n",
       "222  11675.0  11412.65  11641.057122  11496.301243   0.006582   0.017830   \n",
       "223  11727.2  11472.05  11744.279103  11556.723374   0.012589   0.032099   \n",
       "224  11801.9  11594.85  11842.236164  11617.780901   0.002787   0.025345   \n",
       "\n",
       "     sma10_diff  sma20_diff  ema12_diff  ema26_diff  oil_production  \n",
       "0     -0.010403   -0.016523   -0.012164   -0.022812            5607  \n",
       "1      0.001034   -0.005823   -0.002502   -0.012509            5526  \n",
       "2     -0.010442   -0.017988   -0.014551   -0.025324            5548  \n",
       "3     -0.006831   -0.015186   -0.008909   -0.019683            5398  \n",
       "4     -0.031160   -0.043720   -0.031260   -0.044462            5458  \n",
       "..          ...         ...         ...         ...             ...  \n",
       "220    0.021861    0.038862    0.022921    0.031551           11844  \n",
       "221    0.017925    0.039940    0.022676    0.032772           12002  \n",
       "222    0.027245    0.049104    0.030074    0.042135           12312  \n",
       "223    0.047498    0.068222    0.046111    0.061345           12381  \n",
       "224    0.046773    0.063496    0.043515    0.061644           12120  \n",
       "\n",
       "[225 rows x 17 columns]"
      ]
     },
     "execution_count": 109,
     "metadata": {},
     "output_type": "execute_result"
    }
   ],
   "source": [
    "# print(f'{PROJECT_ROOT}\\\\datadir\\\\output\\\\stock_dataset.parquet')\n",
    "df = training_data.to_df()\n",
    "df"
   ]
  },
  {
   "cell_type": "code",
   "execution_count": 110,
   "metadata": {},
   "outputs": [],
   "source": [
    "df = training_data.to_df()\n",
    "df = df.drop(['event_timestamp','record_id'], axis=1)"
   ]
  },
  {
   "cell_type": "code",
   "execution_count": 111,
   "metadata": {
    "scrolled": true
   },
   "outputs": [
    {
     "data": {
      "text/html": [
       "<div>\n",
       "<style scoped>\n",
       "    .dataframe tbody tr th:only-of-type {\n",
       "        vertical-align: middle;\n",
       "    }\n",
       "\n",
       "    .dataframe tbody tr th {\n",
       "        vertical-align: top;\n",
       "    }\n",
       "\n",
       "    .dataframe thead th {\n",
       "        text-align: right;\n",
       "    }\n",
       "</style>\n",
       "<table border=\"1\" class=\"dataframe\">\n",
       "  <thead>\n",
       "    <tr style=\"text-align: right;\">\n",
       "      <th></th>\n",
       "      <th>label</th>\n",
       "      <th>prev</th>\n",
       "      <th>sma2</th>\n",
       "      <th>sma5</th>\n",
       "      <th>sma10</th>\n",
       "      <th>sma20</th>\n",
       "      <th>ema12</th>\n",
       "      <th>ema26</th>\n",
       "      <th>sma2_diff</th>\n",
       "      <th>sma5_diff</th>\n",
       "      <th>sma10_diff</th>\n",
       "      <th>sma20_diff</th>\n",
       "      <th>ema12_diff</th>\n",
       "      <th>ema26_diff</th>\n",
       "      <th>oil_production</th>\n",
       "    </tr>\n",
       "  </thead>\n",
       "  <tbody>\n",
       "    <tr>\n",
       "      <th>0</th>\n",
       "      <td>1</td>\n",
       "      <td>5556.0</td>\n",
       "      <td>5563.0</td>\n",
       "      <td>5580.0</td>\n",
       "      <td>5613.8</td>\n",
       "      <td>5647.80</td>\n",
       "      <td>5623.582048</td>\n",
       "      <td>5682.746116</td>\n",
       "      <td>-0.001260</td>\n",
       "      <td>-0.004320</td>\n",
       "      <td>-0.010403</td>\n",
       "      <td>-0.016523</td>\n",
       "      <td>-0.012164</td>\n",
       "      <td>-0.022812</td>\n",
       "      <td>5607</td>\n",
       "    </tr>\n",
       "    <tr>\n",
       "      <th>1</th>\n",
       "      <td>0</td>\n",
       "      <td>5607.0</td>\n",
       "      <td>5581.5</td>\n",
       "      <td>5574.4</td>\n",
       "      <td>5601.2</td>\n",
       "      <td>5639.65</td>\n",
       "      <td>5621.030964</td>\n",
       "      <td>5677.135292</td>\n",
       "      <td>0.004548</td>\n",
       "      <td>0.005814</td>\n",
       "      <td>0.001034</td>\n",
       "      <td>-0.005823</td>\n",
       "      <td>-0.002502</td>\n",
       "      <td>-0.012509</td>\n",
       "      <td>5526</td>\n",
       "    </tr>\n",
       "    <tr>\n",
       "      <th>2</th>\n",
       "      <td>1</td>\n",
       "      <td>5526.0</td>\n",
       "      <td>5566.5</td>\n",
       "      <td>5567.6</td>\n",
       "      <td>5583.7</td>\n",
       "      <td>5625.40</td>\n",
       "      <td>5606.410815</td>\n",
       "      <td>5665.940086</td>\n",
       "      <td>-0.007329</td>\n",
       "      <td>-0.007528</td>\n",
       "      <td>-0.010442</td>\n",
       "      <td>-0.017988</td>\n",
       "      <td>-0.014551</td>\n",
       "      <td>-0.025324</td>\n",
       "      <td>5548</td>\n",
       "    </tr>\n",
       "    <tr>\n",
       "      <th>3</th>\n",
       "      <td>0</td>\n",
       "      <td>5548.0</td>\n",
       "      <td>5537.0</td>\n",
       "      <td>5561.4</td>\n",
       "      <td>5585.9</td>\n",
       "      <td>5632.25</td>\n",
       "      <td>5597.424536</td>\n",
       "      <td>5657.203783</td>\n",
       "      <td>0.001983</td>\n",
       "      <td>-0.002415</td>\n",
       "      <td>-0.006831</td>\n",
       "      <td>-0.015186</td>\n",
       "      <td>-0.008909</td>\n",
       "      <td>-0.019683</td>\n",
       "      <td>5398</td>\n",
       "    </tr>\n",
       "    <tr>\n",
       "      <th>4</th>\n",
       "      <td>1</td>\n",
       "      <td>5398.0</td>\n",
       "      <td>5473.0</td>\n",
       "      <td>5527.0</td>\n",
       "      <td>5566.2</td>\n",
       "      <td>5634.00</td>\n",
       "      <td>5566.743838</td>\n",
       "      <td>5638.003503</td>\n",
       "      <td>-0.013894</td>\n",
       "      <td>-0.023898</td>\n",
       "      <td>-0.031160</td>\n",
       "      <td>-0.043720</td>\n",
       "      <td>-0.031260</td>\n",
       "      <td>-0.044462</td>\n",
       "      <td>5458</td>\n",
       "    </tr>\n",
       "  </tbody>\n",
       "</table>\n",
       "</div>"
      ],
      "text/plain": [
       "   label    prev    sma2    sma5   sma10    sma20        ema12        ema26  \\\n",
       "0      1  5556.0  5563.0  5580.0  5613.8  5647.80  5623.582048  5682.746116   \n",
       "1      0  5607.0  5581.5  5574.4  5601.2  5639.65  5621.030964  5677.135292   \n",
       "2      1  5526.0  5566.5  5567.6  5583.7  5625.40  5606.410815  5665.940086   \n",
       "3      0  5548.0  5537.0  5561.4  5585.9  5632.25  5597.424536  5657.203783   \n",
       "4      1  5398.0  5473.0  5527.0  5566.2  5634.00  5566.743838  5638.003503   \n",
       "\n",
       "   sma2_diff  sma5_diff  sma10_diff  sma20_diff  ema12_diff  ema26_diff  \\\n",
       "0  -0.001260  -0.004320   -0.010403   -0.016523   -0.012164   -0.022812   \n",
       "1   0.004548   0.005814    0.001034   -0.005823   -0.002502   -0.012509   \n",
       "2  -0.007329  -0.007528   -0.010442   -0.017988   -0.014551   -0.025324   \n",
       "3   0.001983  -0.002415   -0.006831   -0.015186   -0.008909   -0.019683   \n",
       "4  -0.013894  -0.023898   -0.031160   -0.043720   -0.031260   -0.044462   \n",
       "\n",
       "   oil_production  \n",
       "0            5607  \n",
       "1            5526  \n",
       "2            5548  \n",
       "3            5398  \n",
       "4            5458  "
      ]
     },
     "execution_count": 111,
     "metadata": {},
     "output_type": "execute_result"
    }
   ],
   "source": [
    "df.head()"
   ]
  },
  {
   "cell_type": "markdown",
   "metadata": {},
   "source": [
    "### Train-val split"
   ]
  },
  {
   "cell_type": "code",
   "execution_count": 112,
   "metadata": {},
   "outputs": [],
   "source": [
    "# Keep most recent 20 days as validation set"
   ]
  },
  {
   "cell_type": "code",
   "execution_count": 113,
   "metadata": {},
   "outputs": [
    {
     "name": "stderr",
     "output_type": "stream",
     "text": [
      "2023-02-16 10:05:32,098 - No. of days - Train: 205, Val: 20\n"
     ]
    }
   ],
   "source": [
    "validation_days = 20\n",
    "train = df.iloc[:-validation_days].copy()\n",
    "val = df.iloc[-validation_days:].copy()\n",
    "logger.info('No. of days - Train: {}, Val: {}'.format(train.shape[0], val.shape[0]))"
   ]
  },
  {
   "cell_type": "markdown",
   "metadata": {},
   "source": [
    "### Basic visualizations"
   ]
  },
  {
   "cell_type": "code",
   "execution_count": 115,
   "metadata": {},
   "outputs": [
    {
     "data": {
      "text/plain": [
       "<matplotlib.legend.Legend at 0x1c02a6a9700>"
      ]
     },
     "execution_count": 115,
     "metadata": {},
     "output_type": "execute_result"
    },
    {
     "data": {
      "image/png": "[encoded data removed]",
      "text/plain": [
       "<Figure size 1500x500 with 1 Axes>"
      ]
     },
     "metadata": {},
     "output_type": "display_data"
    }
   ],
   "source": [
    "plt.figure(figsize=(15, 5))\n",
    "plt.grid()\n",
    "plt.plot(train['oil_production'], label='price')\n",
    "plt.plot(train['sma20'], label='simple moving average 20')\n",
    "plt.plot(train['ema12'], label='exponential moving average 12')\n",
    "plt.plot(train['ema26'], label='exponential moving average 26')\n",
    "plt.legend()"
   ]
  },
  {
   "cell_type": "markdown",
   "metadata": {},
   "source": [
    "### Feature transformations"
   ]
  },
  {
   "cell_type": "code",
   "execution_count": 116,
   "metadata": {},
   "outputs": [],
   "source": [
    "scaler = StandardScaler()"
   ]
  },
  {
   "cell_type": "code",
   "execution_count": 117,
   "metadata": {},
   "outputs": [],
   "source": [
    "COLS_TO_SCALE = ['prev', 'sma2', 'sma5', 'sma10', 'sma20', 'ema12', 'ema26']"
   ]
  },
  {
   "cell_type": "code",
   "execution_count": 118,
   "metadata": {},
   "outputs": [
    {
     "data": {
      "text/plain": [
       "StandardScaler()"
      ]
     },
     "execution_count": 118,
     "metadata": {},
     "output_type": "execute_result"
    }
   ],
   "source": [
    "scaler.fit(train[COLS_TO_SCALE])"
   ]
  },
  {
   "cell_type": "code",
   "execution_count": 119,
   "metadata": {},
   "outputs": [],
   "source": [
    "train[COLS_TO_SCALE] = scaler.transform(train[COLS_TO_SCALE])\n",
    "val[COLS_TO_SCALE] = scaler.transform(val[COLS_TO_SCALE])"
   ]
  },
  {
   "cell_type": "markdown",
   "metadata": {},
   "source": [
    "### Linear regression coefficients"
   ]
  },
  {
   "cell_type": "code",
   "execution_count": 120,
   "metadata": {},
   "outputs": [
    {
     "name": "stderr",
     "output_type": "stream",
     "text": [
      "2023-02-16 10:05:42,936 - x variables: prev+sma2+sma5+sma10+sma20+ema12+ema26+sma2_diff+sma5_diff+sma10_diff+sma20_diff+ema12_diff+ema26_diff\n"
     ]
    }
   ],
   "source": [
    "x_variables = '+'.join(list(train.columns[1:-1]))\n",
    "logger.info('x variables: {}'.format(x_variables))"
   ]
  },
  {
   "cell_type": "code",
   "execution_count": 121,
   "metadata": {},
   "outputs": [],
   "source": [
    "results = smf.ols('oil_production ~ {}'.format(x_variables), data=train).fit()"
   ]
  },
  {
   "cell_type": "code",
   "execution_count": 122,
   "metadata": {
    "scrolled": false
   },
   "outputs": [
    {
     "name": "stdout",
     "output_type": "stream",
     "text": [
      "                            OLS Regression Results                            \n",
      "==============================================================================\n",
      "Dep. Variable:         oil_production   R-squared:                       0.988\n",
      "Model:                            OLS   Adj. R-squared:                  0.987\n",
      "Method:                 Least Squares   F-statistic:                     1209.\n",
      "Date:                Thu, 16 Feb 2023   Prob (F-statistic):          1.12e-175\n",
      "Time:                        10:05:52   Log-Likelihood:                -1440.1\n",
      "No. Observations:                 205   AIC:                             2908.\n",
      "Df Residuals:                     191   BIC:                             2955.\n",
      "Df Model:                          13                                         \n",
      "Covariance Type:            nonrobust                                         \n",
      "==============================================================================\n",
      "                 coef    std err          t      P>|t|      [0.025      0.975]\n",
      "------------------------------------------------------------------------------\n",
      "Intercept   7340.1062     62.970    116.565      0.000    7215.900    7464.313\n",
      "prev        2849.1117   1004.156      2.837      0.005     868.453    4829.771\n",
      "sma2         915.4558   2252.219      0.406      0.685   -3526.960    5357.871\n",
      "sma5        2722.1937   4080.545      0.667      0.506   -5326.527    1.08e+04\n",
      "sma10       4412.6544   5604.746      0.787      0.432   -6642.495    1.55e+04\n",
      "sma20      -3994.4291   4527.584     -0.882      0.379   -1.29e+04    4936.058\n",
      "ema12      -1.311e+04   1.68e+04     -0.780      0.436   -4.63e+04       2e+04\n",
      "ema26       8416.1460   2388.302      3.524      0.001    3705.310    1.31e+04\n",
      "sma2_diff   3471.1520   6212.954      0.559      0.577   -8783.663    1.57e+04\n",
      "sma5_diff   1.083e+04   1.16e+04      0.932      0.352   -1.21e+04    3.38e+04\n",
      "sma10_diff  1.608e+04   1.65e+04      0.973      0.332   -1.65e+04    4.87e+04\n",
      "sma20_diff -9630.1036   1.38e+04     -0.697      0.486   -3.69e+04    1.76e+04\n",
      "ema12_diff -5.366e+04    4.9e+04     -1.094      0.275    -1.5e+05    4.31e+04\n",
      "ema26_diff  2.973e+04   8094.932      3.673      0.000    1.38e+04    4.57e+04\n",
      "==============================================================================\n",
      "Omnibus:                      155.841   Durbin-Watson:                   1.877\n",
      "Prob(Omnibus):                  0.000   Jarque-Bera (JB):             4328.346\n",
      "Skew:                          -2.467   Prob(JB):                         0.00\n",
      "Kurtosis:                      24.963   Cond. No.                     7.66e+03\n",
      "==============================================================================\n",
      "\n",
      "Notes:\n",
      "[1] Standard Errors assume that the covariance matrix of the errors is correctly specified.\n",
      "[2] The condition number is large, 7.66e+03. This might indicate that there are\n",
      "strong multicollinearity or other numerical problems.\n"
     ]
    }
   ],
   "source": [
    "print(results.summary())"
   ]
  },
  {
   "cell_type": "markdown",
   "metadata": {},
   "source": [
    "### Drop label col"
   ]
  },
  {
   "cell_type": "code",
   "execution_count": 124,
   "metadata": {},
   "outputs": [],
   "source": [
    "train.drop(columns=['oil_production'], inplace=True)\n",
    "val.drop(columns=['oil_production'], inplace=True)"
   ]
  },
  {
   "cell_type": "markdown",
   "metadata": {},
   "source": [
    "### Logistic Regression Coefficients"
   ]
  },
  {
   "cell_type": "code",
   "execution_count": 125,
   "metadata": {},
   "outputs": [],
   "source": [
    "y = train['label'].values\n",
    "X = train.drop(columns=['label'])"
   ]
  },
  {
   "cell_type": "code",
   "execution_count": 126,
   "metadata": {},
   "outputs": [],
   "source": [
    "X = add_constant(X)"
   ]
  },
  {
   "cell_type": "code",
   "execution_count": 127,
   "metadata": {},
   "outputs": [],
   "source": [
    "logit = sm.Logit(y, X)"
   ]
  },
  {
   "cell_type": "code",
   "execution_count": 128,
   "metadata": {
    "scrolled": true
   },
   "outputs": [
    {
     "name": "stdout",
     "output_type": "stream",
     "text": [
      "Optimization terminated successfully.\n",
      "         Current function value: 0.632388\n",
      "         Iterations 7\n",
      "                           Logit Regression Results                           \n",
      "==============================================================================\n",
      "Dep. Variable:                      y   No. Observations:                  205\n",
      "Model:                          Logit   Df Residuals:                      191\n",
      "Method:                           MLE   Df Model:                           13\n",
      "Date:                Thu, 16 Feb 2023   Pseudo R-squ.:                 0.06036\n",
      "Time:                        10:06:02   Log-Likelihood:                -129.64\n",
      "converged:                       True   LL-Null:                       -137.97\n",
      "Covariance Type:            nonrobust   LLR p-value:                    0.2155\n",
      "==============================================================================\n",
      "                 coef    std err          z      P>|z|      [0.025      0.975]\n",
      "------------------------------------------------------------------------------\n",
      "const         -0.4219      0.475     -0.887      0.375      -1.354       0.510\n",
      "prev          -1.7089      8.491     -0.201      0.841     -18.352      14.934\n",
      "sma2           3.9261     17.508      0.224      0.823     -30.389      38.242\n",
      "sma5          12.2126     32.403      0.377      0.706     -51.295      75.721\n",
      "sma10         13.8311     44.413      0.311      0.755     -73.216     100.879\n",
      "sma20        -31.1553     36.516     -0.853      0.394    -102.726      40.415\n",
      "ema12        -39.8053    133.344     -0.299      0.765    -301.154     221.544\n",
      "ema26         41.3611     18.989      2.178      0.029       4.144      78.578\n",
      "sma2_diff      9.6584     48.330      0.200      0.842     -85.066     104.383\n",
      "sma5_diff     57.7474     90.329      0.639      0.523    -119.293     234.788\n",
      "sma10_diff    35.8264    126.947      0.282      0.778    -212.986     284.639\n",
      "sma20_diff   -70.6688    107.690     -0.656      0.512    -281.737     140.400\n",
      "ema12_diff  -170.0526    378.496     -0.449      0.653    -911.891     571.786\n",
      "ema26_diff   133.4005     62.374      2.139      0.032      11.150     255.651\n",
      "==============================================================================\n"
     ]
    }
   ],
   "source": [
    "result = logit.fit()\n",
    "print(result.summary())"
   ]
  },
  {
   "cell_type": "markdown",
   "metadata": {},
   "source": [
    "### Train some basic models"
   ]
  },
  {
   "cell_type": "code",
   "execution_count": 129,
   "metadata": {},
   "outputs": [],
   "source": [
    "y_train = train['label'].values\n",
    "X_train = train.drop(columns='label').values\n",
    "\n",
    "y_val = val['label'].values\n",
    "X_val = val.drop(columns='label').values"
   ]
  },
  {
   "cell_type": "code",
   "execution_count": 130,
   "metadata": {},
   "outputs": [
    {
     "data": {
      "text/plain": [
       "True"
      ]
     },
     "execution_count": 130,
     "metadata": {},
     "output_type": "execute_result"
    }
   ],
   "source": [
    "#python program to check if a directory exists\n",
    "import os\n",
    "path = run_params[\"artifact_dir\"]\n",
    "# Check whether the specified path exists or not\n",
    "isExist = os.path.exists(path)\n",
    "isExist\n",
    "# if not isExist:\n",
    "\n",
    "#    # Create a new directory because it does not exist\n",
    "#    os.makedirs(path)\n",
    "#    print(\"The new directory is created!\")"
   ]
  },
  {
   "cell_type": "code",
   "execution_count": 131,
   "metadata": {},
   "outputs": [
    {
     "name": "stderr",
     "output_type": "stream",
     "text": [
      "2023-02-16 10:06:09,080 - AUC: 0.515 | Recall: 0.000 | Precision: 0.000 | F1: 0.000\n",
      "2023-02-16 10:06:09,082 - Model metrics to: C:\\Users\\Harsha\\Documents\\ISB_AMPBA\\Term5\\FP2\\GroupAssignment\\fp2\\artifact_dir\\metrics\\Logistic_Regression_SNP_mertics.yaml\n",
      "2023-02-16 10:06:09,204 - ROC curve saved to: C:\\Users\\Harsha\\Documents\\ISB_AMPBA\\Term5\\FP2\\GroupAssignment\\fp2\\artifact_dir\\plots\\roc_curve_Logistic_Regression (auc = 0.52).png\n",
      "2023-02-16 10:06:09,414 - Precision-recall curve saved to: C:\\Users\\Harsha\\Documents\\ISB_AMPBA\\Term5\\FP2\\GroupAssignment\\fp2\\artifact_dir/plots/precision_recall_Logistic_Regression prec= 0.00 recall= 0.00.png\n",
      "2023-02-16 10:06:09,414 - Model saved to: C:\\Users\\Harsha\\Documents\\ISB_AMPBA\\Term5\\FP2\\GroupAssignment\\fp2\\artifact_dir/models/Logistic_Regression.pickle\n"
     ]
    },
    {
     "name": "stdout",
     "output_type": "stream",
     "text": [
      "C:\\Users\\Harsha\\Documents\\ISB_AMPBA\\Term5\\FP2\\GroupAssignment\\fp2\\artifact_dir/models/Logistic_Regression.pickle\n"
     ]
    },
    {
     "data": {
      "image/png": "[encoded data removed]",
      "text/plain": [
       "<Figure size 500x500 with 1 Axes>"
      ]
     },
     "metadata": {},
     "output_type": "display_data"
    },
    {
     "data": {
      "image/png": "[encoded data removed]",
      "text/plain": [
       "<Figure size 1500x500 with 1 Axes>"
      ]
     },
     "metadata": {},
     "output_type": "display_data"
    }
   ],
   "source": [
    "# Logistic regression\n",
    "model_name = 'Logistic_Regression'\n",
    "model = LogisticRegression(fit_intercept=FIT_INTERCEPT).fit(X_train, y_train)\n",
    "pred = model.predict_proba(X_val)[:, 1]\n",
    "log_mlflow(run_params, model, model_name, y_val, pred)"
   ]
  },
  {
   "cell_type": "code",
   "execution_count": 132,
   "metadata": {},
   "outputs": [
    {
     "name": "stderr",
     "output_type": "stream",
     "text": [
      "2023-02-16 10:06:11,842 - AUC: 0.626 | Recall: 0.667 | Precision: 0.500 | F1: 0.571\n",
      "2023-02-16 10:06:11,842 - Model metrics to: C:\\Users\\Harsha\\Documents\\ISB_AMPBA\\Term5\\FP2\\GroupAssignment\\fp2\\artifact_dir\\metrics\\Support Vector Classifier_SNP_mertics.yaml\n",
      "2023-02-16 10:06:11,970 - ROC curve saved to: C:\\Users\\Harsha\\Documents\\ISB_AMPBA\\Term5\\FP2\\GroupAssignment\\fp2\\artifact_dir\\plots\\roc_curve_Support Vector Classifier (auc = 0.63).png\n",
      "2023-02-16 10:06:12,182 - Precision-recall curve saved to: C:\\Users\\Harsha\\Documents\\ISB_AMPBA\\Term5\\FP2\\GroupAssignment\\fp2\\artifact_dir/plots/precision_recall_Support Vector Classifier prec= 0.50 recall= 0.67.png\n",
      "2023-02-16 10:06:12,182 - Model saved to: C:\\Users\\Harsha\\Documents\\ISB_AMPBA\\Term5\\FP2\\GroupAssignment\\fp2\\artifact_dir/models/Support Vector Classifier.pickle\n"
     ]
    },
    {
     "name": "stdout",
     "output_type": "stream",
     "text": [
      "C:\\Users\\Harsha\\Documents\\ISB_AMPBA\\Term5\\FP2\\GroupAssignment\\fp2\\artifact_dir/models/Support Vector Classifier.pickle\n"
     ]
    },
    {
     "data": {
      "image/png": "[encoded data removed]",
      "text/plain": [
       "<Figure size 500x500 with 1 Axes>"
      ]
     },
     "metadata": {},
     "output_type": "display_data"
    },
    {
     "data": {
      "image/png": "[encoded data removed]",
      "text/plain": [
       "<Figure size 1500x500 with 1 Axes>"
      ]
     },
     "metadata": {},
     "output_type": "display_data"
    }
   ],
   "source": [
    "# Support vector classifier\n",
    "model_name = 'Support Vector Classifier'\n",
    "model = SVC(gamma=GAMMA, C=C_VALUE, probability=PROBABILITY).fit(X_train, y_train)\n",
    "pred = model.predict_proba(X_val)[:, 1]\n",
    "log_mlflow(run_params, model, model_name, y_val, pred)\n",
    "\n"
   ]
  },
  {
   "cell_type": "code",
   "execution_count": 133,
   "metadata": {},
   "outputs": [
    {
     "name": "stderr",
     "output_type": "stream",
     "text": [
      "2023-02-16 10:06:12,607 - AUC: 0.490 | Recall: 0.556 | Precision: 0.455 | F1: 0.500\n",
      "2023-02-16 10:06:12,622 - Model metrics to: C:\\Users\\Harsha\\Documents\\ISB_AMPBA\\Term5\\FP2\\GroupAssignment\\fp2\\artifact_dir\\metrics\\K-nearest Neighbours_SNP_mertics.yaml\n",
      "2023-02-16 10:06:12,755 - ROC curve saved to: C:\\Users\\Harsha\\Documents\\ISB_AMPBA\\Term5\\FP2\\GroupAssignment\\fp2\\artifact_dir\\plots\\roc_curve_K-nearest Neighbours (auc = 0.49).png\n",
      "2023-02-16 10:06:12,954 - Precision-recall curve saved to: C:\\Users\\Harsha\\Documents\\ISB_AMPBA\\Term5\\FP2\\GroupAssignment\\fp2\\artifact_dir/plots/precision_recall_K-nearest Neighbours prec= 0.45 recall= 0.56.png\n",
      "2023-02-16 10:06:12,954 - Model saved to: C:\\Users\\Harsha\\Documents\\ISB_AMPBA\\Term5\\FP2\\GroupAssignment\\fp2\\artifact_dir/models/K-nearest Neighbours.pickle\n"
     ]
    },
    {
     "name": "stdout",
     "output_type": "stream",
     "text": [
      "C:\\Users\\Harsha\\Documents\\ISB_AMPBA\\Term5\\FP2\\GroupAssignment\\fp2\\artifact_dir/models/K-nearest Neighbours.pickle\n"
     ]
    },
    {
     "data": {
      "image/png": "[encoded data removed]",
      "text/plain": [
       "<Figure size 500x500 with 1 Axes>"
      ]
     },
     "metadata": {},
     "output_type": "display_data"
    },
    {
     "data": {
      "image/png": "[encoded data removed]",
      "text/plain": [
       "<Figure size 1500x500 with 1 Axes>"
      ]
     },
     "metadata": {},
     "output_type": "display_data"
    }
   ],
   "source": [
    "# K-neighbours\n",
    "model_name = 'K-nearest Neighbours'\n",
    "model = KNeighborsClassifier(n_neighbors=N_NEIGHBORS).fit(X_train, y_train)\n",
    "pred = model.predict_proba(X_val)[:, 1]\n",
    "log_mlflow(run_params, model, model_name, y_val, pred)\n"
   ]
  },
  {
   "cell_type": "code",
   "execution_count": 134,
   "metadata": {},
   "outputs": [
    {
     "name": "stderr",
     "output_type": "stream",
     "text": [
      "2023-02-16 10:06:13,751 - AUC: 0.253 | Recall: 0.778 | Precision: 0.412 | F1: 0.538\n",
      "2023-02-16 10:06:13,751 - Model metrics to: C:\\Users\\Harsha\\Documents\\ISB_AMPBA\\Term5\\FP2\\GroupAssignment\\fp2\\artifact_dir\\metrics\\Gradient Boosting Machine_SNP_mertics.yaml\n",
      "2023-02-16 10:06:13,871 - ROC curve saved to: C:\\Users\\Harsha\\Documents\\ISB_AMPBA\\Term5\\FP2\\GroupAssignment\\fp2\\artifact_dir\\plots\\roc_curve_Gradient Boosting Machine (auc = 0.25).png\n",
      "2023-02-16 10:06:14,053 - Precision-recall curve saved to: C:\\Users\\Harsha\\Documents\\ISB_AMPBA\\Term5\\FP2\\GroupAssignment\\fp2\\artifact_dir/plots/precision_recall_Gradient Boosting Machine prec= 0.41 recall= 0.78.png\n",
      "2023-02-16 10:06:14,053 - Model saved to: C:\\Users\\Harsha\\Documents\\ISB_AMPBA\\Term5\\FP2\\GroupAssignment\\fp2\\artifact_dir/models/Gradient Boosting Machine.pickle\n"
     ]
    },
    {
     "name": "stdout",
     "output_type": "stream",
     "text": [
      "C:\\Users\\Harsha\\Documents\\ISB_AMPBA\\Term5\\FP2\\GroupAssignment\\fp2\\artifact_dir/models/Gradient Boosting Machine.pickle\n"
     ]
    },
    {
     "data": {
      "image/png": "[encoded data removed]",
      "text/plain": [
       "<Figure size 500x500 with 1 Axes>"
      ]
     },
     "metadata": {},
     "output_type": "display_data"
    },
    {
     "data": {
      "image/png": "[encoded data removed]",
      "text/plain": [
       "<Figure size 1500x500 with 1 Axes>"
      ]
     },
     "metadata": {},
     "output_type": "display_data"
    }
   ],
   "source": [
    "# Gradient Boosting\n",
    "model_name = 'Gradient Boosting Machine'\n",
    "model = GradientBoostingClassifier(n_estimators=N_ESTIMATORS).fit(X_train, y_train)\n",
    "pred = model.predict_proba(X_val)[:, 1]\n",
    "log_mlflow(run_params, model, model_name, y_val, pred)"
   ]
  },
  {
   "cell_type": "code",
   "execution_count": 135,
   "metadata": {},
   "outputs": [
    {
     "name": "stderr",
     "output_type": "stream",
     "text": [
      "2023-02-16 10:06:14,568 - AUC: 0.505 | Recall: 0.667 | Precision: 0.545 | F1: 0.600\n",
      "2023-02-16 10:06:14,568 - Model metrics to: C:\\Users\\Harsha\\Documents\\ISB_AMPBA\\Term5\\FP2\\GroupAssignment\\fp2\\artifact_dir\\metrics\\Extra Trees_SNP_mertics.yaml\n",
      "2023-02-16 10:06:14,689 - ROC curve saved to: C:\\Users\\Harsha\\Documents\\ISB_AMPBA\\Term5\\FP2\\GroupAssignment\\fp2\\artifact_dir\\plots\\roc_curve_Extra Trees (auc = 0.51).png\n",
      "2023-02-16 10:06:14,906 - Precision-recall curve saved to: C:\\Users\\Harsha\\Documents\\ISB_AMPBA\\Term5\\FP2\\GroupAssignment\\fp2\\artifact_dir/plots/precision_recall_Extra Trees prec= 0.55 recall= 0.67.png\n",
      "2023-02-16 10:06:14,906 - Model saved to: C:\\Users\\Harsha\\Documents\\ISB_AMPBA\\Term5\\FP2\\GroupAssignment\\fp2\\artifact_dir/models/Extra Trees.pickle\n"
     ]
    },
    {
     "name": "stdout",
     "output_type": "stream",
     "text": [
      "C:\\Users\\Harsha\\Documents\\ISB_AMPBA\\Term5\\FP2\\GroupAssignment\\fp2\\artifact_dir/models/Extra Trees.pickle\n"
     ]
    },
    {
     "data": {
      "image/png": "[encoded data removed]",
      "text/plain": [
       "<Figure size 500x500 with 1 Axes>"
      ]
     },
     "metadata": {},
     "output_type": "display_data"
    },
    {
     "data": {
      "image/png": "[encoded data removed]",
      "text/plain": [
       "<Figure size 1500x500 with 1 Axes>"
      ]
     },
     "metadata": {},
     "output_type": "display_data"
    }
   ],
   "source": [
    "# Bagged trees\n",
    "model_name = 'Extra Trees'\n",
    "model = ExtraTreesClassifier().fit(X_train, y_train)\n",
    "pred = model.predict_proba(X_val)[:, 1]\n",
    "log_mlflow(run_params, model, model_name, y_val, pred)"
   ]
  },
  {
   "cell_type": "markdown",
   "metadata": {},
   "source": [
    "### Test loading model"
   ]
  },
  {
   "cell_type": "code",
   "execution_count": 136,
   "metadata": {},
   "outputs": [],
   "source": [
    "model_name = 'Support Vector Classifier'\n",
    "check_model = load('{}/models/{}.pickle'.format(ARTIFACT_DIR, model_name))"
   ]
  },
  {
   "cell_type": "code",
   "execution_count": 137,
   "metadata": {},
   "outputs": [
    {
     "data": {
      "text/plain": [
       "SVC(C=1, gamma=2, probability=True)"
      ]
     },
     "execution_count": 137,
     "metadata": {},
     "output_type": "execute_result"
    }
   ],
   "source": [
    "check_model"
   ]
  },
  {
   "cell_type": "code",
   "execution_count": 138,
   "metadata": {},
   "outputs": [],
   "source": [
    "pred = check_model.predict_proba(X_val)[:, 1]"
   ]
  },
  {
   "cell_type": "code",
   "execution_count": 139,
   "metadata": {},
   "outputs": [
    {
     "name": "stderr",
     "output_type": "stream",
     "text": [
      "2023-02-16 10:06:19,696 - AUC: 0.626 | Recall: 0.667 | Precision: 0.500 | F1: 0.571\n"
     ]
    },
    {
     "data": {
      "text/plain": [
       "(0.6262626262626263, 0.6666666666666666, 0.5, 0.5714285714285715)"
      ]
     },
     "execution_count": 139,
     "metadata": {},
     "output_type": "execute_result"
    }
   ],
   "source": [
    "evaluate_binary(y_val, pred)"
   ]
  },
  {
   "cell_type": "code",
   "execution_count": null,
   "metadata": {},
   "outputs": [],
   "source": []
  },
  {
   "cell_type": "code",
   "execution_count": null,
   "metadata": {},
   "outputs": [],
   "source": []
  },
  {
   "cell_type": "code",
   "execution_count": null,
   "metadata": {},
   "outputs": [],
   "source": []
  }
 ],
 "metadata": {
  "celltoolbar": "Tags",
  "kernelspec": {
   "display_name": "Python 3 (ipykernel)",
   "language": "python",
   "name": "python3"
  },
  "language_info": {
   "codemirror_mode": {
    "name": "ipython",
    "version": 3
   },
   "file_extension": ".py",
   "mimetype": "text/x-python",
   "name": "python",
   "nbconvert_exporter": "python",
   "pygments_lexer": "ipython3",
   "version": "3.9.13"
  }
 },
 "nbformat": 4,
 "nbformat_minor": 4
}
