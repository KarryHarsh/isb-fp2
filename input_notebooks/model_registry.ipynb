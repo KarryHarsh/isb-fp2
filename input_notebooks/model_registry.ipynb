{
 "cells": [
  {
   "cell_type": "markdown",
   "id": "1582595a",
   "metadata": {},
   "source": [
    "Set MLflow tracker"
   ]
  },
  {
   "cell_type": "code",
   "execution_count": 2,
   "id": "4c07a38b",
   "metadata": {},
   "outputs": [],
   "source": [
    "import mlflow\n",
    "# Provide uri and connect to your tracking server\n",
    "mlflow.set_tracking_uri('http://127.0.0.1:5000/')"
   ]
  },
  {
   "cell_type": "code",
   "execution_count": 3,
   "id": "ed645f35",
   "metadata": {
    "tags": [
     "parameters"
    ]
   },
   "outputs": [],
   "source": [
    "model_name = \"prophet_forecasting\"\n",
    "model_version = 1\n",
    "model_description = \"This model forecasts the oil production based on the previous data.\"\n",
    "version_description = \"mlflow model version\""
   ]
  },
  {
   "cell_type": "markdown",
   "id": "76af7221",
   "metadata": {},
   "source": [
    "### MLflow Model Registry "
   ]
  },
  {
   "cell_type": "code",
   "execution_count": 4,
   "id": "df369976",
   "metadata": {},
   "outputs": [],
   "source": [
    "import time\n",
    "from mlflow.tracking.client import MlflowClient\n",
    "from mlflow.entities.model_registry.model_version_status import ModelVersionStatus\n",
    " \n",
    "def wait_until_ready(model_name, model_version):\n",
    "    client = MlflowClient()\n",
    "    for _ in range(10):\n",
    "        model_version_details = client.get_model_version(\n",
    "        name=model_name,\n",
    "        version=model_version,\n",
    "        )\n",
    "        status = ModelVersionStatus.from_string(model_version_details.status)\n",
    "        print(\"Model status: %s\" % ModelVersionStatus.to_string(status))\n",
    "        if status == ModelVersionStatus.READY:\n",
    "            break\n",
    "        time.sleep(1)"
   ]
  },
  {
   "cell_type": "code",
   "execution_count": 5,
   "id": "95dc38bf",
   "metadata": {},
   "outputs": [
    {
     "name": "stdout",
     "output_type": "stream",
     "text": [
      "Model status: READY\n"
     ]
    }
   ],
   "source": [
    "wait_until_ready(model_name, model_version)"
   ]
  },
  {
   "cell_type": "code",
   "execution_count": 6,
   "id": "5f8245d4",
   "metadata": {},
   "outputs": [
    {
     "data": {
      "text/plain": [
       "<RegisteredModel: creation_timestamp=1677327553538, description='This model forecasts the oil production based on the previous data.', last_updated_timestamp=1677329971368, latest_versions=[<ModelVersion: creation_timestamp=1677327553627, current_stage='None', description='', last_updated_timestamp=1677327553627, name='prophet_forecasting', run_id='037a1a77df1940a3b82e71dfb87d87e4', run_link='', source='./mlflow/037a1a77df1940a3b82e71dfb87d87e4/artifacts/prophet_forecasting', status='READY', status_message='', tags={}, user_id='', version='1'>], name='prophet_forecasting', tags={}>"
      ]
     },
     "execution_count": 6,
     "metadata": {},
     "output_type": "execute_result"
    }
   ],
   "source": [
    "from mlflow.tracking.client import MlflowClient\n",
    " \n",
    "client = MlflowClient()\n",
    "client.update_registered_model(\n",
    "  name=model_name,\n",
    "  description=model_description\n",
    ")"
   ]
  },
  {
   "cell_type": "code",
   "execution_count": null,
   "id": "86af8979",
   "metadata": {},
   "outputs": [],
   "source": [
    "client.update_model_version(\n",
    "  name=model_name,\n",
    "  version=model_version,\n",
    "  description=version_description\n",
    ")"
   ]
  },
  {
   "cell_type": "code",
   "execution_count": 7,
   "id": "ccbbe69c",
   "metadata": {},
   "outputs": [
    {
     "data": {
      "text/plain": [
       "<ModelVersion: creation_timestamp=1677327553627, current_stage='Production', description='', last_updated_timestamp=1677330091639, name='prophet_forecasting', run_id='037a1a77df1940a3b82e71dfb87d87e4', run_link='', source='./mlflow/037a1a77df1940a3b82e71dfb87d87e4/artifacts/prophet_forecasting', status='READY', status_message='', tags={}, user_id='', version='1'>"
      ]
     },
     "execution_count": 7,
     "metadata": {},
     "output_type": "execute_result"
    }
   ],
   "source": [
    "client.transition_model_version_stage(\n",
    "  name=model_name,\n",
    "  version=model_version,\n",
    "  stage='Production',\n",
    ")"
   ]
  },
  {
   "cell_type": "code",
   "execution_count": 8,
   "id": "932fa648",
   "metadata": {},
   "outputs": [
    {
     "name": "stdout",
     "output_type": "stream",
     "text": [
      "The current model stage is: 'Production'\n"
     ]
    }
   ],
   "source": [
    "model_version_details = client.get_model_version(\n",
    "  name=model_name,\n",
    "  version=model_version,\n",
    ")\n",
    "print(\"The current model stage is: '{stage}'\".format(stage=model_version_details.current_stage))"
   ]
  },
  {
   "cell_type": "code",
   "execution_count": 9,
   "id": "ac8a69f3",
   "metadata": {},
   "outputs": [
    {
     "name": "stdout",
     "output_type": "stream",
     "text": [
      "The latest production version of the model 'prophet_forecasting' is '1'.\n"
     ]
    }
   ],
   "source": [
    "latest_version_info = client.get_latest_versions(model_name, stages=[\"Production\"])\n",
    "latest_production_version = latest_version_info[0].version\n",
    "print(\"The latest production version of the model '%s' is '%s'.\" % (model_name, latest_production_version))"
   ]
  },
  {
   "cell_type": "code",
   "execution_count": null,
   "id": "c8f99d04",
   "metadata": {},
   "outputs": [],
   "source": []
  }
 ],
 "metadata": {
  "celltoolbar": "Tags",
  "kernelspec": {
   "display_name": "Python 3 (ipykernel)",
   "language": "python",
   "name": "python3"
  },
  "language_info": {
   "codemirror_mode": {
    "name": "ipython",
    "version": 3
   },
   "file_extension": ".py",
   "mimetype": "text/x-python",
   "name": "python",
   "nbconvert_exporter": "python",
   "pygments_lexer": "ipython3",
   "version": "3.8.16"
  }
 },
 "nbformat": 4,
 "nbformat_minor": 5
}
